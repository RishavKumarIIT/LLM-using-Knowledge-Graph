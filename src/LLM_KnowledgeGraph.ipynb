{
  "cells": [
    {
      "cell_type": "code",
      "execution_count": null,
      "metadata": {
        "id": "PGaiky_sYu6-"
      },
      "outputs": [],
      "source": [
        "#!pip install pandas\n",
        "#!pip install --upgrade --force-reinstall matplotlib\n"
      ]
    },
    {
      "cell_type": "code",
      "execution_count": null,
      "metadata": {
        "id": "paWDfn84GzI6"
      },
      "outputs": [],
      "source": [
        "import pandas as pd\n",
        "import numpy as np\n",
        "import matplotlib.pyplot as plt"
      ]
    },
    {
      "cell_type": "code",
      "execution_count": null,
      "metadata": {
        "colab": {
          "base_uri": "https://localhost:8080/"
        },
        "id": "_nN9CTJnYu6_",
        "outputId": "1a541207-8ed1-4185-b675-c0e6bff82410"
      },
      "outputs": [
        {
          "output_type": "stream",
          "name": "stdout",
          "text": [
            "cuda\n"
          ]
        }
      ],
      "source": [
        "import torch\n",
        "print(torch.device(\"cuda\" if torch.cuda.is_available() else \"cpu\"))"
      ]
    },
    {
      "cell_type": "code",
      "execution_count": null,
      "metadata": {
        "colab": {
          "base_uri": "https://localhost:8080/"
        },
        "id": "ap3j0aEGZSW7",
        "outputId": "8b354031-5038-4696-a33c-6c6208d793ba"
      },
      "outputs": [
        {
          "output_type": "stream",
          "name": "stdout",
          "text": [
            "Mounted at /content/drive\n"
          ]
        }
      ],
      "source": [
        "from google.colab import drive\n",
        "drive.mount(\"/content/drive\")"
      ]
    },
    {
      "cell_type": "code",
      "execution_count": null,
      "metadata": {
        "colab": {
          "base_uri": "https://localhost:8080/",
          "height": 217
        },
        "id": "IvCYPnaRRlks",
        "outputId": "5fa133f7-6199-4963-bd8c-92b76b2779e9",
        "scrolled": true
      },
      "outputs": [
        {
          "output_type": "execute_result",
          "data": {
            "text/plain": [
              "                    diseases  anxiety and nervousness  depression  \\\n",
              "0  abdominal aortic aneurysm                        0           0   \n",
              "\n",
              "   shortness of breath  depressive or psychotic symptoms  sharp chest pain  \\\n",
              "0                    1                                 0                 0   \n",
              "\n",
              "   dizziness  insomnia  abnormal involuntary movements  chest tightness  ...  \\\n",
              "0          0         0                               0                0  ...   \n",
              "\n",
              "   nose deformity  lump over jaw  sore in nose  hip weakness  back swelling  \\\n",
              "0               0              0             0             0              0   \n",
              "\n",
              "   ankle stiffness or tightness  ankle weakness  neck weakness  \\\n",
              "0                             0               0              0   \n",
              "\n",
              "                       prescription               medicine  \n",
              "0  Beta-blockers, Surgery if needed  Propranolol, Atenolol  \n",
              "\n",
              "[1 rows x 380 columns]"
            ],
            "text/html": [
              "\n",
              "  <div id=\"df-fc424271-3041-45c2-b871-b4eeb1627ba6\" class=\"colab-df-container\">\n",
              "    <div>\n",
              "<style scoped>\n",
              "    .dataframe tbody tr th:only-of-type {\n",
              "        vertical-align: middle;\n",
              "    }\n",
              "\n",
              "    .dataframe tbody tr th {\n",
              "        vertical-align: top;\n",
              "    }\n",
              "\n",
              "    .dataframe thead th {\n",
              "        text-align: right;\n",
              "    }\n",
              "</style>\n",
              "<table border=\"1\" class=\"dataframe\">\n",
              "  <thead>\n",
              "    <tr style=\"text-align: right;\">\n",
              "      <th></th>\n",
              "      <th>diseases</th>\n",
              "      <th>anxiety and nervousness</th>\n",
              "      <th>depression</th>\n",
              "      <th>shortness of breath</th>\n",
              "      <th>depressive or psychotic symptoms</th>\n",
              "      <th>sharp chest pain</th>\n",
              "      <th>dizziness</th>\n",
              "      <th>insomnia</th>\n",
              "      <th>abnormal involuntary movements</th>\n",
              "      <th>chest tightness</th>\n",
              "      <th>...</th>\n",
              "      <th>nose deformity</th>\n",
              "      <th>lump over jaw</th>\n",
              "      <th>sore in nose</th>\n",
              "      <th>hip weakness</th>\n",
              "      <th>back swelling</th>\n",
              "      <th>ankle stiffness or tightness</th>\n",
              "      <th>ankle weakness</th>\n",
              "      <th>neck weakness</th>\n",
              "      <th>prescription</th>\n",
              "      <th>medicine</th>\n",
              "    </tr>\n",
              "  </thead>\n",
              "  <tbody>\n",
              "    <tr>\n",
              "      <th>0</th>\n",
              "      <td>abdominal aortic aneurysm</td>\n",
              "      <td>0</td>\n",
              "      <td>0</td>\n",
              "      <td>1</td>\n",
              "      <td>0</td>\n",
              "      <td>0</td>\n",
              "      <td>0</td>\n",
              "      <td>0</td>\n",
              "      <td>0</td>\n",
              "      <td>0</td>\n",
              "      <td>...</td>\n",
              "      <td>0</td>\n",
              "      <td>0</td>\n",
              "      <td>0</td>\n",
              "      <td>0</td>\n",
              "      <td>0</td>\n",
              "      <td>0</td>\n",
              "      <td>0</td>\n",
              "      <td>0</td>\n",
              "      <td>Beta-blockers, Surgery if needed</td>\n",
              "      <td>Propranolol, Atenolol</td>\n",
              "    </tr>\n",
              "  </tbody>\n",
              "</table>\n",
              "<p>1 rows × 380 columns</p>\n",
              "</div>\n",
              "    <div class=\"colab-df-buttons\">\n",
              "\n",
              "  <div class=\"colab-df-container\">\n",
              "    <button class=\"colab-df-convert\" onclick=\"convertToInteractive('df-fc424271-3041-45c2-b871-b4eeb1627ba6')\"\n",
              "            title=\"Convert this dataframe to an interactive table.\"\n",
              "            style=\"display:none;\">\n",
              "\n",
              "  <svg xmlns=\"http://www.w3.org/2000/svg\" height=\"24px\" viewBox=\"0 -960 960 960\">\n",
              "    <path d=\"M120-120v-720h720v720H120Zm60-500h600v-160H180v160Zm220 220h160v-160H400v160Zm0 220h160v-160H400v160ZM180-400h160v-160H180v160Zm440 0h160v-160H620v160ZM180-180h160v-160H180v160Zm440 0h160v-160H620v160Z\"/>\n",
              "  </svg>\n",
              "    </button>\n",
              "\n",
              "  <style>\n",
              "    .colab-df-container {\n",
              "      display:flex;\n",
              "      gap: 12px;\n",
              "    }\n",
              "\n",
              "    .colab-df-convert {\n",
              "      background-color: #E8F0FE;\n",
              "      border: none;\n",
              "      border-radius: 50%;\n",
              "      cursor: pointer;\n",
              "      display: none;\n",
              "      fill: #1967D2;\n",
              "      height: 32px;\n",
              "      padding: 0 0 0 0;\n",
              "      width: 32px;\n",
              "    }\n",
              "\n",
              "    .colab-df-convert:hover {\n",
              "      background-color: #E2EBFA;\n",
              "      box-shadow: 0px 1px 2px rgba(60, 64, 67, 0.3), 0px 1px 3px 1px rgba(60, 64, 67, 0.15);\n",
              "      fill: #174EA6;\n",
              "    }\n",
              "\n",
              "    .colab-df-buttons div {\n",
              "      margin-bottom: 4px;\n",
              "    }\n",
              "\n",
              "    [theme=dark] .colab-df-convert {\n",
              "      background-color: #3B4455;\n",
              "      fill: #D2E3FC;\n",
              "    }\n",
              "\n",
              "    [theme=dark] .colab-df-convert:hover {\n",
              "      background-color: #434B5C;\n",
              "      box-shadow: 0px 1px 3px 1px rgba(0, 0, 0, 0.15);\n",
              "      filter: drop-shadow(0px 1px 2px rgba(0, 0, 0, 0.3));\n",
              "      fill: #FFFFFF;\n",
              "    }\n",
              "  </style>\n",
              "\n",
              "    <script>\n",
              "      const buttonEl =\n",
              "        document.querySelector('#df-fc424271-3041-45c2-b871-b4eeb1627ba6 button.colab-df-convert');\n",
              "      buttonEl.style.display =\n",
              "        google.colab.kernel.accessAllowed ? 'block' : 'none';\n",
              "\n",
              "      async function convertToInteractive(key) {\n",
              "        const element = document.querySelector('#df-fc424271-3041-45c2-b871-b4eeb1627ba6');\n",
              "        const dataTable =\n",
              "          await google.colab.kernel.invokeFunction('convertToInteractive',\n",
              "                                                    [key], {});\n",
              "        if (!dataTable) return;\n",
              "\n",
              "        const docLinkHtml = 'Like what you see? Visit the ' +\n",
              "          '<a target=\"_blank\" href=https://colab.research.google.com/notebooks/data_table.ipynb>data table notebook</a>'\n",
              "          + ' to learn more about interactive tables.';\n",
              "        element.innerHTML = '';\n",
              "        dataTable['output_type'] = 'display_data';\n",
              "        await google.colab.output.renderOutput(dataTable, element);\n",
              "        const docLink = document.createElement('div');\n",
              "        docLink.innerHTML = docLinkHtml;\n",
              "        element.appendChild(docLink);\n",
              "      }\n",
              "    </script>\n",
              "  </div>\n",
              "\n",
              "\n",
              "    </div>\n",
              "  </div>\n"
            ],
            "application/vnd.google.colaboratory.intrinsic+json": {
              "type": "dataframe",
              "variable_name": "data3"
            }
          },
          "metadata": {},
          "execution_count": 5
        }
      ],
      "source": [
        "#data3=pd.read_csv(\"C:/Users/CSE IIT BHILAI/Desktop/RishavKumar(M24DS012)/updated_diseases_dataset.csv\")\n",
        "data3=pd.read_csv(\"/content/drive/MyDrive/updated_diseases_dataset.csv\")\n",
        "data3.head(1)"
      ]
    },
    {
      "cell_type": "code",
      "execution_count": null,
      "metadata": {
        "colab": {
          "base_uri": "https://localhost:8080/"
        },
        "id": "oY1r0NEyYu6_",
        "outputId": "9169a516-0b40-4df7-bec2-06eed72e54c3"
      },
      "outputs": [
        {
          "output_type": "stream",
          "name": "stdout",
          "text": [
            "<class 'pandas.core.frame.DataFrame'>\n",
            "RangeIndex: 773 entries, 0 to 772\n",
            "Columns: 380 entries, diseases to medicine\n",
            "dtypes: int64(377), object(3)\n",
            "memory usage: 2.2+ MB\n"
          ]
        }
      ],
      "source": [
        "data3.info()"
      ]
    },
    {
      "cell_type": "code",
      "execution_count": null,
      "metadata": {
        "id": "6rIM5CdASOrL"
      },
      "outputs": [],
      "source": [
        "medicine_counts = data3['medicine'].value_counts()\n",
        "\n",
        "# Display frequency count in the required format\n",
        "#for medicine, count in medicine_counts.items():\n",
        " #   print(f\"{medicine} = {count}\")"
      ]
    },
    {
      "cell_type": "code",
      "execution_count": null,
      "metadata": {
        "id": "VWDBqu0oS5Ys"
      },
      "outputs": [],
      "source": [
        "#!pip install pandas networkx pyvis\n",
        "#!pip install rdflib\n",
        "#!pip install pandas networkx pyvis\n",
        "#!pip install spacy"
      ]
    },
    {
      "cell_type": "code",
      "execution_count": null,
      "metadata": {
        "colab": {
          "base_uri": "https://localhost:8080/",
          "height": 293
        },
        "id": "PgMXaH9n4Mof",
        "outputId": "8045c5dc-8ecb-46de-f9c2-bc7ea3d03fcd"
      },
      "outputs": [
        {
          "output_type": "execute_result",
          "data": {
            "text/plain": [
              "                    diseases                        prescription  \\\n",
              "0  abdominal aortic aneurysm    Beta-blockers, Surgery if needed   \n",
              "1           abdominal hernia            Surgery, Pain management   \n",
              "2            abscess of nose  Antibiotics, Incision and drainage   \n",
              "3        abscess of the lung    Antibiotics, Drainage of abscess   \n",
              "4     abscess of the pharynx      Antibiotics, Surgical drainage   \n",
              "\n",
              "                                 medicine  \\\n",
              "0                 [Propranolol, Atenolol]   \n",
              "1              [Ibuprofen, Acetaminophen]   \n",
              "2              [Amoxicillin, Clindamycin]   \n",
              "3              [Piperacillin, Tazobactam]   \n",
              "4  [Amoxicillin-Clavulanate, Ceftriaxone]   \n",
              "\n",
              "                                        symptom_list  \n",
              "0  [shortness of breath, palpitations, sharp abdo...  \n",
              "1  [groin mass, symptoms of the scrotum and teste...  \n",
              "2  [sore throat, cough, nasal congestion, irritab...  \n",
              "3  [shortness of breath, depressive or psychotic ...  \n",
              "4  [sharp chest pain, sore throat, cough, nasal c...  "
            ],
            "text/html": [
              "\n",
              "  <div id=\"df-5f423c1e-7b27-4b2b-8f6f-f5f9fdb2413f\" class=\"colab-df-container\">\n",
              "    <div>\n",
              "<style scoped>\n",
              "    .dataframe tbody tr th:only-of-type {\n",
              "        vertical-align: middle;\n",
              "    }\n",
              "\n",
              "    .dataframe tbody tr th {\n",
              "        vertical-align: top;\n",
              "    }\n",
              "\n",
              "    .dataframe thead th {\n",
              "        text-align: right;\n",
              "    }\n",
              "</style>\n",
              "<table border=\"1\" class=\"dataframe\">\n",
              "  <thead>\n",
              "    <tr style=\"text-align: right;\">\n",
              "      <th></th>\n",
              "      <th>diseases</th>\n",
              "      <th>prescription</th>\n",
              "      <th>medicine</th>\n",
              "      <th>symptom_list</th>\n",
              "    </tr>\n",
              "  </thead>\n",
              "  <tbody>\n",
              "    <tr>\n",
              "      <th>0</th>\n",
              "      <td>abdominal aortic aneurysm</td>\n",
              "      <td>Beta-blockers, Surgery if needed</td>\n",
              "      <td>[Propranolol, Atenolol]</td>\n",
              "      <td>[shortness of breath, palpitations, sharp abdo...</td>\n",
              "    </tr>\n",
              "    <tr>\n",
              "      <th>1</th>\n",
              "      <td>abdominal hernia</td>\n",
              "      <td>Surgery, Pain management</td>\n",
              "      <td>[Ibuprofen, Acetaminophen]</td>\n",
              "      <td>[groin mass, symptoms of the scrotum and teste...</td>\n",
              "    </tr>\n",
              "    <tr>\n",
              "      <th>2</th>\n",
              "      <td>abscess of nose</td>\n",
              "      <td>Antibiotics, Incision and drainage</td>\n",
              "      <td>[Amoxicillin, Clindamycin]</td>\n",
              "      <td>[sore throat, cough, nasal congestion, irritab...</td>\n",
              "    </tr>\n",
              "    <tr>\n",
              "      <th>3</th>\n",
              "      <td>abscess of the lung</td>\n",
              "      <td>Antibiotics, Drainage of abscess</td>\n",
              "      <td>[Piperacillin, Tazobactam]</td>\n",
              "      <td>[shortness of breath, depressive or psychotic ...</td>\n",
              "    </tr>\n",
              "    <tr>\n",
              "      <th>4</th>\n",
              "      <td>abscess of the pharynx</td>\n",
              "      <td>Antibiotics, Surgical drainage</td>\n",
              "      <td>[Amoxicillin-Clavulanate, Ceftriaxone]</td>\n",
              "      <td>[sharp chest pain, sore throat, cough, nasal c...</td>\n",
              "    </tr>\n",
              "  </tbody>\n",
              "</table>\n",
              "</div>\n",
              "    <div class=\"colab-df-buttons\">\n",
              "\n",
              "  <div class=\"colab-df-container\">\n",
              "    <button class=\"colab-df-convert\" onclick=\"convertToInteractive('df-5f423c1e-7b27-4b2b-8f6f-f5f9fdb2413f')\"\n",
              "            title=\"Convert this dataframe to an interactive table.\"\n",
              "            style=\"display:none;\">\n",
              "\n",
              "  <svg xmlns=\"http://www.w3.org/2000/svg\" height=\"24px\" viewBox=\"0 -960 960 960\">\n",
              "    <path d=\"M120-120v-720h720v720H120Zm60-500h600v-160H180v160Zm220 220h160v-160H400v160Zm0 220h160v-160H400v160ZM180-400h160v-160H180v160Zm440 0h160v-160H620v160ZM180-180h160v-160H180v160Zm440 0h160v-160H620v160Z\"/>\n",
              "  </svg>\n",
              "    </button>\n",
              "\n",
              "  <style>\n",
              "    .colab-df-container {\n",
              "      display:flex;\n",
              "      gap: 12px;\n",
              "    }\n",
              "\n",
              "    .colab-df-convert {\n",
              "      background-color: #E8F0FE;\n",
              "      border: none;\n",
              "      border-radius: 50%;\n",
              "      cursor: pointer;\n",
              "      display: none;\n",
              "      fill: #1967D2;\n",
              "      height: 32px;\n",
              "      padding: 0 0 0 0;\n",
              "      width: 32px;\n",
              "    }\n",
              "\n",
              "    .colab-df-convert:hover {\n",
              "      background-color: #E2EBFA;\n",
              "      box-shadow: 0px 1px 2px rgba(60, 64, 67, 0.3), 0px 1px 3px 1px rgba(60, 64, 67, 0.15);\n",
              "      fill: #174EA6;\n",
              "    }\n",
              "\n",
              "    .colab-df-buttons div {\n",
              "      margin-bottom: 4px;\n",
              "    }\n",
              "\n",
              "    [theme=dark] .colab-df-convert {\n",
              "      background-color: #3B4455;\n",
              "      fill: #D2E3FC;\n",
              "    }\n",
              "\n",
              "    [theme=dark] .colab-df-convert:hover {\n",
              "      background-color: #434B5C;\n",
              "      box-shadow: 0px 1px 3px 1px rgba(0, 0, 0, 0.15);\n",
              "      filter: drop-shadow(0px 1px 2px rgba(0, 0, 0, 0.3));\n",
              "      fill: #FFFFFF;\n",
              "    }\n",
              "  </style>\n",
              "\n",
              "    <script>\n",
              "      const buttonEl =\n",
              "        document.querySelector('#df-5f423c1e-7b27-4b2b-8f6f-f5f9fdb2413f button.colab-df-convert');\n",
              "      buttonEl.style.display =\n",
              "        google.colab.kernel.accessAllowed ? 'block' : 'none';\n",
              "\n",
              "      async function convertToInteractive(key) {\n",
              "        const element = document.querySelector('#df-5f423c1e-7b27-4b2b-8f6f-f5f9fdb2413f');\n",
              "        const dataTable =\n",
              "          await google.colab.kernel.invokeFunction('convertToInteractive',\n",
              "                                                    [key], {});\n",
              "        if (!dataTable) return;\n",
              "\n",
              "        const docLinkHtml = 'Like what you see? Visit the ' +\n",
              "          '<a target=\"_blank\" href=https://colab.research.google.com/notebooks/data_table.ipynb>data table notebook</a>'\n",
              "          + ' to learn more about interactive tables.';\n",
              "        element.innerHTML = '';\n",
              "        dataTable['output_type'] = 'display_data';\n",
              "        await google.colab.output.renderOutput(dataTable, element);\n",
              "        const docLink = document.createElement('div');\n",
              "        docLink.innerHTML = docLinkHtml;\n",
              "        element.appendChild(docLink);\n",
              "      }\n",
              "    </script>\n",
              "  </div>\n",
              "\n",
              "\n",
              "<div id=\"df-2791bd06-bc8a-43c9-af66-675756464b3f\">\n",
              "  <button class=\"colab-df-quickchart\" onclick=\"quickchart('df-2791bd06-bc8a-43c9-af66-675756464b3f')\"\n",
              "            title=\"Suggest charts\"\n",
              "            style=\"display:none;\">\n",
              "\n",
              "<svg xmlns=\"http://www.w3.org/2000/svg\" height=\"24px\"viewBox=\"0 0 24 24\"\n",
              "     width=\"24px\">\n",
              "    <g>\n",
              "        <path d=\"M19 3H5c-1.1 0-2 .9-2 2v14c0 1.1.9 2 2 2h14c1.1 0 2-.9 2-2V5c0-1.1-.9-2-2-2zM9 17H7v-7h2v7zm4 0h-2V7h2v10zm4 0h-2v-4h2v4z\"/>\n",
              "    </g>\n",
              "</svg>\n",
              "  </button>\n",
              "\n",
              "<style>\n",
              "  .colab-df-quickchart {\n",
              "      --bg-color: #E8F0FE;\n",
              "      --fill-color: #1967D2;\n",
              "      --hover-bg-color: #E2EBFA;\n",
              "      --hover-fill-color: #174EA6;\n",
              "      --disabled-fill-color: #AAA;\n",
              "      --disabled-bg-color: #DDD;\n",
              "  }\n",
              "\n",
              "  [theme=dark] .colab-df-quickchart {\n",
              "      --bg-color: #3B4455;\n",
              "      --fill-color: #D2E3FC;\n",
              "      --hover-bg-color: #434B5C;\n",
              "      --hover-fill-color: #FFFFFF;\n",
              "      --disabled-bg-color: #3B4455;\n",
              "      --disabled-fill-color: #666;\n",
              "  }\n",
              "\n",
              "  .colab-df-quickchart {\n",
              "    background-color: var(--bg-color);\n",
              "    border: none;\n",
              "    border-radius: 50%;\n",
              "    cursor: pointer;\n",
              "    display: none;\n",
              "    fill: var(--fill-color);\n",
              "    height: 32px;\n",
              "    padding: 0;\n",
              "    width: 32px;\n",
              "  }\n",
              "\n",
              "  .colab-df-quickchart:hover {\n",
              "    background-color: var(--hover-bg-color);\n",
              "    box-shadow: 0 1px 2px rgba(60, 64, 67, 0.3), 0 1px 3px 1px rgba(60, 64, 67, 0.15);\n",
              "    fill: var(--button-hover-fill-color);\n",
              "  }\n",
              "\n",
              "  .colab-df-quickchart-complete:disabled,\n",
              "  .colab-df-quickchart-complete:disabled:hover {\n",
              "    background-color: var(--disabled-bg-color);\n",
              "    fill: var(--disabled-fill-color);\n",
              "    box-shadow: none;\n",
              "  }\n",
              "\n",
              "  .colab-df-spinner {\n",
              "    border: 2px solid var(--fill-color);\n",
              "    border-color: transparent;\n",
              "    border-bottom-color: var(--fill-color);\n",
              "    animation:\n",
              "      spin 1s steps(1) infinite;\n",
              "  }\n",
              "\n",
              "  @keyframes spin {\n",
              "    0% {\n",
              "      border-color: transparent;\n",
              "      border-bottom-color: var(--fill-color);\n",
              "      border-left-color: var(--fill-color);\n",
              "    }\n",
              "    20% {\n",
              "      border-color: transparent;\n",
              "      border-left-color: var(--fill-color);\n",
              "      border-top-color: var(--fill-color);\n",
              "    }\n",
              "    30% {\n",
              "      border-color: transparent;\n",
              "      border-left-color: var(--fill-color);\n",
              "      border-top-color: var(--fill-color);\n",
              "      border-right-color: var(--fill-color);\n",
              "    }\n",
              "    40% {\n",
              "      border-color: transparent;\n",
              "      border-right-color: var(--fill-color);\n",
              "      border-top-color: var(--fill-color);\n",
              "    }\n",
              "    60% {\n",
              "      border-color: transparent;\n",
              "      border-right-color: var(--fill-color);\n",
              "    }\n",
              "    80% {\n",
              "      border-color: transparent;\n",
              "      border-right-color: var(--fill-color);\n",
              "      border-bottom-color: var(--fill-color);\n",
              "    }\n",
              "    90% {\n",
              "      border-color: transparent;\n",
              "      border-bottom-color: var(--fill-color);\n",
              "    }\n",
              "  }\n",
              "</style>\n",
              "\n",
              "  <script>\n",
              "    async function quickchart(key) {\n",
              "      const quickchartButtonEl =\n",
              "        document.querySelector('#' + key + ' button');\n",
              "      quickchartButtonEl.disabled = true;  // To prevent multiple clicks.\n",
              "      quickchartButtonEl.classList.add('colab-df-spinner');\n",
              "      try {\n",
              "        const charts = await google.colab.kernel.invokeFunction(\n",
              "            'suggestCharts', [key], {});\n",
              "      } catch (error) {\n",
              "        console.error('Error during call to suggestCharts:', error);\n",
              "      }\n",
              "      quickchartButtonEl.classList.remove('colab-df-spinner');\n",
              "      quickchartButtonEl.classList.add('colab-df-quickchart-complete');\n",
              "    }\n",
              "    (() => {\n",
              "      let quickchartButtonEl =\n",
              "        document.querySelector('#df-2791bd06-bc8a-43c9-af66-675756464b3f button');\n",
              "      quickchartButtonEl.style.display =\n",
              "        google.colab.kernel.accessAllowed ? 'block' : 'none';\n",
              "    })();\n",
              "  </script>\n",
              "</div>\n",
              "\n",
              "    </div>\n",
              "  </div>\n"
            ],
            "application/vnd.google.colaboratory.intrinsic+json": {
              "type": "dataframe",
              "variable_name": "data4",
              "summary": "{\n  \"name\": \"data4\",\n  \"rows\": 773,\n  \"fields\": [\n    {\n      \"column\": \"diseases\",\n      \"properties\": {\n        \"dtype\": \"string\",\n        \"num_unique_values\": 773,\n        \"samples\": [\n          \"ileus\",\n          \"stye\",\n          \"osteoarthritis\"\n        ],\n        \"semantic_type\": \"\",\n        \"description\": \"\"\n      }\n    },\n    {\n      \"column\": \"prescription\",\n      \"properties\": {\n        \"dtype\": \"category\",\n        \"num_unique_values\": 62,\n        \"samples\": [\n          \"Behavioral therapy, Educational support\",\n          \"Anticoagulants, Rate control\",\n          \"Beta-blockers, Surgery if needed\"\n        ],\n        \"semantic_type\": \"\",\n        \"description\": \"\"\n      }\n    },\n    {\n      \"column\": \"medicine\",\n      \"properties\": {\n        \"dtype\": \"object\",\n        \"semantic_type\": \"\",\n        \"description\": \"\"\n      }\n    },\n    {\n      \"column\": \"symptom_list\",\n      \"properties\": {\n        \"dtype\": \"object\",\n        \"semantic_type\": \"\",\n        \"description\": \"\"\n      }\n    }\n  ]\n}"
            }
          },
          "metadata": {},
          "execution_count": 9
        }
      ],
      "source": [
        "disease_symptoms = {}\n",
        "\n",
        "def extract_symptoms(row):\n",
        "    return [col for col in data3.columns[1:-3] if row[col] == 1]\n",
        "\n",
        "data3[\"symptom_list\"] = data3.apply(extract_symptoms, axis=1)\n",
        "\n",
        "data3[\"medicine\"] = data3[\"medicine\"].apply(lambda x: [med.strip() for med in x.split(\",\")] if isinstance(x, str) else x)\n",
        "\n",
        "\n",
        "data4=data3[[\"diseases\",\"prescription\",\"medicine\",\"symptom_list\"]]\n",
        "data4.head()\n"
      ]
    },
    {
      "cell_type": "code",
      "execution_count": null,
      "metadata": {
        "colab": {
          "base_uri": "https://localhost:8080/",
          "height": 609
        },
        "id": "VglZvixPtjnJ",
        "outputId": "15a08182-63aa-4c46-a7c7-b1349051f264"
      },
      "outputs": [
        {
          "output_type": "display_data",
          "data": {
            "text/plain": [
              "<Figure size 1200x800 with 1 Axes>"
            ],
            "image/png": "[encoded data removed]"
          },
          "metadata": {}
        }
      ],
      "source": [
        "\n",
        "import networkx as nx\n",
        "\n",
        "# Convert to DataFrame\n",
        "df = data3.head(10)\n",
        "\n",
        "# Create a directed graph\n",
        "G = nx.DiGraph()\n",
        "edge_labels={}\n",
        "\n",
        "# Add nodes and edges\n",
        "for _, row in df.iterrows():\n",
        "    disease = row[\"diseases\"]\n",
        "    G.add_node(disease, type=\"disease\")  # Add disease node\n",
        "\n",
        "    # Add symptom nodes and edges\n",
        "    for symptom in row[\"symptom_list\"]:\n",
        "        G.add_node(symptom, type=\"symptom\")\n",
        "        G.add_edge(disease, symptom, relation=\"has_symptom\")\n",
        "        edge_labels[(disease, symptom)] = \"has_symptoms\"\n",
        "\n",
        "        G.add_edge(symptom, disease, relation=\"symptom_of\")\n",
        "        edge_labels[(symptom, disease)] = \"symptom_of\"\n",
        "\n",
        "    # Add prescription node\n",
        "    prescription = row[\"prescription\"]\n",
        "    G.add_node(prescription, type=\"prescription\")\n",
        "    G.add_edge(disease, prescription, relation=\"treated_with\")\n",
        "    edge_labels[(disease, prescription)] = \"treated_with\"\n",
        "\n",
        "    G.add_edge(prescription, disease, relation=\"prescription of\")\n",
        "    edge_labels[(prescription, disease)] = \"prescription of\"\n",
        "\n",
        "    # Add medicine nodes and edges\n",
        "    #medicines = row[\"medicine\"].split(\", \")\n",
        "    for med in row[\"medicine\"]:\n",
        "        G.add_node(med, type=\"medicine\")\n",
        "        G.add_edge(disease, med, relation=\"prescribed_medicine\")\n",
        "        edge_labels[(disease, med)] = \"prescribed medecines\"\n",
        "\n",
        "        G.add_edge(med, disease, relation=\"medicine for\")\n",
        "        edge_labels[(med, disease)] = \"medecines for\"\n",
        "\n",
        "plt.figure(figsize=(12, 8))\n",
        "pos = nx.spring_layout(G, seed=42)  # Positioning of nodes\n",
        "nx.draw(G, pos, with_labels=True, node_size=3000, node_color=\"lightblue\", font_size=8, edge_color=\"gray\")\n",
        "\n",
        "# Draw edge labels (relation names)\n",
        "nx.draw_networkx_edge_labels(G, pos, edge_labels=edge_labels, font_color=\"red\", font_size=8)\n",
        "\n",
        "# Show the graph\n",
        "plt.title(\"Medical Knowledge Graph\")\n",
        "plt.show()\n",
        "\n",
        "\n"
      ]
    },
    {
      "cell_type": "code",
      "execution_count": null,
      "metadata": {
        "colab": {
          "base_uri": "https://localhost:8080/"
        },
        "id": "zE7tk692Yu7A",
        "outputId": "cea3b98a-2c0b-4a8c-a897-ca934def06a3"
      },
      "outputs": [
        {
          "output_type": "stream",
          "name": "stdout",
          "text": [
            "3.8.5\n"
          ]
        }
      ],
      "source": [
        "#pip install --upgrade pip setuptools wheel\n",
        "#!pip install nltk\n",
        "#!pip install flair\n",
        "#!pip install textblob\n",
        "#!pip install numpy==1.24.0\n",
        "#!pip install cython\n",
        "import spacy\n",
        "\n",
        "# Check the spaCy version\n",
        "print(spacy.__version__)"
      ]
    },
    {
      "cell_type": "code",
      "execution_count": null,
      "metadata": {
        "id": "JaCbsD_I6Kf7"
      },
      "outputs": [],
      "source": [
        "import networkx as nx\n",
        "import torch\n",
        "from difflib import get_close_matches\n",
        "from textblob import TextBlob\n",
        "\n",
        "def correct_spelling(text):\n",
        "    \"\"\"\n",
        "    Corrects spelling mistakes in the query using TextBlob.\n",
        "    \"\"\"\n",
        "    return str(TextBlob(text).correct())\n",
        "\n",
        "def extract_query_entities_and_relations(query: str, kg: nx.Graph):\n",
        "    query = correct_spelling(query)\n",
        "    nlp = spacy.load(\"en_core_web_sm\")\n",
        "    doc = nlp(query)\n",
        "\n",
        "    predefined_relations = {\"has_symptom\", \"treated_with\", \"prescription of\", \"medicines for\", \"symptom_of\"}\n",
        "\n",
        "    # Extract named entities and noun chunks as candidate entities\n",
        "    candidate_entities = set(ent.text for ent in doc.ents) | set(chunk.text for chunk in doc.noun_chunks)\n",
        "\n",
        "    print(\"Candidate Entities Before Matching:\", candidate_entities)  # Debugging line\n",
        "\n",
        "    # Ensure case-insensitive entity matching\n",
        "    kg_nodes_lower = {node.lower(): node for node in kg.nodes}  # Map lowercase to original node names\n",
        "    matched_entities = [kg_nodes_lower[entity.lower()] for entity in candidate_entities if entity.lower() in kg_nodes_lower]\n",
        "\n",
        "    if not matched_entities:\n",
        "        for entity in candidate_entities:\n",
        "            close_matches = get_close_matches(entity.lower(), kg_nodes_lower.keys(), n=1, cutoff=0.6)\n",
        "            matched_entities.extend([kg_nodes_lower[match] for match in close_matches])\n",
        "\n",
        "    # Extract potential relations (verbs & prepositions)\n",
        "    candidate_relations = set(token.lemma_ for token in doc if token.pos_ in [\"VERB\", \"ADP\"])\n",
        "\n",
        "    # Ensure predefined relations are always included if present in the query\n",
        "    for relation in predefined_relations:\n",
        "        if relation in query:\n",
        "            candidate_relations.add(relation)\n",
        "\n",
        "    # Extract relations from the KG (Find All Close Matches)\n",
        "    matched_relations = set()\n",
        "    kg_relations = [data[\"relation\"] for _, _, data in kg.edges(data=True) if \"relation\" in data]\n",
        "\n",
        "    for rel in candidate_relations:\n",
        "        close_matches = get_close_matches(rel, kg_relations, n=1, cutoff=0.6)  # Get multiple matches\n",
        "        matched_relations.update(close_matches)  # Add all similar relations\n",
        "\n",
        "    return matched_entities, list(matched_relations)\n"
      ]
    },
    {
      "cell_type": "code",
      "execution_count": null,
      "metadata": {
        "id": "ex-kPEUfQuhT"
      },
      "outputs": [],
      "source": [
        "import networkx as nx\n",
        "\n",
        "def retrieve_subgraph(kg: nx.Graph, query_entities: list, query_relations: list, hops: int = 2):\n",
        "    subgraph_nodes = set()\n",
        "    subgraph_edges = []\n",
        "\n",
        "    # Expand from query entities up to 'hops' levels\n",
        "    for entity in query_entities:\n",
        "        if entity in kg:\n",
        "            # Get all nodes within 'hops' distance from the query entity\n",
        "            neighbors = nx.single_source_shortest_path_length(kg, entity, cutoff=hops)\n",
        "            subgraph_nodes.update(neighbors.keys())\n",
        "\n",
        "    # If query relations are provided, filter edges based on the relations\n",
        "    if query_relations:\n",
        "        for u, v, data in kg.edges(data=True):\n",
        "            if u in subgraph_nodes and v in subgraph_nodes:\n",
        "                if \"relation\" in data and data[\"relation\"] in query_relations:\n",
        "                    subgraph_edges.append((u, v, data))\n",
        "    else:\n",
        "        # If no query relations are provided, include all edges between the retrieved nodes\n",
        "        for u in subgraph_nodes:\n",
        "            neighbors = list(kg.neighbors(u))  # Convert iterator to a list\n",
        "            #print(u, neighbors)\n",
        "            for v in neighbors:\n",
        "                #if v in subgraph_nodes:  # Ensure both nodes exist in the subgraph\n",
        "                    edge_data = kg.get_edge_data(u, v, default={})\n",
        "                    #print(edge_data)\n",
        "                    subgraph_edges.append((u, v, edge_data))\n",
        "\n",
        "    # Create the final subgraph with filtered nodes and edges\n",
        "    subgraph = nx.Graph()\n",
        "    subgraph.add_nodes_from(subgraph_nodes)\n",
        "    subgraph.add_edges_from(subgraph_edges)\n",
        "\n",
        "    return subgraph"
      ]
    },
    {
      "cell_type": "code",
      "execution_count": null,
      "metadata": {
        "colab": {
          "base_uri": "https://localhost:8080/"
        },
        "id": "5Bfx0Vm9QxGU",
        "outputId": "be7aa9d8-47a1-4d29-c81b-02aab90ccc74"
      },
      "outputs": [
        {
          "name": "stdout",
          "output_type": "stream",
          "text": [
            "Candidate Entities Before Matching: {'back pain', 'i', 'sore throat', 'I', 'cough', 'what', 'nasal congestion', 'the pharynx'}\n",
            "Extracted Entities: ['back pain', 'sore throat', 'cough', 'nasal congestion']\n",
            "Extracted Relations: ['has_symptom']\n",
            "Subgraph Nodes: ['Beta-blockers, Surgery if needed', 'abdominal aortic aneurysm', 'Amoxicillin-Clavulanate', 'Ceftriaxone', 'Tazobactam', 'Clindamycin', 'vomiting', 'depressive or psychotic symptoms', 'fever', 'sharp abdominal pain', 'headache', 'back pain', 'cough', 'sinus congestion', 'coryza', 'difficulty in swallowing', 'achalasia', 'Piperacillin', 'nasal congestion', 'Atenolol', 'throat swelling', 'irritable infant', 'Antibiotics, Incision and drainage', 'chest tightness', 'arm swelling', 'abscess of the lung', 'Antibiotics, Drainage of abscess', 'Amoxicillin', 'itchy eyelid', 'Antibiotics, Surgical drainage', 'Estrogen patches', 'abscess of the pharynx', 'shortness of breath', 'Hormone therapy', 'Levothyroxine', 'burning abdominal pain', 'sore throat', 'throat feels tight', 'Propranolol', 'abscess of nose', 'palpitations', 'sharp chest pain']\n",
            "Subgraph Edges: [('abdominal aortic aneurysm', 'shortness of breath'), ('abdominal aortic aneurysm', 'palpitations'), ('abdominal aortic aneurysm', 'sharp abdominal pain'), ('abdominal aortic aneurysm', 'arm swelling'), ('abdominal aortic aneurysm', 'back pain'), ('abdominal aortic aneurysm', 'burning abdominal pain'), ('vomiting', 'abscess of nose'), ('depressive or psychotic symptoms', 'abscess of the lung'), ('fever', 'abscess of nose'), ('fever', 'abscess of the pharynx'), ('headache', 'abscess of the pharynx'), ('cough', 'abscess of nose'), ('cough', 'abscess of the lung'), ('cough', 'abscess of the pharynx'), ('cough', 'achalasia'), ('sinus congestion', 'abscess of nose'), ('coryza', 'abscess of nose'), ('difficulty in swallowing', 'abscess of the pharynx'), ('difficulty in swallowing', 'achalasia'), ('achalasia', 'sharp chest pain'), ('achalasia', 'chest tightness'), ('achalasia', 'throat feels tight'), ('nasal congestion', 'abscess of nose'), ('nasal congestion', 'abscess of the pharynx'), ('throat swelling', 'abscess of the pharynx'), ('irritable infant', 'abscess of nose'), ('abscess of the lung', 'shortness of breath'), ('abscess of the lung', 'itchy eyelid'), ('abscess of the pharynx', 'sharp chest pain'), ('abscess of the pharynx', 'sore throat'), ('sore throat', 'abscess of nose')]\n"
          ]
        }
      ],
      "source": [
        "query = \"I haave back paiin,abscess of the pharynx and hedache what do i do has_symptom sore throat,  cough, nasal congestion\"\n",
        "entities, relations = extract_query_entities_and_relations(query, G)\n",
        "subgraph = retrieve_subgraph(G, entities, relations, hops=2)\n",
        "\n",
        "print(\"Extracted Entities:\", entities)\n",
        "print(\"Extracted Relations:\", relations)\n",
        "print(\"Subgraph Nodes:\", subgraph.nodes)\n",
        "print(\"Subgraph Edges:\", subgraph.edges)"
      ]
    },
    {
      "cell_type": "code",
      "execution_count": null,
      "metadata": {
        "colab": {
          "base_uri": "https://localhost:8080/",
          "height": 859
        },
        "id": "nCPYkOJZDSGO",
        "outputId": "fef7e305-73f3-4ac1-a4f8-4be5ebead41d"
      },
      "outputs": [
        {
          "data": {
            "image/png": "[encoded data removed]",
            "text/plain": [
              "<Figure size 1200x800 with 1 Axes>"
            ]
          },
          "metadata": {},
          "output_type": "display_data"
        }
      ],
      "source": [
        "plt.figure(figsize=(12, 8))\n",
        "pos = nx.spring_layout(subgraph, seed=42)  # Positioning of nodes\n",
        "nx.draw(subgraph, pos, with_labels=True, node_size=3000, node_color=\"lightblue\", font_size=8, edge_color=\"gray\")\n",
        "\n",
        "# Draw edge labels (relation names)\n",
        "nx.draw_networkx_edge_labels(subgraph, pos, font_color=\"red\", font_size=8)\n",
        "\n",
        "# Show the graph\n",
        "plt.title(\"Medical Knowledge Graph\")\n",
        "plt.show()"
      ]
    },
    {
      "cell_type": "code",
      "execution_count": null,
      "metadata": {
        "id": "9IKAolqlWHAb"
      },
      "outputs": [],
      "source": [
        "import spacy\n",
        "import torch\n",
        "import networkx as nx\n",
        "from textblob import TextBlob\n",
        "from difflib import get_close_matches\n",
        "\n",
        "class QueryGraphExtractor(torch.nn.Module):\n",
        "    def __init__(self, kg: nx.Graph, predefined_relations=None, hops: int = 2):\n",
        "        super().__init__()\n",
        "        self.kg = kg\n",
        "        self.hops = hops\n",
        "        self.predefined_relations = predefined_relations or {\"has_symptom\", \"treated_with\", \"prescription of\", \"medicines for\", \"symptom_of\"}\n",
        "        self.nlp = spacy.load(\"en_core_web_sm\")\n",
        "\n",
        "        # Preprocess KG nodes for case-insensitive matching\n",
        "        self.kg_nodes_lower = {node.lower(): node for node in self.kg.nodes}\n",
        "\n",
        "    def correct_spelling(self, text: str):\n",
        "        return str(TextBlob(text).correct())\n",
        "\n",
        "    def extract_entities_relations(self, query: str):\n",
        "        query = self.correct_spelling(query)\n",
        "        doc = self.nlp(query)\n",
        "\n",
        "        candidate_entities = set(ent.text for ent in doc.ents) | set(chunk.text for chunk in doc.noun_chunks)\n",
        "\n",
        "        matched_entities = [\n",
        "            self.kg_nodes_lower[entity.lower()] for entity in candidate_entities\n",
        "            if entity.lower() in self.kg_nodes_lower\n",
        "        ]\n",
        "\n",
        "        if not matched_entities:\n",
        "            for entity in candidate_entities:\n",
        "                close_matches = get_close_matches(entity.lower(), self.kg_nodes_lower.keys(), n=1, cutoff=0.6)\n",
        "                matched_entities.extend([self.kg_nodes_lower[match] for match in close_matches])\n",
        "\n",
        "        candidate_relations = set(token.lemma_ for token in doc if token.pos_ in [\"VERB\", \"ADP\"])\n",
        "        for relation in self.predefined_relations:\n",
        "            if relation in query:\n",
        "                candidate_relations.add(relation)\n",
        "\n",
        "        matched_relations = set()\n",
        "        kg_relations = [data[\"relation\"] for _, _, data in self.kg.edges(data=True) if \"relation\" in data]\n",
        "        for rel in candidate_relations:\n",
        "            close_matches = get_close_matches(rel, kg_relations, n=1, cutoff=0.6)\n",
        "            matched_relations.update(close_matches)\n",
        "\n",
        "        return matched_entities, list(matched_relations)\n",
        "\n",
        "    def retrieve_subgraph(self, entities: list, relations: list):\n",
        "        subgraph_nodes = set()\n",
        "        subgraph_edges = []\n",
        "\n",
        "        for entity in entities:\n",
        "            if entity in self.kg:\n",
        "                neighbors = nx.single_source_shortest_path_length(self.kg, entity, cutoff=self.hops)\n",
        "                subgraph_nodes.update(neighbors.keys())\n",
        "\n",
        "        if relations:\n",
        "            for u, v, data in self.kg.edges(data=True):\n",
        "                if u in subgraph_nodes and v in subgraph_nodes:\n",
        "                    if \"relation\" in data and data[\"relation\"] in relations:\n",
        "                        subgraph_edges.append((u, v, data))\n",
        "        else:\n",
        "            for u in subgraph_nodes:\n",
        "                for v in self.kg.neighbors(u):\n",
        "                    edge_data = self.kg.get_edge_data(u, v, default={})\n",
        "                    subgraph_edges.append((u, v, edge_data))\n",
        "\n",
        "        subgraph = nx.Graph()\n",
        "        subgraph.add_nodes_from(subgraph_nodes)\n",
        "        subgraph.add_edges_from(subgraph_edges)\n",
        "        return subgraph\n",
        "\n",
        "    def forward(self, query: str):\n",
        "        entities, relations = self.extract_entities_relations(query)\n",
        "        subgraph = self.retrieve_subgraph(entities, relations)\n",
        "        return subgraph, entities, relations\n"
      ]
    },
    {
      "cell_type": "code",
      "execution_count": null,
      "metadata": {
        "colab": {
          "base_uri": "https://localhost:8080/"
        },
        "id": "ML31FRuWWJDA",
        "outputId": "b89a656e-c91d-4bf8-eebb-e940f8e37b3f"
      },
      "outputs": [
        {
          "output_type": "stream",
          "name": "stdout",
          "text": [
            "Entities: ['cough', 'nasal congestion', 'sore throat', 'back pain']\n",
            "Relations: ['has_symptom']\n",
            "Subgraph: ['abscess of the pharynx', 'sharp chest pain', 'depressive or psychotic symptoms', 'Antibiotics, Incision and drainage', 'shortness of breath', 'Levothyroxine', 'Ceftriaxone', 'abdominal aortic aneurysm', 'Hormone therapy', 'Antibiotics, Drainage of abscess', 'itchy eyelid', 'chest tightness', 'vomiting', 'Propranolol', 'sore throat', 'irritable infant', 'Atenolol', 'fever', 'Amoxicillin', 'Amoxicillin-Clavulanate', 'Beta-blockers, Surgery if needed', 'difficulty in swallowing', 'Estrogen patches', 'nasal congestion', 'sinus congestion', 'headache', 'Tazobactam', 'coryza', 'Piperacillin', 'abscess of the lung', 'Clindamycin', 'throat feels tight', 'burning abdominal pain', 'cough', 'throat swelling', 'back pain', 'sharp abdominal pain', 'arm swelling', 'Antibiotics, Surgical drainage', 'achalasia', 'palpitations', 'abscess of nose'] [('abscess of the pharynx', 'sharp chest pain'), ('abscess of the pharynx', 'sore throat'), ('abscess of the pharynx', 'cough'), ('abscess of the pharynx', 'nasal congestion'), ('abscess of the pharynx', 'throat swelling'), ('abscess of the pharynx', 'difficulty in swallowing'), ('abscess of the pharynx', 'headache'), ('abscess of the pharynx', 'fever'), ('sharp chest pain', 'achalasia'), ('depressive or psychotic symptoms', 'abscess of the lung'), ('shortness of breath', 'abdominal aortic aneurysm'), ('shortness of breath', 'abscess of the lung'), ('abdominal aortic aneurysm', 'palpitations'), ('abdominal aortic aneurysm', 'sharp abdominal pain'), ('abdominal aortic aneurysm', 'arm swelling'), ('abdominal aortic aneurysm', 'back pain'), ('abdominal aortic aneurysm', 'burning abdominal pain'), ('itchy eyelid', 'abscess of the lung'), ('chest tightness', 'achalasia'), ('vomiting', 'abscess of nose'), ('sore throat', 'abscess of nose'), ('irritable infant', 'abscess of nose'), ('fever', 'abscess of nose'), ('difficulty in swallowing', 'achalasia'), ('nasal congestion', 'abscess of nose'), ('sinus congestion', 'abscess of nose'), ('coryza', 'abscess of nose'), ('abscess of the lung', 'cough'), ('throat feels tight', 'achalasia'), ('cough', 'abscess of nose'), ('cough', 'achalasia')]\n"
          ]
        }
      ],
      "source": [
        "kg_extractor = QueryGraphExtractor(kg=G)  # Pass your knowledge graph `G`\n",
        "\n",
        "query = \"I haave back paiin,abscess of the pharynx and hedache what do i do has_symptom sore throat,  cough, nasal congestion\"\n",
        "subgraph, entities, relations = kg_extractor(query)\n",
        "\n",
        "print(\"Entities:\", entities)\n",
        "print(\"Relations:\", relations)\n",
        "print(\"Subgraph:\", subgraph.nodes, subgraph.edges)\n"
      ]
    },
    {
      "cell_type": "code",
      "execution_count": null,
      "metadata": {
        "colab": {
          "base_uri": "https://localhost:8080/",
          "height": 609
        },
        "id": "UNDxbC0XWXRS",
        "outputId": "a623fc54-b890-4135-9f13-02dcfad17663"
      },
      "outputs": [
        {
          "output_type": "display_data",
          "data": {
            "text/plain": [
              "<Figure size 1200x800 with 1 Axes>"
            ],
            "image/png": "[encoded data removed]"
          },
          "metadata": {}
        }
      ],
      "source": [
        "plt.figure(figsize=(12, 8))\n",
        "pos = nx.spring_layout(subgraph, seed=42)  # Positioning of nodes\n",
        "nx.draw(subgraph, pos, with_labels=True, node_size=3000, node_color=\"lightblue\", font_size=8, edge_color=\"gray\")\n",
        "\n",
        "# Draw edge labels (relation names)\n",
        "nx.draw_networkx_edge_labels(subgraph, pos, font_color=\"red\", font_size=8)\n",
        "\n",
        "# Show the graph\n",
        "plt.title(\"Medical Knowledge Graph\")\n",
        "plt.show()"
      ]
    },
    {
      "cell_type": "code",
      "execution_count": null,
      "metadata": {
        "id": "5tVCUYu0Utqo"
      },
      "outputs": [],
      "source": [
        "def preprocess_full_graph(full_graph: nx.DiGraph):\n",
        "    node_mapping = {node: i for i, node in enumerate(full_graph.nodes)}\n",
        "    return node_mapping"
      ]
    },
    {
      "cell_type": "code",
      "execution_count": null,
      "metadata": {
        "id": "E98WeHFx9KbB"
      },
      "outputs": [],
      "source": [
        "global_mapping = preprocess_full_graph(G)\n"
      ]
    },
    {
      "cell_type": "code",
      "execution_count": null,
      "metadata": {
        "id": "NNEQKTwEYu7B"
      },
      "outputs": [],
      "source": [
        "def contrastive_loss(embeddings, edge_index, margin=1.0):\n",
        "    pos_pairs = embeddings[edge_index[0]] - embeddings[edge_index[1]]  # Differences for connected nodes\n",
        "    pos_loss = torch.mean(torch.norm(pos_pairs, dim=1) ** 2)  # L2 loss for positive pairs\n",
        "\n",
        "    # Negative sampling: Select random unconnected nodes\n",
        "    neg_idx = torch.randint(0, embeddings.shape[0], (edge_index.shape[1],))\n",
        "    neg_pairs = embeddings[edge_index[0]] - embeddings[neg_idx]\n",
        "    neg_loss = torch.mean(torch.clamp(margin - torch.norm(neg_pairs, dim=1), min=0) ** 2)  # Hinge loss for negatives\n",
        "\n",
        "    return pos_loss + neg_loss\n"
      ]
    },
    {
      "cell_type": "code",
      "execution_count": null,
      "metadata": {
        "id": "wRKN6znmoxya"
      },
      "outputs": [],
      "source": [
        "device = torch.device(\"cuda\" if torch.cuda.is_available() else \"cpu\")"
      ]
    },
    {
      "cell_type": "code",
      "execution_count": null,
      "metadata": {
        "id": "1-ScRNekGtHe",
        "colab": {
          "base_uri": "https://localhost:8080/"
        },
        "outputId": "e81438da-4fec-4da2-8462-2ad6725eb0e0"
      },
      "outputs": [
        {
          "output_type": "stream",
          "name": "stdout",
          "text": [
            "Requirement already satisfied: torch in /usr/local/lib/python3.11/dist-packages (2.6.0+cu124)\n",
            "Collecting torch_geometric\n",
            "  Downloading torch_geometric-2.6.1-py3-none-any.whl.metadata (63 kB)\n",
            "\u001b[?25l     \u001b[90m━━━━━━━━━━━━━━━━━━━━━━━━━━━━━━━━━━━━━━━━\u001b[0m \u001b[32m0.0/63.1 kB\u001b[0m \u001b[31m?\u001b[0m eta \u001b[36m-:--:--\u001b[0m\r\u001b[2K     \u001b[90m━━━━━━━━━━━━━━━━━━━━━━━━━━━━━━━━━━━━━━━━\u001b[0m \u001b[32m63.1/63.1 kB\u001b[0m \u001b[31m4.5 MB/s\u001b[0m eta \u001b[36m0:00:00\u001b[0m\n",
            "\u001b[?25hRequirement already satisfied: filelock in /usr/local/lib/python3.11/dist-packages (from torch) (3.18.0)\n",
            "Requirement already satisfied: typing-extensions>=4.10.0 in /usr/local/lib/python3.11/dist-packages (from torch) (4.13.1)\n",
            "Requirement already satisfied: networkx in /usr/local/lib/python3.11/dist-packages (from torch) (3.4.2)\n",
            "Requirement already satisfied: jinja2 in /usr/local/lib/python3.11/dist-packages (from torch) (3.1.6)\n",
            "Requirement already satisfied: fsspec in /usr/local/lib/python3.11/dist-packages (from torch) (2025.3.2)\n",
            "Collecting nvidia-cuda-nvrtc-cu12==12.4.127 (from torch)\n",
            "  Downloading nvidia_cuda_nvrtc_cu12-12.4.127-py3-none-manylinux2014_x86_64.whl.metadata (1.5 kB)\n",
            "Collecting nvidia-cuda-runtime-cu12==12.4.127 (from torch)\n",
            "  Downloading nvidia_cuda_runtime_cu12-12.4.127-py3-none-manylinux2014_x86_64.whl.metadata (1.5 kB)\n",
            "Collecting nvidia-cuda-cupti-cu12==12.4.127 (from torch)\n",
            "  Downloading nvidia_cuda_cupti_cu12-12.4.127-py3-none-manylinux2014_x86_64.whl.metadata (1.6 kB)\n",
            "Collecting nvidia-cudnn-cu12==9.1.0.70 (from torch)\n",
            "  Downloading nvidia_cudnn_cu12-9.1.0.70-py3-none-manylinux2014_x86_64.whl.metadata (1.6 kB)\n",
            "Collecting nvidia-cublas-cu12==12.4.5.8 (from torch)\n",
            "  Downloading nvidia_cublas_cu12-12.4.5.8-py3-none-manylinux2014_x86_64.whl.metadata (1.5 kB)\n",
            "Collecting nvidia-cufft-cu12==11.2.1.3 (from torch)\n",
            "  Downloading nvidia_cufft_cu12-11.2.1.3-py3-none-manylinux2014_x86_64.whl.metadata (1.5 kB)\n",
            "Collecting nvidia-curand-cu12==10.3.5.147 (from torch)\n",
            "  Downloading nvidia_curand_cu12-10.3.5.147-py3-none-manylinux2014_x86_64.whl.metadata (1.5 kB)\n",
            "Collecting nvidia-cusolver-cu12==11.6.1.9 (from torch)\n",
            "  Downloading nvidia_cusolver_cu12-11.6.1.9-py3-none-manylinux2014_x86_64.whl.metadata (1.6 kB)\n",
            "Collecting nvidia-cusparse-cu12==12.3.1.170 (from torch)\n",
            "  Downloading nvidia_cusparse_cu12-12.3.1.170-py3-none-manylinux2014_x86_64.whl.metadata (1.6 kB)\n",
            "Requirement already satisfied: nvidia-cusparselt-cu12==0.6.2 in /usr/local/lib/python3.11/dist-packages (from torch) (0.6.2)\n",
            "Requirement already satisfied: nvidia-nccl-cu12==2.21.5 in /usr/local/lib/python3.11/dist-packages (from torch) (2.21.5)\n",
            "Requirement already satisfied: nvidia-nvtx-cu12==12.4.127 in /usr/local/lib/python3.11/dist-packages (from torch) (12.4.127)\n",
            "Collecting nvidia-nvjitlink-cu12==12.4.127 (from torch)\n",
            "  Downloading nvidia_nvjitlink_cu12-12.4.127-py3-none-manylinux2014_x86_64.whl.metadata (1.5 kB)\n",
            "Requirement already satisfied: triton==3.2.0 in /usr/local/lib/python3.11/dist-packages (from torch) (3.2.0)\n",
            "Requirement already satisfied: sympy==1.13.1 in /usr/local/lib/python3.11/dist-packages (from torch) (1.13.1)\n",
            "Requirement already satisfied: mpmath<1.4,>=1.1.0 in /usr/local/lib/python3.11/dist-packages (from sympy==1.13.1->torch) (1.3.0)\n",
            "Requirement already satisfied: aiohttp in /usr/local/lib/python3.11/dist-packages (from torch_geometric) (3.11.15)\n",
            "Requirement already satisfied: numpy in /usr/local/lib/python3.11/dist-packages (from torch_geometric) (2.0.2)\n",
            "Requirement already satisfied: psutil>=5.8.0 in /usr/local/lib/python3.11/dist-packages (from torch_geometric) (5.9.5)\n",
            "Requirement already satisfied: pyparsing in /usr/local/lib/python3.11/dist-packages (from torch_geometric) (3.2.3)\n",
            "Requirement already satisfied: requests in /usr/local/lib/python3.11/dist-packages (from torch_geometric) (2.32.3)\n",
            "Requirement already satisfied: tqdm in /usr/local/lib/python3.11/dist-packages (from torch_geometric) (4.67.1)\n",
            "Requirement already satisfied: aiohappyeyeballs>=2.3.0 in /usr/local/lib/python3.11/dist-packages (from aiohttp->torch_geometric) (2.6.1)\n",
            "Requirement already satisfied: aiosignal>=1.1.2 in /usr/local/lib/python3.11/dist-packages (from aiohttp->torch_geometric) (1.3.2)\n",
            "Requirement already satisfied: attrs>=17.3.0 in /usr/local/lib/python3.11/dist-packages (from aiohttp->torch_geometric) (25.3.0)\n",
            "Requirement already satisfied: frozenlist>=1.1.1 in /usr/local/lib/python3.11/dist-packages (from aiohttp->torch_geometric) (1.5.0)\n",
            "Requirement already satisfied: multidict<7.0,>=4.5 in /usr/local/lib/python3.11/dist-packages (from aiohttp->torch_geometric) (6.3.2)\n",
            "Requirement already satisfied: propcache>=0.2.0 in /usr/local/lib/python3.11/dist-packages (from aiohttp->torch_geometric) (0.3.1)\n",
            "Requirement already satisfied: yarl<2.0,>=1.17.0 in /usr/local/lib/python3.11/dist-packages (from aiohttp->torch_geometric) (1.18.3)\n",
            "Requirement already satisfied: MarkupSafe>=2.0 in /usr/local/lib/python3.11/dist-packages (from jinja2->torch) (3.0.2)\n",
            "Requirement already satisfied: charset-normalizer<4,>=2 in /usr/local/lib/python3.11/dist-packages (from requests->torch_geometric) (3.4.1)\n",
            "Requirement already satisfied: idna<4,>=2.5 in /usr/local/lib/python3.11/dist-packages (from requests->torch_geometric) (3.10)\n",
            "Requirement already satisfied: urllib3<3,>=1.21.1 in /usr/local/lib/python3.11/dist-packages (from requests->torch_geometric) (2.3.0)\n",
            "Requirement already satisfied: certifi>=2017.4.17 in /usr/local/lib/python3.11/dist-packages (from requests->torch_geometric) (2025.1.31)\n",
            "Downloading nvidia_cublas_cu12-12.4.5.8-py3-none-manylinux2014_x86_64.whl (363.4 MB)\n",
            "\u001b[2K   \u001b[90m━━━━━━━━━━━━━━━━━━━━━━━━━━━━━━━━━━━━━━━━\u001b[0m \u001b[32m363.4/363.4 MB\u001b[0m \u001b[31m1.4 MB/s\u001b[0m eta \u001b[36m0:00:00\u001b[0m\n",
            "\u001b[?25hDownloading nvidia_cuda_cupti_cu12-12.4.127-py3-none-manylinux2014_x86_64.whl (13.8 MB)\n",
            "\u001b[2K   \u001b[90m━━━━━━━━━━━━━━━━━━━━━━━━━━━━━━━━━━━━━━━━\u001b[0m \u001b[32m13.8/13.8 MB\u001b[0m \u001b[31m35.2 MB/s\u001b[0m eta \u001b[36m0:00:00\u001b[0m\n",
            "\u001b[?25hDownloading nvidia_cuda_nvrtc_cu12-12.4.127-py3-none-manylinux2014_x86_64.whl (24.6 MB)\n",
            "\u001b[2K   \u001b[90m━━━━━━━━━━━━━━━━━━━━━━━━━━━━━━━━━━━━━━━━\u001b[0m \u001b[32m24.6/24.6 MB\u001b[0m \u001b[31m81.3 MB/s\u001b[0m eta \u001b[36m0:00:00\u001b[0m\n",
            "\u001b[?25hDownloading nvidia_cuda_runtime_cu12-12.4.127-py3-none-manylinux2014_x86_64.whl (883 kB)\n",
            "\u001b[2K   \u001b[90m━━━━━━━━━━━━━━━━━━━━━━━━━━━━━━━━━━━━━━━━\u001b[0m \u001b[32m883.7/883.7 kB\u001b[0m \u001b[31m48.8 MB/s\u001b[0m eta \u001b[36m0:00:00\u001b[0m\n",
            "\u001b[?25hDownloading nvidia_cudnn_cu12-9.1.0.70-py3-none-manylinux2014_x86_64.whl (664.8 MB)\n",
            "\u001b[2K   \u001b[90m━━━━━━━━━━━━━━━━━━━━━━━━━━━━━━━━━━━━━━━━\u001b[0m \u001b[32m664.8/664.8 MB\u001b[0m \u001b[31m2.6 MB/s\u001b[0m eta \u001b[36m0:00:00\u001b[0m\n",
            "\u001b[?25hDownloading nvidia_cufft_cu12-11.2.1.3-py3-none-manylinux2014_x86_64.whl (211.5 MB)\n",
            "\u001b[2K   \u001b[90m━━━━━━━━━━━━━━━━━━━━━━━━━━━━━━━━━━━━━━━━\u001b[0m \u001b[32m211.5/211.5 MB\u001b[0m \u001b[31m3.2 MB/s\u001b[0m eta \u001b[36m0:00:00\u001b[0m\n",
            "\u001b[?25hDownloading nvidia_curand_cu12-10.3.5.147-py3-none-manylinux2014_x86_64.whl (56.3 MB)\n",
            "\u001b[2K   \u001b[90m━━━━━━━━━━━━━━━━━━━━━━━━━━━━━━━━━━━━━━━━\u001b[0m \u001b[32m56.3/56.3 MB\u001b[0m \u001b[31m13.9 MB/s\u001b[0m eta \u001b[36m0:00:00\u001b[0m\n",
            "\u001b[?25hDownloading nvidia_cusolver_cu12-11.6.1.9-py3-none-manylinux2014_x86_64.whl (127.9 MB)\n",
            "\u001b[2K   \u001b[90m━━━━━━━━━━━━━━━━━━━━━━━━━━━━━━━━━━━━━━━━\u001b[0m \u001b[32m127.9/127.9 MB\u001b[0m \u001b[31m7.6 MB/s\u001b[0m eta \u001b[36m0:00:00\u001b[0m\n",
            "\u001b[?25hDownloading nvidia_cusparse_cu12-12.3.1.170-py3-none-manylinux2014_x86_64.whl (207.5 MB)\n",
            "\u001b[2K   \u001b[90m━━━━━━━━━━━━━━━━━━━━━━━━━━━━━━━━━━━━━━━━\u001b[0m \u001b[32m207.5/207.5 MB\u001b[0m \u001b[31m6.4 MB/s\u001b[0m eta \u001b[36m0:00:00\u001b[0m\n",
            "\u001b[?25hDownloading nvidia_nvjitlink_cu12-12.4.127-py3-none-manylinux2014_x86_64.whl (21.1 MB)\n",
            "\u001b[2K   \u001b[90m━━━━━━━━━━━━━━━━━━━━━━━━━━━━━━━━━━━━━━━━\u001b[0m \u001b[32m21.1/21.1 MB\u001b[0m \u001b[31m87.4 MB/s\u001b[0m eta \u001b[36m0:00:00\u001b[0m\n",
            "\u001b[?25hDownloading torch_geometric-2.6.1-py3-none-any.whl (1.1 MB)\n",
            "\u001b[2K   \u001b[90m━━━━━━━━━━━━━━━━━━━━━━━━━━━━━━━━━━━━━━━━\u001b[0m \u001b[32m1.1/1.1 MB\u001b[0m \u001b[31m63.8 MB/s\u001b[0m eta \u001b[36m0:00:00\u001b[0m\n",
            "\u001b[?25hInstalling collected packages: nvidia-nvjitlink-cu12, nvidia-curand-cu12, nvidia-cufft-cu12, nvidia-cuda-runtime-cu12, nvidia-cuda-nvrtc-cu12, nvidia-cuda-cupti-cu12, nvidia-cublas-cu12, nvidia-cusparse-cu12, nvidia-cudnn-cu12, torch_geometric, nvidia-cusolver-cu12\n",
            "  Attempting uninstall: nvidia-nvjitlink-cu12\n",
            "    Found existing installation: nvidia-nvjitlink-cu12 12.5.82\n",
            "    Uninstalling nvidia-nvjitlink-cu12-12.5.82:\n",
            "      Successfully uninstalled nvidia-nvjitlink-cu12-12.5.82\n",
            "  Attempting uninstall: nvidia-curand-cu12\n",
            "    Found existing installation: nvidia-curand-cu12 10.3.6.82\n",
            "    Uninstalling nvidia-curand-cu12-10.3.6.82:\n",
            "      Successfully uninstalled nvidia-curand-cu12-10.3.6.82\n",
            "  Attempting uninstall: nvidia-cufft-cu12\n",
            "    Found existing installation: nvidia-cufft-cu12 11.2.3.61\n",
            "    Uninstalling nvidia-cufft-cu12-11.2.3.61:\n",
            "      Successfully uninstalled nvidia-cufft-cu12-11.2.3.61\n",
            "  Attempting uninstall: nvidia-cuda-runtime-cu12\n",
            "    Found existing installation: nvidia-cuda-runtime-cu12 12.5.82\n",
            "    Uninstalling nvidia-cuda-runtime-cu12-12.5.82:\n",
            "      Successfully uninstalled nvidia-cuda-runtime-cu12-12.5.82\n",
            "  Attempting uninstall: nvidia-cuda-nvrtc-cu12\n",
            "    Found existing installation: nvidia-cuda-nvrtc-cu12 12.5.82\n",
            "    Uninstalling nvidia-cuda-nvrtc-cu12-12.5.82:\n",
            "      Successfully uninstalled nvidia-cuda-nvrtc-cu12-12.5.82\n",
            "  Attempting uninstall: nvidia-cuda-cupti-cu12\n",
            "    Found existing installation: nvidia-cuda-cupti-cu12 12.5.82\n",
            "    Uninstalling nvidia-cuda-cupti-cu12-12.5.82:\n",
            "      Successfully uninstalled nvidia-cuda-cupti-cu12-12.5.82\n",
            "  Attempting uninstall: nvidia-cublas-cu12\n",
            "    Found existing installation: nvidia-cublas-cu12 12.5.3.2\n",
            "    Uninstalling nvidia-cublas-cu12-12.5.3.2:\n",
            "      Successfully uninstalled nvidia-cublas-cu12-12.5.3.2\n",
            "  Attempting uninstall: nvidia-cusparse-cu12\n",
            "    Found existing installation: nvidia-cusparse-cu12 12.5.1.3\n",
            "    Uninstalling nvidia-cusparse-cu12-12.5.1.3:\n",
            "      Successfully uninstalled nvidia-cusparse-cu12-12.5.1.3\n",
            "  Attempting uninstall: nvidia-cudnn-cu12\n",
            "    Found existing installation: nvidia-cudnn-cu12 9.3.0.75\n",
            "    Uninstalling nvidia-cudnn-cu12-9.3.0.75:\n",
            "      Successfully uninstalled nvidia-cudnn-cu12-9.3.0.75\n",
            "  Attempting uninstall: nvidia-cusolver-cu12\n",
            "    Found existing installation: nvidia-cusolver-cu12 11.6.3.83\n",
            "    Uninstalling nvidia-cusolver-cu12-11.6.3.83:\n",
            "      Successfully uninstalled nvidia-cusolver-cu12-11.6.3.83\n",
            "Successfully installed nvidia-cublas-cu12-12.4.5.8 nvidia-cuda-cupti-cu12-12.4.127 nvidia-cuda-nvrtc-cu12-12.4.127 nvidia-cuda-runtime-cu12-12.4.127 nvidia-cudnn-cu12-9.1.0.70 nvidia-cufft-cu12-11.2.1.3 nvidia-curand-cu12-10.3.5.147 nvidia-cusolver-cu12-11.6.1.9 nvidia-cusparse-cu12-12.3.1.170 nvidia-nvjitlink-cu12-12.4.127 torch_geometric-2.6.1\n"
          ]
        }
      ],
      "source": [
        "!pip install torch torch_geometric"
      ]
    },
    {
      "cell_type": "code",
      "execution_count": null,
      "metadata": {
        "id": "pe3YkMk_Oegr"
      },
      "outputs": [],
      "source": [
        "import torch\n",
        "import networkx as nx\n",
        "from torch_geometric.data import Data\n",
        "import torch.nn.functional as F\n",
        "from torch_geometric.nn import GCNConv\n",
        "\n",
        "class GNNClassifier(torch.nn.Module):\n",
        "    def __init__(self, in_channels, hidden_channels, num_classes, global_mapping=None,device='cuda'):\n",
        "        super(GNNClassifier, self).__init__()\n",
        "        self.device = device\n",
        "        self.conv1 = GCNConv(in_channels, hidden_channels)\n",
        "        self.conv2 = GCNConv(hidden_channels, num_classes)  # Output matches number of classes\n",
        "        self.to(self.device)\n",
        "\n",
        "    @staticmethod\n",
        "    def convert_nx_to_torch_data(subgraph: nx.DiGraph, global_node_mapping: dict, labels_dict=None, num_classes=3):\n",
        "        for node in subgraph.nodes:\n",
        "            if node not in global_node_mapping:\n",
        "                global_node_mapping[node] = len(global_node_mapping)\n",
        "\n",
        "        total_nodes = len(global_node_mapping)\n",
        "        edge_index = torch.tensor(\n",
        "            [[global_node_mapping[u], global_node_mapping[v]] for u, v in subgraph.edges], dtype=torch.long\n",
        "        ).t().contiguous()\n",
        "\n",
        "        x = torch.zeros((total_nodes, total_nodes))\n",
        "        for node in subgraph.nodes:\n",
        "           idx = global_node_mapping[node]\n",
        "           x[idx, idx] = 1.0  # One-hot encoding at the diagonal\n",
        "\n",
        "        if labels_dict:\n",
        "           y = torch.zeros(total_nodes, dtype=torch.long)\n",
        "           for node in subgraph.nodes:\n",
        "              y[global_node_mapping[node]] = labels_dict.get(node, 0)\n",
        "        else:\n",
        "           y = torch.randint(0, num_classes, (total_nodes,))\n",
        "\n",
        "        return Data(x=x, edge_index=edge_index, y=y)\n",
        "\n",
        "\n",
        "    def forward(self, x, edge_index):\n",
        "        x = self.conv1(x, edge_index)\n",
        "        x = F.relu(x)\n",
        "        x = self.conv2(x, edge_index)\n",
        "        return F.log_softmax(x, dim=1)  # Softmax for classification\n"
      ]
    },
    {
      "cell_type": "code",
      "execution_count": null,
      "metadata": {
        "id": "Lc9jgcL5XZsi"
      },
      "outputs": [],
      "source": [
        "graph_data = GNNClassifier.convert_nx_to_torch_data(G, global_mapping)"
      ]
    },
    {
      "cell_type": "code",
      "execution_count": null,
      "metadata": {
        "colab": {
          "base_uri": "https://localhost:8080/"
        },
        "id": "EmPPIo0AOwUL",
        "outputId": "bdc629ba-1fae-497c-9a53-b78a8dbe78d2"
      },
      "outputs": [
        {
          "output_type": "stream",
          "name": "stdout",
          "text": [
            "Epoch 0, Loss: 4.1758\n",
            "Epoch 10, Loss: 3.7285\n",
            "Epoch 20, Loss: 2.6560\n",
            "Epoch 30, Loss: 1.4882\n",
            "Epoch 40, Loss: 1.0974\n",
            "Epoch 50, Loss: 1.0136\n",
            "Epoch 60, Loss: 0.9438\n",
            "Epoch 70, Loss: 0.8644\n",
            "Epoch 80, Loss: 0.7748\n",
            "Epoch 90, Loss: 0.6789\n",
            "Final Node Embeddings Shape: (85, 64)\n"
          ]
        }
      ],
      "source": [
        "# Initialize Model\n",
        "device = torch.device(\"cuda\" if torch.cuda.is_available() else \"cpu\")\n",
        "num_classes = 64  # Adjust based on your dataset\n",
        "encoder = GNNClassifier(in_channels=graph_data.num_node_features, hidden_channels=16, num_classes=num_classes).to(device)\n",
        "optimizer = torch.optim.Adam(encoder.parameters(), lr=0.01)\n",
        "\n",
        "# Move data to GPU\n",
        "graph_data = graph_data.to(device)\n",
        "\n",
        "# Training Loop\n",
        "def train():\n",
        "    encoder.train()\n",
        "    optimizer.zero_grad()\n",
        "\n",
        "    out = encoder(graph_data.x, graph_data.edge_index)  # Forward pass\n",
        "    loss = F.cross_entropy(out, graph_data.y)  # Cross-Entropy Loss\n",
        "\n",
        "    loss.backward()\n",
        "    optimizer.step()\n",
        "    return loss.item()\n",
        "\n",
        "# Train for 100 epochs\n",
        "for epoch in range(100):\n",
        "    loss = train()\n",
        "    if epoch % 10 == 0:\n",
        "        print(f\"Epoch {epoch}, Loss: {loss:.4f}\")\n",
        "\n",
        "# Extract Final Node Embeddings\n",
        "encoder.eval()\n",
        "final_embeddings = encoder(graph_data.x, graph_data.edge_index).detach().cpu().numpy()\n",
        "\n",
        "print(\"Final Node Embeddings Shape:\", final_embeddings.shape)\n"
      ]
    },
    {
      "cell_type": "code",
      "execution_count": null,
      "metadata": {
        "id": "qFZQhKdiO4NL"
      },
      "outputs": [],
      "source": [
        "#!pip install torch transformers sentence-transformers"
      ]
    },
    {
      "cell_type": "code",
      "execution_count": null,
      "metadata": {
        "id": "8o_z-6vnYu7B"
      },
      "outputs": [],
      "source": [
        "#!pip install tokenizers==0.15.2\n",
        "#!pip install --upgrade transformers\n",
        "#!pip uninstall -y transformers huggingface-hub sentence-transformers tokenizers accelerate datasets\n",
        "#!pip cache purge\n",
        "#!pip install transformers huggingface_hub sentence-transformers\n",
        "#!pip install --upgrade transformers sentence-transformers accelerate datasets\n",
        "\n",
        "\n",
        "#!pip show transformers huggingface_hub"
      ]
    },
    {
      "cell_type": "code",
      "execution_count": null,
      "metadata": {
        "id": "qnmOOCkZYu7B"
      },
      "outputs": [],
      "source": [
        "#!pip install transformers torch numpy\n",
        "#!pip install transformers torch\n",
        "#!pip uninstall transformers -y\n",
        "#!pip install transformers --no-deps\n"
      ]
    },
    {
      "cell_type": "code",
      "execution_count": null,
      "metadata": {
        "colab": {
          "base_uri": "https://localhost:8080/",
          "height": 368,
          "referenced_widgets": [
            "4005daff344046fc97265b22d86c00fa",
            "608f5cb03e954274b369f01b672d13e9",
            "452d0cd2afbb42f8b5e8f0d5d46209db",
            "527d876123df48e98a1eb178073e962c",
            "d8634301d8cc4bae8fb1e5e9f4efb84e",
            "4d6d66c48a4946858e726ea4a1f35ac2",
            "30377e34c02246b6942356064bc40c0f",
            "a805b128b19748c484166b63d7ddb08a",
            "4937422243694968ad0c0698eaa5f237",
            "4214ce986d3e4fb7866bdd18cb1d7828",
            "c839384710f64de09c5b70c3a722c499",
            "6571548fa4454ab18c81efe8bbb16c9a",
            "792ceaf102a74c4bbf4909daed4ee8d7",
            "0bb882363b92488fab1024267c73bff6",
            "c95d5977cf954d49b275ab5f6336c05b",
            "cbf098a8ac0f4c2d8b10aea916be15c5",
            "268d838e8fa644aeb8cf3d38eb819d89",
            "ddb6c6b9c1bf4a8a903ceb9a1489d45f",
            "2461a935c666411694e10f1c1ed2ad56",
            "aa3d2ded2c034a598e123ca498370777",
            "db6335b3cfbc4ffca65f19bd33e731bf",
            "2dd547f9f154480d815445c18354e59f",
            "f0e877ecd76643aa862e4049c6a07330",
            "763dba365f874c75aef7c4c8da104bfe",
            "5ca931ea01534d7091a9e3d72f2bde26",
            "87209f68c56d442bbf2b48915f4e41eb",
            "df0176c736a34173834ab309408f9270",
            "46d320ca1ac945d29bdd76c196972a0c",
            "cfbddd5f1698434a943e4f06fe430849",
            "fa44c8418c5d44daa986bad7a0c93cc2",
            "1c7c32f3e4b74f18a72c6bdb4db52a36",
            "cf58947620674a62bce9ba11971f9dcc",
            "666b522b98b847b2ab33e25f08a9c130",
            "8cade967c44b4a75891ab2929933ec7e",
            "7b8c6592dad849be8c18fab2d7797bfe",
            "8ec0b7d8b5984404be8f7efd358d57a3",
            "bd25f03152ab4081bf123cc48b441818",
            "fbc36101f4de4f50b78e718717eb2548",
            "f81f5457ddf24fcd96d8f37a77b8078e",
            "f74548548c98408d95069e920d95b4e7",
            "d8d695c21f1749398d07bad51f7cec4f",
            "9d6c76d3d76c4c9c873e744a80c81084",
            "dc12d1e1f06d4946825822248e193c50",
            "d087305a99224357a5d209e3cb98cc00",
            "5f05297d5de040c4a4fa063ba67913fc",
            "9a8dd03a89d349f6b6c5990d9c643417",
            "6f9c1fb935784463a612a2c4360940f7",
            "290784550ca2496789735117a4a1ca61",
            "a77dc8a5c7514f4ab1656e86f0ab1b5a",
            "2a55725c55bb4804b5a1d4c30354a365",
            "738d1d41bd634757bf6a801d59b44dea",
            "300343a253124ff89b5cdb17af797666",
            "0e4243cac0794143a2c004ede04228f0",
            "50c1e5ccbe6a4003aa43625065e4f2a1",
            "4d923d05c5ce449eba38d782cb86bfb5",
            "7e291cc38c274a7587e9c15b7afb3608",
            "6cc443e25ffb4531b182d8322ad57b11",
            "51b328a27ed64dd6968d476dc2029c36",
            "7aed1d9e45e54bae9d7d13033062d3f0",
            "36b43c64aa974485923205f18a0b8f43",
            "ad163584b1ff4a0a821baa8c756b7a07",
            "de9a953e01c94a8d908576ad13b6cdf1",
            "7cbf50d46b5746a3943ecd5bd7ad6d5f",
            "84ff646dc68040d1897dde30bcbbfb4d",
            "31ba8bc71590480aa048c7b54def8a67",
            "85251b241a17486da358bf3cc6b029d2"
          ]
        },
        "id": "iWIXXmJEfCx_",
        "outputId": "96af0e51-350a-47e1-9b37-126475165a83"
      },
      "outputs": [
        {
          "output_type": "stream",
          "name": "stderr",
          "text": [
            "/usr/local/lib/python3.11/dist-packages/huggingface_hub/utils/_auth.py:94: UserWarning: \n",
            "The secret `HF_TOKEN` does not exist in your Colab secrets.\n",
            "To authenticate with the Hugging Face Hub, create a token in your settings tab (https://huggingface.co/settings/tokens), set it as secret in your Google Colab and restart your session.\n",
            "You will be able to reuse this secret in all of your notebooks.\n",
            "Please note that authentication is recommended but still optional to access public models or datasets.\n",
            "  warnings.warn(\n"
          ]
        },
        {
          "output_type": "display_data",
          "data": {
            "text/plain": [
              "tokenizer_config.json:   0%|          | 0.00/350 [00:00<?, ?B/s]"
            ],
            "application/vnd.jupyter.widget-view+json": {
              "version_major": 2,
              "version_minor": 0,
              "model_id": "4005daff344046fc97265b22d86c00fa"
            }
          },
          "metadata": {}
        },
        {
          "output_type": "display_data",
          "data": {
            "text/plain": [
              "vocab.txt:   0%|          | 0.00/232k [00:00<?, ?B/s]"
            ],
            "application/vnd.jupyter.widget-view+json": {
              "version_major": 2,
              "version_minor": 0,
              "model_id": "6571548fa4454ab18c81efe8bbb16c9a"
            }
          },
          "metadata": {}
        },
        {
          "output_type": "display_data",
          "data": {
            "text/plain": [
              "tokenizer.json:   0%|          | 0.00/466k [00:00<?, ?B/s]"
            ],
            "application/vnd.jupyter.widget-view+json": {
              "version_major": 2,
              "version_minor": 0,
              "model_id": "f0e877ecd76643aa862e4049c6a07330"
            }
          },
          "metadata": {}
        },
        {
          "output_type": "display_data",
          "data": {
            "text/plain": [
              "special_tokens_map.json:   0%|          | 0.00/112 [00:00<?, ?B/s]"
            ],
            "application/vnd.jupyter.widget-view+json": {
              "version_major": 2,
              "version_minor": 0,
              "model_id": "8cade967c44b4a75891ab2929933ec7e"
            }
          },
          "metadata": {}
        },
        {
          "output_type": "display_data",
          "data": {
            "text/plain": [
              "config.json:   0%|          | 0.00/612 [00:00<?, ?B/s]"
            ],
            "application/vnd.jupyter.widget-view+json": {
              "version_major": 2,
              "version_minor": 0,
              "model_id": "5f05297d5de040c4a4fa063ba67913fc"
            }
          },
          "metadata": {}
        },
        {
          "output_type": "stream",
          "name": "stderr",
          "text": [
            "Xet Storage is enabled for this repo, but the 'hf_xet' package is not installed. Falling back to regular HTTP download. For better performance, install the package with: `pip install huggingface_hub[hf_xet]` or `pip install hf_xet`\n",
            "WARNING:huggingface_hub.file_download:Xet Storage is enabled for this repo, but the 'hf_xet' package is not installed. Falling back to regular HTTP download. For better performance, install the package with: `pip install huggingface_hub[hf_xet]` or `pip install hf_xet`\n"
          ]
        },
        {
          "output_type": "display_data",
          "data": {
            "text/plain": [
              "model.safetensors:   0%|          | 0.00/90.9M [00:00<?, ?B/s]"
            ],
            "application/vnd.jupyter.widget-view+json": {
              "version_major": 2,
              "version_minor": 0,
              "model_id": "7e291cc38c274a7587e9c15b7afb3608"
            }
          },
          "metadata": {}
        }
      ],
      "source": [
        "import torch\n",
        "import torch.nn as nn\n",
        "from transformers import AutoModel, AutoTokenizer\n",
        "import re\n",
        "from textblob import TextBlob\n",
        "\n",
        "# Define the model class\n",
        "class TextEmbeddingModel(nn.Module):\n",
        "    def __init__(self, model_name=\"sentence-transformers/all-MiniLM-L6-v2\"):\n",
        "        super(TextEmbeddingModel, self).__init__()\n",
        "        self.tokenizer = AutoTokenizer.from_pretrained(model_name)\n",
        "        self.text_encoder = AutoModel.from_pretrained(model_name).to(\"cuda\" if torch.cuda.is_available() else \"cpu\")\n",
        "\n",
        "    def purify_query(self,query: str) -> str:\n",
        "        corrected_query = str(TextBlob(query).correct())\n",
        "        cleaned_query = re.sub(r\"[^a-zA-Z0-9\\s]\", \"\", corrected_query)\n",
        "        cleaned_query = re.sub(r\"\\s+\", \" \", cleaned_query).strip()\n",
        "        return cleaned_query\n",
        "\n",
        "    def get_text_embedding(self, text):\n",
        "        inputs = self.tokenizer(text, return_tensors=\"pt\", padding=True, truncation=True, max_length=128).to(self.text_encoder.device)\n",
        "        with torch.no_grad():\n",
        "            outputs = self.text_encoder(**inputs)\n",
        "\n",
        "        # Use the [CLS] token embedding as the sentence representation\n",
        "        return outputs.last_hidden_state[:, 0, :].squeeze(0)\n",
        "\n",
        "    def forward(self, text):\n",
        "        text = self.purify_query(query)\n",
        "        # Use the text embedding function in the forward pass\n",
        "        return self.get_text_embedding(text)\n",
        "\n",
        "# Example usage\n",
        "text_encoder = TextEmbeddingModel().to(device)"
      ]
    },
    {
      "cell_type": "code",
      "execution_count": null,
      "metadata": {
        "colab": {
          "base_uri": "https://localhost:8080/"
        },
        "id": "F_qWDoaEfczX",
        "outputId": "21a9aca5-84f3-450a-8925-bf45714c3cde"
      },
      "outputs": [
        {
          "output_type": "stream",
          "name": "stdout",
          "text": [
            "Text Embedding Shape: torch.Size([384])\n"
          ]
        }
      ],
      "source": [
        "embedding = text_encoder(query)\n",
        "print(\"Text Embedding Shape:\", embedding.shape)"
      ]
    },
    {
      "cell_type": "code",
      "execution_count": null,
      "metadata": {
        "id": "az10m_k7a_9M"
      },
      "outputs": [],
      "source": [
        "import torch\n",
        "import torch.nn as nn\n",
        "import torch.nn.functional as F\n",
        "\n",
        "class CrossModalityPooling(nn.Module):\n",
        "    def __init__(self, graph_dim, text_dim, common_dim=128):\n",
        "        super(CrossModalityPooling, self).__init__()\n",
        "        self.graph_proj = nn.Linear(graph_dim, common_dim)\n",
        "        self.text_proj = nn.Linear(text_dim, common_dim)\n",
        "\n",
        "    def forward(self, graph_embeddings, text_embedding):\n",
        "        \"\"\"\n",
        "        graph_embeddings: Tensor of shape [N, graph_dim] (e.g., [100, 64])\n",
        "        text_embedding: Tensor of shape [text_dim] (e.g., [384])\n",
        "        \"\"\"\n",
        "        # Project both modalities to a common space\n",
        "        graph_proj = self.graph_proj(graph_embeddings)                # → [N, common_dim]\n",
        "        text_proj = self.text_proj(text_embedding).unsqueeze(0)       # → [1, common_dim]\n",
        "\n",
        "        # Attention: dot-product (scaled)\n",
        "        attn_scores = torch.softmax(torch.matmul(graph_proj, text_proj.T) / (graph_proj.shape[-1] ** 0.5), dim=0)  # [N, 1]\n",
        "\n",
        "        # Apply attention over graph embeddings\n",
        "        pooled = (attn_scores * graph_proj).sum(dim=0)  # → [common_dim]\n",
        "\n",
        "        return pooled  # Final fused representation\n"
      ]
    },
    {
      "cell_type": "code",
      "execution_count": null,
      "metadata": {
        "id": "JxM9Uj5HcE-8"
      },
      "outputs": [],
      "source": [
        "class DomainProjector(nn.Module):\n",
        "    def __init__(self, input_dim, output_dim):\n",
        "        super().__init__()\n",
        "        self.ffn = nn.Sequential(\n",
        "            nn.Linear(input_dim, output_dim),\n",
        "            nn.ReLU(),\n",
        "            nn.Linear(output_dim, output_dim)\n",
        "        )\n",
        "\n",
        "    def forward(self, x):\n",
        "        return self.ffn(x)\n"
      ]
    },
    {
      "cell_type": "code",
      "execution_count": null,
      "metadata": {
        "id": "12T79WfrUvWZ"
      },
      "outputs": [],
      "source": [
        "class LinkPrediction(nn.Module):\n",
        "    def __init__(self, embedding_dim):\n",
        "        super(LinkPrediction, self).__init__()\n",
        "        self.linear = nn.Linear(embedding_dim * 2, 1)\n",
        "\n",
        "    def forward(self, head_embedding, tail_embedding):\n",
        "        # Concatenate head and tail embeddings\n",
        "        x = torch.cat([head_embedding, tail_embedding], dim=-1)\n",
        "        return self.linear(x)\n"
      ]
    },
    {
      "cell_type": "code",
      "execution_count": null,
      "metadata": {
        "id": "ea6Xt2NGoxyd"
      },
      "outputs": [],
      "source": [
        "#!pip install peft"
      ]
    },
    {
      "cell_type": "code",
      "execution_count": null,
      "metadata": {
        "id": "zoqbTkgdSNf5"
      },
      "outputs": [],
      "source": [
        "from transformers import AutoTokenizer, AutoModelForSeq2SeqLM\n",
        "from peft import PeftModel, get_peft_model, LoraConfig"
      ]
    },
    {
      "cell_type": "code",
      "execution_count": null,
      "metadata": {
        "id": "xgRw369BaCBM"
      },
      "outputs": [],
      "source": [
        "class GNPModel(nn.Module):\n",
        "    def __init__(self,KG, gnn_encoder,text_encoder, cross_modal_pooling, base_model_id=\"google/flan-t5-base\", lora_path=None):\n",
        "        super(GNPModel, self).__init__()\n",
        "        self.global_mapping = {}\n",
        "        self.kg_extractor=QueryGraphExtractor(kg=KG)\n",
        "        self.gnn_encoder = gnn_encoder\n",
        "        self.text_encoder = text_encoder\n",
        "        self.cross_modal_pooling = cross_modal_pooling\n",
        "\n",
        "        self.tokenizer = AutoTokenizer.from_pretrained(base_model_id)\n",
        "        base_model = AutoModelForSeq2SeqLM.from_pretrained(base_model_id, device_map=\"auto\", load_in_8bit=True)\n",
        "\n",
        "        if lora_path:\n",
        "            self.llm = PeftModel.from_pretrained(base_model, lora_path)\n",
        "        else:\n",
        "            lora_config = LoraConfig(task_type=\"SEQ_2_SEQ_LM\", r=8, lora_alpha=32, lora_dropout=0.1)\n",
        "            self.llm = get_peft_model(base_model, lora_config)\n",
        "\n",
        "    def forward(self, query):\n",
        "        subgraph, entities, relations = self.kg_extractor(query)\n",
        "        if subgraph.number_of_nodes() == 0 or subgraph.number_of_edges() == 0:\n",
        "          return \"⚠️ No relevant knowledge found in the graph for this query.\"\n",
        "        graph_data=self.gnn_encoder.convert_nx_to_torch_data(subgraph,self.global_mapping).to(device)\n",
        "        if graph_data.edge_index.size(1) == 0:\n",
        "          return \"⚠️ Empty edge_index after conversion, cannot process GNN.\"\n",
        "        gnn_output = self.gnn_encoder(graph_data.x, graph_data.edge_index).to(device)\n",
        "        text_embedding=self.text_encoder(query).to(device)\n",
        "\n",
        "        pooled_representation = self.cross_modal_pooling(gnn_output, text_embedding).to(device)\n",
        "        prompt = f\"{pooled_representation}\\n{query}\"\n",
        "\n",
        "        inputs = self.tokenizer(prompt, return_tensors=\"pt\", padding=True, truncation=True).to(self.llm.device)\n",
        "        outputs = self.llm.generate(**inputs, max_new_tokens=64)\n",
        "        return self.tokenizer.decode(outputs[0], skip_special_tokens=True)\n"
      ]
    },
    {
      "cell_type": "code",
      "execution_count": null,
      "metadata": {
        "colab": {
          "base_uri": "https://localhost:8080/",
          "height": 315
        },
        "id": "Cp0uz8wwoxyd",
        "outputId": "2ebd62b2-5900-4b97-8f77-99428ccac63a"
      },
      "outputs": [
        {
          "output_type": "error",
          "ename": "NameError",
          "evalue": "name 'model' is not defined",
          "traceback": [
            "\u001b[0;31m---------------------------------------------------------------------------\u001b[0m",
            "\u001b[0;31mNameError\u001b[0m                                 Traceback (most recent call last)",
            "\u001b[0;32m<ipython-input-49-f8d8913a6465>\u001b[0m in \u001b[0;36m<cell line: 0>\u001b[0;34m()\u001b[0m\n\u001b[1;32m      7\u001b[0m \u001b[0;31m# Run for all test queries\u001b[0m\u001b[0;34m\u001b[0m\u001b[0;34m\u001b[0m\u001b[0m\n\u001b[1;32m      8\u001b[0m \u001b[0;32mfor\u001b[0m \u001b[0mquery\u001b[0m \u001b[0;32min\u001b[0m \u001b[0mtest_queries\u001b[0m\u001b[0;34m:\u001b[0m\u001b[0;34m\u001b[0m\u001b[0;34m\u001b[0m\u001b[0m\n\u001b[0;32m----> 9\u001b[0;31m     \u001b[0moutput\u001b[0m \u001b[0;34m=\u001b[0m \u001b[0mgenerate_answer\u001b[0m\u001b[0;34m(\u001b[0m\u001b[0mquery\u001b[0m\u001b[0;34m)\u001b[0m\u001b[0;34m\u001b[0m\u001b[0;34m\u001b[0m\u001b[0m\n\u001b[0m\u001b[1;32m     10\u001b[0m     \u001b[0mprint\u001b[0m\u001b[0;34m(\u001b[0m\u001b[0;34mf\"🧠 Query: {query}\\n🗣️  Answer: {output}\\n{'-'*60}\"\u001b[0m\u001b[0;34m)\u001b[0m\u001b[0;34m\u001b[0m\u001b[0;34m\u001b[0m\u001b[0m\n",
            "\u001b[0;32m<ipython-input-49-f8d8913a6465>\u001b[0m in \u001b[0;36mgenerate_answer\u001b[0;34m(query, max_len)\u001b[0m\n\u001b[1;32m      1\u001b[0m \u001b[0;32mdef\u001b[0m \u001b[0mgenerate_answer\u001b[0m\u001b[0;34m(\u001b[0m\u001b[0mquery\u001b[0m\u001b[0;34m,\u001b[0m \u001b[0mmax_len\u001b[0m\u001b[0;34m=\u001b[0m\u001b[0;36m50\u001b[0m\u001b[0;34m)\u001b[0m\u001b[0;34m:\u001b[0m\u001b[0;34m\u001b[0m\u001b[0;34m\u001b[0m\u001b[0m\n\u001b[0;32m----> 2\u001b[0;31m     \u001b[0mmodel\u001b[0m\u001b[0;34m.\u001b[0m\u001b[0meval\u001b[0m\u001b[0;34m(\u001b[0m\u001b[0;34m)\u001b[0m\u001b[0;34m\u001b[0m\u001b[0;34m\u001b[0m\u001b[0m\n\u001b[0m\u001b[1;32m      3\u001b[0m     \u001b[0;32mwith\u001b[0m \u001b[0mtorch\u001b[0m\u001b[0;34m.\u001b[0m\u001b[0mno_grad\u001b[0m\u001b[0;34m(\u001b[0m\u001b[0;34m)\u001b[0m\u001b[0;34m:\u001b[0m\u001b[0;34m\u001b[0m\u001b[0;34m\u001b[0m\u001b[0m\n\u001b[1;32m      4\u001b[0m         \u001b[0moutput\u001b[0m \u001b[0;34m=\u001b[0m \u001b[0mmodel\u001b[0m\u001b[0;34m(\u001b[0m\u001b[0mquery\u001b[0m\u001b[0;34m)\u001b[0m\u001b[0;34m.\u001b[0m\u001b[0mto\u001b[0m\u001b[0;34m(\u001b[0m\u001b[0mdevice\u001b[0m\u001b[0;34m)\u001b[0m\u001b[0;34m\u001b[0m\u001b[0;34m\u001b[0m\u001b[0m\n\u001b[1;32m      5\u001b[0m     \u001b[0;32mreturn\u001b[0m \u001b[0moutput\u001b[0m\u001b[0;34m\u001b[0m\u001b[0;34m\u001b[0m\u001b[0m\n",
            "\u001b[0;31mNameError\u001b[0m: name 'model' is not defined"
          ]
        }
      ],
      "source": [
        "def generate_answer(query, max_len=50):\n",
        "    model.eval()\n",
        "    with torch.no_grad():\n",
        "        output = model(query).to(device)\n",
        "    return output\n",
        "\n",
        "# Run for all test queries\n",
        "for query in test_queries:\n",
        "    output = generate_answer(query)\n",
        "    print(f\"🧠 Query: {query}\\n🗣️  Answer: {output}\\n{'-'*60}\")"
      ]
    },
    {
      "cell_type": "code",
      "execution_count": null,
      "metadata": {
        "colab": {
          "base_uri": "https://localhost:8080/"
        },
        "id": "yBUjq560Is1m",
        "outputId": "330301a8-7ed2-41cd-9f3b-8e0eacb92600"
      },
      "outputs": [
        {
          "output_type": "execute_result",
          "data": {
            "text/plain": [
              "(torch.Size([85, 64]), torch.Size([384]))"
            ]
          },
          "metadata": {},
          "execution_count": 35
        }
      ],
      "source": [
        "graph_data=encoder.convert_nx_to_torch_data(subgraph,global_mapping).to(device)\n",
        "gnn_output = encoder(graph_data.x.to(device), graph_data.edge_index)\n",
        "gnn_output.shape,embedding.shape"
      ]
    },
    {
      "cell_type": "code",
      "execution_count": null,
      "metadata": {
        "colab": {
          "base_uri": "https://localhost:8080/",
          "height": 618
        },
        "id": "HfDyTgK0oxye",
        "outputId": "1c6aec2f-d23c-4b04-eea6-05e441abcc54"
      },
      "outputs": [
        {
          "output_type": "stream",
          "name": "stderr",
          "text": [
            "The `load_in_4bit` and `load_in_8bit` arguments are deprecated and will be removed in the future versions. Please, pass a `BitsAndBytesConfig` object in `quantization_config` argument instead.\n"
          ]
        },
        {
          "output_type": "error",
          "ename": "ImportError",
          "evalue": "Using `bitsandbytes` 8-bit quantization requires the latest version of bitsandbytes: `pip install -U bitsandbytes`",
          "traceback": [
            "\u001b[0;31m---------------------------------------------------------------------------\u001b[0m",
            "\u001b[0;31mImportError\u001b[0m                               Traceback (most recent call last)",
            "\u001b[0;32m<ipython-input-50-a47bd1b7fc1e>\u001b[0m in \u001b[0;36m<cell line: 0>\u001b[0;34m()\u001b[0m\n\u001b[1;32m      4\u001b[0m \u001b[0;34m\u001b[0m\u001b[0m\n\u001b[1;32m      5\u001b[0m \u001b[0;31m# Initialize the GNP model\u001b[0m\u001b[0;34m\u001b[0m\u001b[0;34m\u001b[0m\u001b[0m\n\u001b[0;32m----> 6\u001b[0;31m model = GNPModel(\n\u001b[0m\u001b[1;32m      7\u001b[0m     \u001b[0mKG\u001b[0m\u001b[0;34m=\u001b[0m\u001b[0mG\u001b[0m\u001b[0;34m,\u001b[0m\u001b[0;34m\u001b[0m\u001b[0;34m\u001b[0m\u001b[0m\n\u001b[1;32m      8\u001b[0m     \u001b[0mgnn_encoder\u001b[0m\u001b[0;34m=\u001b[0m\u001b[0mgnn_encoder\u001b[0m\u001b[0;34m,\u001b[0m\u001b[0;34m\u001b[0m\u001b[0;34m\u001b[0m\u001b[0m\n",
            "\u001b[0;32m<ipython-input-34-18f104dcdf62>\u001b[0m in \u001b[0;36m__init__\u001b[0;34m(self, KG, gnn_encoder, text_encoder, cross_modal_pooling, base_model_id, lora_path)\u001b[0m\n\u001b[1;32m      9\u001b[0m \u001b[0;34m\u001b[0m\u001b[0m\n\u001b[1;32m     10\u001b[0m         \u001b[0mself\u001b[0m\u001b[0;34m.\u001b[0m\u001b[0mtokenizer\u001b[0m \u001b[0;34m=\u001b[0m \u001b[0mAutoTokenizer\u001b[0m\u001b[0;34m.\u001b[0m\u001b[0mfrom_pretrained\u001b[0m\u001b[0;34m(\u001b[0m\u001b[0mbase_model_id\u001b[0m\u001b[0;34m)\u001b[0m\u001b[0;34m\u001b[0m\u001b[0;34m\u001b[0m\u001b[0m\n\u001b[0;32m---> 11\u001b[0;31m         \u001b[0mbase_model\u001b[0m \u001b[0;34m=\u001b[0m \u001b[0mAutoModelForSeq2SeqLM\u001b[0m\u001b[0;34m.\u001b[0m\u001b[0mfrom_pretrained\u001b[0m\u001b[0;34m(\u001b[0m\u001b[0mbase_model_id\u001b[0m\u001b[0;34m,\u001b[0m \u001b[0mdevice_map\u001b[0m\u001b[0;34m=\u001b[0m\u001b[0;34m\"auto\"\u001b[0m\u001b[0;34m,\u001b[0m \u001b[0mload_in_8bit\u001b[0m\u001b[0;34m=\u001b[0m\u001b[0;32mTrue\u001b[0m\u001b[0;34m)\u001b[0m\u001b[0;34m\u001b[0m\u001b[0;34m\u001b[0m\u001b[0m\n\u001b[0m\u001b[1;32m     12\u001b[0m \u001b[0;34m\u001b[0m\u001b[0m\n\u001b[1;32m     13\u001b[0m         \u001b[0;32mif\u001b[0m \u001b[0mlora_path\u001b[0m\u001b[0;34m:\u001b[0m\u001b[0;34m\u001b[0m\u001b[0;34m\u001b[0m\u001b[0m\n",
            "\u001b[0;32m/usr/local/lib/python3.11/dist-packages/transformers/models/auto/auto_factory.py\u001b[0m in \u001b[0;36mfrom_pretrained\u001b[0;34m(cls, pretrained_model_name_or_path, *model_args, **kwargs)\u001b[0m\n\u001b[1;32m    571\u001b[0m         \u001b[0;32melif\u001b[0m \u001b[0mtype\u001b[0m\u001b[0;34m(\u001b[0m\u001b[0mconfig\u001b[0m\u001b[0;34m)\u001b[0m \u001b[0;32min\u001b[0m \u001b[0mcls\u001b[0m\u001b[0;34m.\u001b[0m\u001b[0m_model_mapping\u001b[0m\u001b[0;34m.\u001b[0m\u001b[0mkeys\u001b[0m\u001b[0;34m(\u001b[0m\u001b[0;34m)\u001b[0m\u001b[0;34m:\u001b[0m\u001b[0;34m\u001b[0m\u001b[0;34m\u001b[0m\u001b[0m\n\u001b[1;32m    572\u001b[0m             \u001b[0mmodel_class\u001b[0m \u001b[0;34m=\u001b[0m \u001b[0m_get_model_class\u001b[0m\u001b[0;34m(\u001b[0m\u001b[0mconfig\u001b[0m\u001b[0;34m,\u001b[0m \u001b[0mcls\u001b[0m\u001b[0;34m.\u001b[0m\u001b[0m_model_mapping\u001b[0m\u001b[0;34m)\u001b[0m\u001b[0;34m\u001b[0m\u001b[0;34m\u001b[0m\u001b[0m\n\u001b[0;32m--> 573\u001b[0;31m             return model_class.from_pretrained(\n\u001b[0m\u001b[1;32m    574\u001b[0m                 \u001b[0mpretrained_model_name_or_path\u001b[0m\u001b[0;34m,\u001b[0m \u001b[0;34m*\u001b[0m\u001b[0mmodel_args\u001b[0m\u001b[0;34m,\u001b[0m \u001b[0mconfig\u001b[0m\u001b[0;34m=\u001b[0m\u001b[0mconfig\u001b[0m\u001b[0;34m,\u001b[0m \u001b[0;34m**\u001b[0m\u001b[0mhub_kwargs\u001b[0m\u001b[0;34m,\u001b[0m \u001b[0;34m**\u001b[0m\u001b[0mkwargs\u001b[0m\u001b[0;34m\u001b[0m\u001b[0;34m\u001b[0m\u001b[0m\n\u001b[1;32m    575\u001b[0m             )\n",
            "\u001b[0;32m/usr/local/lib/python3.11/dist-packages/transformers/modeling_utils.py\u001b[0m in \u001b[0;36m_wrapper\u001b[0;34m(*args, **kwargs)\u001b[0m\n\u001b[1;32m    270\u001b[0m         \u001b[0mold_dtype\u001b[0m \u001b[0;34m=\u001b[0m \u001b[0mtorch\u001b[0m\u001b[0;34m.\u001b[0m\u001b[0mget_default_dtype\u001b[0m\u001b[0;34m(\u001b[0m\u001b[0;34m)\u001b[0m\u001b[0;34m\u001b[0m\u001b[0;34m\u001b[0m\u001b[0m\n\u001b[1;32m    271\u001b[0m         \u001b[0;32mtry\u001b[0m\u001b[0;34m:\u001b[0m\u001b[0;34m\u001b[0m\u001b[0;34m\u001b[0m\u001b[0m\n\u001b[0;32m--> 272\u001b[0;31m             \u001b[0;32mreturn\u001b[0m \u001b[0mfunc\u001b[0m\u001b[0;34m(\u001b[0m\u001b[0;34m*\u001b[0m\u001b[0margs\u001b[0m\u001b[0;34m,\u001b[0m \u001b[0;34m**\u001b[0m\u001b[0mkwargs\u001b[0m\u001b[0;34m)\u001b[0m\u001b[0;34m\u001b[0m\u001b[0;34m\u001b[0m\u001b[0m\n\u001b[0m\u001b[1;32m    273\u001b[0m         \u001b[0;32mfinally\u001b[0m\u001b[0;34m:\u001b[0m\u001b[0;34m\u001b[0m\u001b[0;34m\u001b[0m\u001b[0m\n\u001b[1;32m    274\u001b[0m             \u001b[0mtorch\u001b[0m\u001b[0;34m.\u001b[0m\u001b[0mset_default_dtype\u001b[0m\u001b[0;34m(\u001b[0m\u001b[0mold_dtype\u001b[0m\u001b[0;34m)\u001b[0m\u001b[0;34m\u001b[0m\u001b[0;34m\u001b[0m\u001b[0m\n",
            "\u001b[0;32m/usr/local/lib/python3.11/dist-packages/transformers/modeling_utils.py\u001b[0m in \u001b[0;36mfrom_pretrained\u001b[0;34m(cls, pretrained_model_name_or_path, config, cache_dir, ignore_mismatched_sizes, force_download, local_files_only, token, revision, use_safetensors, weights_only, *model_args, **kwargs)\u001b[0m\n\u001b[1;32m   4290\u001b[0m \u001b[0;34m\u001b[0m\u001b[0m\n\u001b[1;32m   4291\u001b[0m         \u001b[0;32mif\u001b[0m \u001b[0mhf_quantizer\u001b[0m \u001b[0;32mis\u001b[0m \u001b[0;32mnot\u001b[0m \u001b[0;32mNone\u001b[0m\u001b[0;34m:\u001b[0m\u001b[0;34m\u001b[0m\u001b[0;34m\u001b[0m\u001b[0m\n\u001b[0;32m-> 4292\u001b[0;31m             hf_quantizer.validate_environment(\n\u001b[0m\u001b[1;32m   4293\u001b[0m                 \u001b[0mtorch_dtype\u001b[0m\u001b[0;34m=\u001b[0m\u001b[0mtorch_dtype\u001b[0m\u001b[0;34m,\u001b[0m\u001b[0;34m\u001b[0m\u001b[0;34m\u001b[0m\u001b[0m\n\u001b[1;32m   4294\u001b[0m                 \u001b[0mfrom_tf\u001b[0m\u001b[0;34m=\u001b[0m\u001b[0mfrom_tf\u001b[0m\u001b[0;34m,\u001b[0m\u001b[0;34m\u001b[0m\u001b[0;34m\u001b[0m\u001b[0m\n",
            "\u001b[0;32m/usr/local/lib/python3.11/dist-packages/transformers/quantizers/quantizer_bnb_8bit.py\u001b[0m in \u001b[0;36mvalidate_environment\u001b[0;34m(self, *args, **kwargs)\u001b[0m\n\u001b[1;32m     71\u001b[0m             )\n\u001b[1;32m     72\u001b[0m         \u001b[0;32mif\u001b[0m \u001b[0;32mnot\u001b[0m \u001b[0mis_bitsandbytes_available\u001b[0m\u001b[0;34m(\u001b[0m\u001b[0;34m)\u001b[0m\u001b[0;34m:\u001b[0m\u001b[0;34m\u001b[0m\u001b[0;34m\u001b[0m\u001b[0m\n\u001b[0;32m---> 73\u001b[0;31m             raise ImportError(\n\u001b[0m\u001b[1;32m     74\u001b[0m                 \u001b[0;34m\"Using `bitsandbytes` 8-bit quantization requires the latest version of bitsandbytes: `pip install -U bitsandbytes`\"\u001b[0m\u001b[0;34m\u001b[0m\u001b[0;34m\u001b[0m\u001b[0m\n\u001b[1;32m     75\u001b[0m             )\n",
            "\u001b[0;31mImportError\u001b[0m: Using `bitsandbytes` 8-bit quantization requires the latest version of bitsandbytes: `pip install -U bitsandbytes`",
            "",
            "\u001b[0;31m---------------------------------------------------------------------------\u001b[0;32m\nNOTE: If your import is failing due to a missing package, you can\nmanually install dependencies using either !pip or !apt.\n\nTo view examples of installing some common dependencies, click the\n\"Open Examples\" button below.\n\u001b[0;31m---------------------------------------------------------------------------\u001b[0m\n"
          ],
          "errorDetails": {
            "actions": [
              {
                "action": "open_url",
                "actionText": "Open Examples",
                "url": "/notebooks/snippets/importing_libraries.ipynb"
              }
            ]
          }
        }
      ],
      "source": [
        "kg_extractor = QueryGraphExtractor(kg=G)\n",
        "gnn_encoder = encoder\n",
        "cross_modal_pooling = CrossModalityPooling(graph_dim=64, text_dim=384, common_dim=128)\n",
        "\n",
        "# Initialize the GNP model\n",
        "model = GNPModel(\n",
        "    KG=G,\n",
        "    gnn_encoder=gnn_encoder,\n",
        "    text_encoder=text_encoder,\n",
        "    cross_modal_pooling=cross_modal_pooling\n",
        ")\n"
      ]
    },
    {
      "source": [
        "#!pip install  bitsandbytes"
      ],
      "cell_type": "code",
      "metadata": {
        "id": "r4hFO2NnqdrG"
      },
      "execution_count": null,
      "outputs": []
    },
    {
      "cell_type": "code",
      "execution_count": null,
      "metadata": {
        "id": "04RinT4Zoxye",
        "outputId": "7fd300b4-05ad-4ed5-f107-2790a0b6093a"
      },
      "outputs": [
        {
          "name": "stdout",
          "output_type": "stream",
          "text": [
            "{'query': 'What are the symptoms of abdominal aortic aneurysm?', 'answer': 'shortness of breath, palpitations, sharp abdominal pain, arm swelling, back pain, burning abdominal pain'}\n",
            "{'query': 'Which medicines are prescribed for abdominal aortic aneurysm?', 'answer': 'Propranolol, Atenolol'}\n",
            "{'query': 'What is the treatment for abdominal aortic aneurysm?', 'answer': 'Beta-blockers, Surgery if needed'}\n"
          ]
        }
      ],
      "source": [
        "import json\n",
        "\n",
        "def load_jsonl_dataset(path):\n",
        "    data = []\n",
        "    with open(path, \"r\") as f:\n",
        "        for line in f:\n",
        "            example = json.loads(line.strip())\n",
        "            data.append(example)\n",
        "    return data\n",
        "\n",
        "# Example usage\n",
        "dataset = load_jsonl_dataset(\"C:/Users/CSE IIT BHILAI/Desktop/RishavKumar(M24DS012)/disease_query_answer_pairs.jsonl\")\n",
        "\n",
        "# Peek at some samples\n",
        "for item in dataset[:3]:\n",
        "    print(item)\n"
      ]
    },
    {
      "cell_type": "code",
      "execution_count": null,
      "metadata": {
        "id": "g-j4wADroxye"
      },
      "outputs": [],
      "source": [
        "from torch.utils.data import Dataset\n",
        "\n",
        "class GNPQueryDataset(Dataset):\n",
        "    def __init__(self, data, tokenizer, max_length=128):\n",
        "        self.data = data\n",
        "        self.tokenizer = tokenizer\n",
        "        self.max_length = max_length\n",
        "\n",
        "\n",
        "    def __len__(self):\n",
        "        return len(self.data)\n",
        "\n",
        "    def __getitem__(self, idx):\n",
        "        item = self.data[idx]\n",
        "        query = item[\"query\"]\n",
        "        answer = item[\"answer\"]\n",
        "\n",
        "        input_enc = self.tokenizer(query, padding=\"max_length\", truncation=True, max_length=self.max_length, return_tensors=\"pt\")\n",
        "        target_enc = self.tokenizer(answer, padding=\"max_length\", truncation=True, max_length=self.max_length, return_tensors=\"pt\")\n",
        "\n",
        "        input_ids = input_enc[\"input_ids\"].squeeze()\n",
        "        attention_mask = input_enc[\"attention_mask\"].squeeze()\n",
        "        labels = target_enc[\"input_ids\"].squeeze()\n",
        "\n",
        "        # Replace padding token id's of the labels by -100 so they are ignored by the loss\n",
        "        labels[labels == tokenizer.pad_token_id] = -100\n",
        "\n",
        "        return {\n",
        "            \"input_ids\": input_ids,\n",
        "            \"attention_mask\": attention_mask,\n",
        "            \"labels\": labels\n",
        "        }\n"
      ]
    },
    {
      "cell_type": "code",
      "execution_count": null,
      "metadata": {
        "id": "HzoXQMrkoxye"
      },
      "outputs": [],
      "source": [
        "tokenizer = model.tokenizer  # Use tokenizer from your GNPModel\n",
        "train_dataset = GNPQueryDataset(dataset, tokenizer)"
      ]
    },
    {
      "cell_type": "code",
      "execution_count": null,
      "metadata": {
        "id": "_43THQjsoxyf"
      },
      "outputs": [],
      "source": [
        "from torch.utils.data import DataLoader\n",
        "\n",
        "# Parameters\n",
        "batch_size = 4  # You can increase this if you have enough GPU memory\n",
        "\n",
        "train_loader = DataLoader(train_dataset, batch_size=batch_size, shuffle=True)"
      ]
    },
    {
      "cell_type": "code",
      "execution_count": null,
      "metadata": {
        "scrolled": true,
        "id": "WSbJTA-zoxyf",
        "outputId": "0a724ad6-914c-41c8-b1fe-dc16bd3da8bc"
      },
      "outputs": [
        {
          "name": "stderr",
          "output_type": "stream",
          "text": [
            "Epoch 1/25: 100%|█████████████████████████████████████████████████████████| 580/580 [02:50<00:00,  3.40it/s, loss=3.53]\n"
          ]
        },
        {
          "name": "stdout",
          "output_type": "stream",
          "text": [
            "✅ Epoch 1 Average Loss: 3.4794\n",
            "🎯 New best model saved at Epoch 1 with loss 3.4794\n"
          ]
        },
        {
          "name": "stderr",
          "output_type": "stream",
          "text": [
            "Epoch 2/25: 100%|█████████████████████████████████████████████████████████| 580/580 [02:46<00:00,  3.48it/s, loss=2.47]\n"
          ]
        },
        {
          "name": "stdout",
          "output_type": "stream",
          "text": [
            "✅ Epoch 2 Average Loss: 3.1238\n",
            "🎯 New best model saved at Epoch 2 with loss 3.1238\n"
          ]
        },
        {
          "name": "stderr",
          "output_type": "stream",
          "text": [
            "Epoch 3/25: 100%|█████████████████████████████████████████████████████████| 580/580 [02:48<00:00,  3.44it/s, loss=1.85]\n"
          ]
        },
        {
          "name": "stdout",
          "output_type": "stream",
          "text": [
            "✅ Epoch 3 Average Loss: 2.7241\n",
            "🎯 New best model saved at Epoch 3 with loss 2.7241\n"
          ]
        },
        {
          "name": "stderr",
          "output_type": "stream",
          "text": [
            "Epoch 4/25: 100%|██████████████████████████████████████████████████████████| 580/580 [02:49<00:00,  3.42it/s, loss=2.2]\n"
          ]
        },
        {
          "name": "stdout",
          "output_type": "stream",
          "text": [
            "✅ Epoch 4 Average Loss: 2.4353\n",
            "🎯 New best model saved at Epoch 4 with loss 2.4353\n"
          ]
        },
        {
          "name": "stderr",
          "output_type": "stream",
          "text": [
            "Epoch 5/25: 100%|█████████████████████████████████████████████████████████| 580/580 [02:47<00:00,  3.46it/s, loss=2.21]\n"
          ]
        },
        {
          "name": "stdout",
          "output_type": "stream",
          "text": [
            "✅ Epoch 5 Average Loss: 2.2400\n",
            "🎯 New best model saved at Epoch 5 with loss 2.2400\n"
          ]
        },
        {
          "name": "stderr",
          "output_type": "stream",
          "text": [
            "Epoch 6/25: 100%|█████████████████████████████████████████████████████████| 580/580 [02:39<00:00,  3.64it/s, loss=1.49]\n"
          ]
        },
        {
          "name": "stdout",
          "output_type": "stream",
          "text": [
            "✅ Epoch 6 Average Loss: 2.0930\n",
            "🎯 New best model saved at Epoch 6 with loss 2.0930\n"
          ]
        },
        {
          "name": "stderr",
          "output_type": "stream",
          "text": [
            "Epoch 7/25: 100%|█████████████████████████████████████████████████████████| 580/580 [02:40<00:00,  3.62it/s, loss=2.41]\n"
          ]
        },
        {
          "name": "stdout",
          "output_type": "stream",
          "text": [
            "✅ Epoch 7 Average Loss: 1.9840\n",
            "🎯 New best model saved at Epoch 7 with loss 1.9840\n"
          ]
        },
        {
          "name": "stderr",
          "output_type": "stream",
          "text": [
            "Epoch 8/25: 100%|████████████████████████████████████████████████████████| 580/580 [02:39<00:00,  3.64it/s, loss=0.583]\n"
          ]
        },
        {
          "name": "stdout",
          "output_type": "stream",
          "text": [
            "✅ Epoch 8 Average Loss: 1.9032\n",
            "🎯 New best model saved at Epoch 8 with loss 1.9032\n"
          ]
        },
        {
          "name": "stderr",
          "output_type": "stream",
          "text": [
            "Epoch 9/25: 100%|██████████████████████████████████████████████████████████| 580/580 [02:38<00:00,  3.65it/s, loss=2.8]\n"
          ]
        },
        {
          "name": "stdout",
          "output_type": "stream",
          "text": [
            "✅ Epoch 9 Average Loss: 1.8482\n",
            "🎯 New best model saved at Epoch 9 with loss 1.8482\n"
          ]
        },
        {
          "name": "stderr",
          "output_type": "stream",
          "text": [
            "Epoch 10/25: 100%|███████████████████████████████████████████████████████| 580/580 [02:43<00:00,  3.55it/s, loss=0.626]\n"
          ]
        },
        {
          "name": "stdout",
          "output_type": "stream",
          "text": [
            "✅ Epoch 10 Average Loss: 1.7854\n",
            "🎯 New best model saved at Epoch 10 with loss 1.7854\n"
          ]
        },
        {
          "name": "stderr",
          "output_type": "stream",
          "text": [
            "Epoch 11/25: 100%|████████████████████████████████████████████████████████| 580/580 [02:35<00:00,  3.74it/s, loss=1.55]\n"
          ]
        },
        {
          "name": "stdout",
          "output_type": "stream",
          "text": [
            "✅ Epoch 11 Average Loss: 1.7406\n",
            "🎯 New best model saved at Epoch 11 with loss 1.7406\n"
          ]
        },
        {
          "name": "stderr",
          "output_type": "stream",
          "text": [
            "Epoch 12/25: 100%|███████████████████████████████████████████████████████| 580/580 [02:43<00:00,  3.55it/s, loss=0.428]\n"
          ]
        },
        {
          "name": "stdout",
          "output_type": "stream",
          "text": [
            "✅ Epoch 12 Average Loss: 1.7299\n",
            "🎯 New best model saved at Epoch 12 with loss 1.7299\n"
          ]
        },
        {
          "name": "stderr",
          "output_type": "stream",
          "text": [
            "Epoch 13/25: 100%|████████████████████████████████████████████████████████| 580/580 [02:37<00:00,  3.68it/s, loss=1.65]\n"
          ]
        },
        {
          "name": "stdout",
          "output_type": "stream",
          "text": [
            "✅ Epoch 13 Average Loss: 1.6902\n",
            "🎯 New best model saved at Epoch 13 with loss 1.6902\n"
          ]
        },
        {
          "name": "stderr",
          "output_type": "stream",
          "text": [
            "Epoch 14/25: 100%|███████████████████████████████████████████████████████| 580/580 [02:40<00:00,  3.61it/s, loss=0.793]\n"
          ]
        },
        {
          "name": "stdout",
          "output_type": "stream",
          "text": [
            "✅ Epoch 14 Average Loss: 1.6632\n",
            "🎯 New best model saved at Epoch 14 with loss 1.6632\n"
          ]
        },
        {
          "name": "stderr",
          "output_type": "stream",
          "text": [
            "Epoch 15/25: 100%|████████████████████████████████████████████████████████| 580/580 [02:42<00:00,  3.57it/s, loss=1.86]\n"
          ]
        },
        {
          "name": "stdout",
          "output_type": "stream",
          "text": [
            "✅ Epoch 15 Average Loss: 1.6414\n",
            "🎯 New best model saved at Epoch 15 with loss 1.6414\n"
          ]
        },
        {
          "name": "stderr",
          "output_type": "stream",
          "text": [
            "Epoch 16/25: 100%|████████████████████████████████████████████████████████| 580/580 [02:42<00:00,  3.56it/s, loss=1.67]\n"
          ]
        },
        {
          "name": "stdout",
          "output_type": "stream",
          "text": [
            "✅ Epoch 16 Average Loss: 1.6114\n",
            "🎯 New best model saved at Epoch 16 with loss 1.6114\n"
          ]
        },
        {
          "name": "stderr",
          "output_type": "stream",
          "text": [
            "Epoch 17/25: 100%|████████████████████████████████████████████████████████| 580/580 [02:40<00:00,  3.61it/s, loss=2.17]\n"
          ]
        },
        {
          "name": "stdout",
          "output_type": "stream",
          "text": [
            "✅ Epoch 17 Average Loss: 1.6003\n",
            "🎯 New best model saved at Epoch 17 with loss 1.6003\n"
          ]
        },
        {
          "name": "stderr",
          "output_type": "stream",
          "text": [
            "Epoch 18/25: 100%|████████████████████████████████████████████████████████| 580/580 [02:42<00:00,  3.57it/s, loss=2.08]\n"
          ]
        },
        {
          "name": "stdout",
          "output_type": "stream",
          "text": [
            "✅ Epoch 18 Average Loss: 1.5971\n",
            "🎯 New best model saved at Epoch 18 with loss 1.5971\n"
          ]
        },
        {
          "name": "stderr",
          "output_type": "stream",
          "text": [
            "Epoch 19/25: 100%|████████████████████████████████████████████████████████| 580/580 [02:42<00:00,  3.57it/s, loss=1.84]\n"
          ]
        },
        {
          "name": "stdout",
          "output_type": "stream",
          "text": [
            "✅ Epoch 19 Average Loss: 1.5784\n",
            "🎯 New best model saved at Epoch 19 with loss 1.5784\n"
          ]
        },
        {
          "name": "stderr",
          "output_type": "stream",
          "text": [
            "Epoch 20/25: 100%|███████████████████████████████████████████████████████| 580/580 [02:40<00:00,  3.60it/s, loss=0.556]\n"
          ]
        },
        {
          "name": "stdout",
          "output_type": "stream",
          "text": [
            "✅ Epoch 20 Average Loss: 1.5663\n",
            "🎯 New best model saved at Epoch 20 with loss 1.5663\n"
          ]
        },
        {
          "name": "stderr",
          "output_type": "stream",
          "text": [
            "Epoch 21/25: 100%|████████████████████████████████████████████████████████| 580/580 [02:42<00:00,  3.57it/s, loss=1.84]\n"
          ]
        },
        {
          "name": "stdout",
          "output_type": "stream",
          "text": [
            "✅ Epoch 21 Average Loss: 1.5703\n",
            "📉 No improvement. Patience counter: 1/5\n"
          ]
        },
        {
          "name": "stderr",
          "output_type": "stream",
          "text": [
            "Epoch 22/25: 100%|█████████████████████████████████████████████████████████| 580/580 [02:45<00:00,  3.50it/s, loss=1.1]\n"
          ]
        },
        {
          "name": "stdout",
          "output_type": "stream",
          "text": [
            "✅ Epoch 22 Average Loss: 1.5398\n",
            "🎯 New best model saved at Epoch 22 with loss 1.5398\n"
          ]
        },
        {
          "name": "stderr",
          "output_type": "stream",
          "text": [
            "Epoch 23/25: 100%|████████████████████████████████████████████████████████| 580/580 [02:41<00:00,  3.58it/s, loss=1.51]\n"
          ]
        },
        {
          "name": "stdout",
          "output_type": "stream",
          "text": [
            "✅ Epoch 23 Average Loss: 1.5357\n",
            "🎯 New best model saved at Epoch 23 with loss 1.5357\n"
          ]
        },
        {
          "name": "stderr",
          "output_type": "stream",
          "text": [
            "Epoch 24/25: 100%|███████████████████████████████████████████████████████| 580/580 [02:39<00:00,  3.63it/s, loss=0.551]\n"
          ]
        },
        {
          "name": "stdout",
          "output_type": "stream",
          "text": [
            "✅ Epoch 24 Average Loss: 1.5362\n",
            "📉 No improvement. Patience counter: 1/5\n"
          ]
        },
        {
          "name": "stderr",
          "output_type": "stream",
          "text": [
            "Epoch 25/25: 100%|████████████████████████████████████████████████████████| 580/580 [02:41<00:00,  3.59it/s, loss=1.51]"
          ]
        },
        {
          "name": "stdout",
          "output_type": "stream",
          "text": [
            "✅ Epoch 25 Average Loss: 1.5451\n",
            "📉 No improvement. Patience counter: 2/5\n"
          ]
        },
        {
          "name": "stderr",
          "output_type": "stream",
          "text": [
            "\n"
          ]
        }
      ],
      "source": [
        "import os\n",
        "best_loss = float('inf')\n",
        "save_path = \"best_model.pt\"\n",
        "patience = 5\n",
        "counter = 0\n",
        "optimizer = torch.optim.AdamW(model.parameters(), lr=2e-5)\n",
        "\n",
        "num_training_steps = len(train_loader) * epochs\n",
        "num_warmup_steps = int(0.1 * num_training_steps)\n",
        "\n",
        "lr_scheduler = get_scheduler(\n",
        "    name=\"linear\", optimizer=optimizer, num_warmup_steps=num_warmup_steps, num_training_steps=num_training_steps\n",
        ")\n",
        "\n",
        "train_losses = []\n",
        "\n",
        "for epoch in range(epochs):\n",
        "    model.train()\n",
        "    loop = tqdm(train_loader, desc=f\"Epoch {epoch+1}/{epochs}\")\n",
        "    epoch_loss = 0\n",
        "\n",
        "    for batch in loop:\n",
        "        input_ids = batch[\"input_ids\"].to(device)\n",
        "        attention_mask = batch[\"attention_mask\"].to(device)\n",
        "        labels = batch[\"labels\"].to(device)\n",
        "\n",
        "        outputs = model.llm(\n",
        "            input_ids=input_ids,\n",
        "            attention_mask=attention_mask,\n",
        "            labels=labels\n",
        "        )\n",
        "\n",
        "        loss = outputs.loss\n",
        "        loss.backward()\n",
        "        torch.nn.utils.clip_grad_norm_(model.parameters(), 1.0)\n",
        "\n",
        "        optimizer.step()\n",
        "        lr_scheduler.step()\n",
        "        optimizer.zero_grad()\n",
        "\n",
        "        epoch_loss += loss.item()\n",
        "        loop.set_postfix(loss=loss.item())\n",
        "\n",
        "    avg_loss = epoch_loss / len(train_loader)\n",
        "    train_losses.append(avg_loss)\n",
        "    print(f\"✅ Epoch {epoch+1} Average Loss: {avg_loss:.4f}\")\n",
        "\n",
        "     # ✅ Checkpoint saving\n",
        "    if avg_loss < best_loss:\n",
        "        best_loss = avg_loss\n",
        "        torch.save(model.state_dict(), save_path)\n",
        "        print(f\"🎯 New best model saved at Epoch {epoch+1} with loss {avg_loss:.4f}\")\n",
        "        counter = 0\n",
        "    else:\n",
        "        counter += 1\n",
        "        print(f\"📉 No improvement. Patience counter: {counter}/{patience}\")\n",
        "        if counter >= patience:\n",
        "            print(\"🛑 Early stopping triggered.\")\n",
        "            break\n"
      ]
    },
    {
      "cell_type": "code",
      "execution_count": null,
      "metadata": {
        "id": "uzJC-A9Xoxyf"
      },
      "outputs": [],
      "source": [
        "torch.save(model, \"gnp_model_full1.pth\")"
      ]
    },
    {
      "cell_type": "code",
      "execution_count": null,
      "metadata": {
        "colab": {
          "base_uri": "https://localhost:8080/"
        },
        "id": "ND4XppmLGiFD",
        "outputId": "023ccc58-4cc0-4ec0-8770-82abf20b7d1f",
        "scrolled": true
      },
      "outputs": [
        {
          "data": {
            "text/plain": [
              "tensor([  1.3731,   1.3695,  -3.1768,  -2.3471,   2.1886,   4.1441,   2.2795,\n",
              "         -9.4333,   7.0472,   2.8879,   5.2193,  -6.2660,  -2.7473,   1.4386,\n",
              "          5.9678,   2.9938,  -2.6217,  -6.7149,  -1.3894,  11.3002,   4.7716,\n",
              "         -7.3941,  10.3214,  -0.2030,  -1.2323,  12.2668,  -0.1125,  15.2097,\n",
              "         -8.4247,  -3.9203,  -0.3423,  -7.8613,  -3.9411,  11.7107,   5.8192,\n",
              "          5.9805,   6.7697,   1.5290,   0.1003,  10.2460,   3.6919,  -5.6111,\n",
              "         -5.8823,  -3.3310,  -6.9257, -10.5645,  -0.8710,  -9.9671,   3.5592,\n",
              "         10.7809,  16.1394,  12.3934, -10.9164,   1.0353,  -1.2880,   9.1468,\n",
              "        -13.2454,   0.1749,   7.2134,   3.8656,  -1.9608,  -4.1103,   3.9121,\n",
              "         12.1148, -12.8553,  16.7420, -14.3880,  -6.7752,   4.0979,   6.4427,\n",
              "         -4.6146, -14.2509,  -5.0380,   3.6662,  -5.5443,   1.8455,  -9.6124,\n",
              "         -5.9878,   1.7895,  -3.4060,   6.3179,  -7.3464,   7.5667,   2.5078,\n",
              "          9.2456, -12.3701,   0.8208,   0.9414,  -1.8434,  -2.4193,  -4.0618,\n",
              "         -8.1295,   0.5619,  -6.1961,   9.4103,  13.6371,   7.2940,   8.6846,\n",
              "        -11.1929,   6.3287,   2.8584,   0.5322,  10.6618, -14.2296, -11.0211,\n",
              "          2.4566,   5.9158,  -3.1965,   3.5474,   8.2476,   1.3734,   7.4905,\n",
              "          7.6915,   6.6798,  -6.4327,   4.4097,  -2.6504, -13.1636,  -1.8378,\n",
              "         -4.1358,   4.2860, -14.6412,  10.4370,  -7.6608,   0.5958,   5.4581,\n",
              "          6.1787,   9.2429], grad_fn=<SumBackward1>)"
            ]
          },
          "execution_count": 61,
          "metadata": {},
          "output_type": "execute_result"
        }
      ],
      "source": [
        "gnn_encoder = encoder\n",
        "cross_modal_pooling = CrossModalityPooling(graph_dim=64, text_dim=384, common_dim=128)\n",
        "\n",
        "cross_modal_pooling(gnn_output, embedding)"
      ]
    },
    {
      "cell_type": "code",
      "execution_count": null,
      "metadata": {
        "id": "e-eCHzN2TprJ"
      },
      "outputs": [],
      "source": [
        "#!pip install -U bitsandbytes"
      ]
    },
    {
      "cell_type": "code",
      "execution_count": null,
      "metadata": {
        "id": "mWY-5vkdSpis"
      },
      "outputs": [],
      "source": [
        "kg_extractor = QueryGraphExtractor(kg=G)\n",
        "gnn_encoder = encoder\n",
        "cross_modal_pooling = CrossModalityPooling(graph_dim=64, text_dim=384, common_dim=128)\n",
        "\n",
        "# Initialize the GNP model\n",
        "model = GNPModel(\n",
        "    kg_extractor=kg_extractor,\n",
        "    gnn_encoder=gnn_encoder,\n",
        "    text_encoder=text_encoder,\n",
        "    cross_modal_pooling=cross_modal_pooling\n",
        ")"
      ]
    },
    {
      "cell_type": "code",
      "execution_count": null,
      "metadata": {
        "id": "OpM607rGmUD2",
        "outputId": "f821d3b0-018c-448e-e755-c0e746a678bc"
      },
      "outputs": [
        {
          "name": "stderr",
          "output_type": "stream",
          "text": [
            "C:\\Users\\CSE IIT BHILAI\\AppData\\Local\\Temp\\ipykernel_13724\\3463558238.py:3: FutureWarning: You are using `torch.load` with `weights_only=False` (the current default value), which uses the default pickle module implicitly. It is possible to construct malicious pickle data which will execute arbitrary code during unpickling (See https://github.com/pytorch/pytorch/blob/main/SECURITY.md#untrusted-models for more details). In a future release, the default value for `weights_only` will be flipped to `True`. This limits the functions that could be executed during unpickling. Arbitrary objects will no longer be allowed to be loaded via this mode unless they are explicitly allowlisted by the user via `torch.serialization.add_safe_globals`. We recommend you start setting `weights_only=True` for any use case where you don't have full control of the loaded file. Please open an issue on GitHub for any issues related to this experimental feature.\n",
            "  model1 = torch.load(\"C:/Users/CSE IIT BHILAI/Downloads/gnp_model_full.pth\")\n"
          ]
        },
        {
          "data": {
            "text/plain": [
              "GNPModel(\n",
              "  (kg_extractor): QueryGraphExtractor()\n",
              "  (gnn_encoder): GNNClassifier(\n",
              "    (conv1): GCNConv(85, 16)\n",
              "    (conv2): GCNConv(16, 64)\n",
              "  )\n",
              "  (text_encoder): TextEmbeddingModel(\n",
              "    (text_encoder): BertModel(\n",
              "      (embeddings): BertEmbeddings(\n",
              "        (word_embeddings): Embedding(30522, 384, padding_idx=0)\n",
              "        (position_embeddings): Embedding(512, 384)\n",
              "        (token_type_embeddings): Embedding(2, 384)\n",
              "        (LayerNorm): LayerNorm((384,), eps=1e-12, elementwise_affine=True)\n",
              "        (dropout): Dropout(p=0.1, inplace=False)\n",
              "      )\n",
              "      (encoder): BertEncoder(\n",
              "        (layer): ModuleList(\n",
              "          (0-5): 6 x BertLayer(\n",
              "            (attention): BertAttention(\n",
              "              (self): BertSdpaSelfAttention(\n",
              "                (query): Linear(in_features=384, out_features=384, bias=True)\n",
              "                (key): Linear(in_features=384, out_features=384, bias=True)\n",
              "                (value): Linear(in_features=384, out_features=384, bias=True)\n",
              "                (dropout): Dropout(p=0.1, inplace=False)\n",
              "              )\n",
              "              (output): BertSelfOutput(\n",
              "                (dense): Linear(in_features=384, out_features=384, bias=True)\n",
              "                (LayerNorm): LayerNorm((384,), eps=1e-12, elementwise_affine=True)\n",
              "                (dropout): Dropout(p=0.1, inplace=False)\n",
              "              )\n",
              "            )\n",
              "            (intermediate): BertIntermediate(\n",
              "              (dense): Linear(in_features=384, out_features=1536, bias=True)\n",
              "              (intermediate_act_fn): GELUActivation()\n",
              "            )\n",
              "            (output): BertOutput(\n",
              "              (dense): Linear(in_features=1536, out_features=384, bias=True)\n",
              "              (LayerNorm): LayerNorm((384,), eps=1e-12, elementwise_affine=True)\n",
              "              (dropout): Dropout(p=0.1, inplace=False)\n",
              "            )\n",
              "          )\n",
              "        )\n",
              "      )\n",
              "      (pooler): BertPooler(\n",
              "        (dense): Linear(in_features=384, out_features=384, bias=True)\n",
              "        (activation): Tanh()\n",
              "      )\n",
              "    )\n",
              "  )\n",
              "  (cross_modal_pooling): CrossModalityPooling(\n",
              "    (graph_proj): Linear(in_features=64, out_features=128, bias=True)\n",
              "    (text_proj): Linear(in_features=384, out_features=128, bias=True)\n",
              "  )\n",
              "  (llm): PeftModelForSeq2SeqLM(\n",
              "    (base_model): LoraModel(\n",
              "      (model): T5ForConditionalGeneration(\n",
              "        (shared): Embedding(32128, 768)\n",
              "        (encoder): T5Stack(\n",
              "          (embed_tokens): Embedding(32128, 768)\n",
              "          (block): ModuleList(\n",
              "            (0): T5Block(\n",
              "              (layer): ModuleList(\n",
              "                (0): T5LayerSelfAttention(\n",
              "                  (SelfAttention): T5Attention(\n",
              "                    (q): lora.Linear8bitLt(\n",
              "                      (base_layer): Linear8bitLt(in_features=768, out_features=768, bias=False)\n",
              "                      (lora_dropout): ModuleDict(\n",
              "                        (default): Dropout(p=0.1, inplace=False)\n",
              "                      )\n",
              "                      (lora_A): ModuleDict(\n",
              "                        (default): Linear(in_features=768, out_features=8, bias=False)\n",
              "                      )\n",
              "                      (lora_B): ModuleDict(\n",
              "                        (default): Linear(in_features=8, out_features=768, bias=False)\n",
              "                      )\n",
              "                      (lora_embedding_A): ParameterDict()\n",
              "                      (lora_embedding_B): ParameterDict()\n",
              "                      (lora_magnitude_vector): ModuleDict()\n",
              "                    )\n",
              "                    (k): Linear8bitLt(in_features=768, out_features=768, bias=False)\n",
              "                    (v): lora.Linear8bitLt(\n",
              "                      (base_layer): Linear8bitLt(in_features=768, out_features=768, bias=False)\n",
              "                      (lora_dropout): ModuleDict(\n",
              "                        (default): Dropout(p=0.1, inplace=False)\n",
              "                      )\n",
              "                      (lora_A): ModuleDict(\n",
              "                        (default): Linear(in_features=768, out_features=8, bias=False)\n",
              "                      )\n",
              "                      (lora_B): ModuleDict(\n",
              "                        (default): Linear(in_features=8, out_features=768, bias=False)\n",
              "                      )\n",
              "                      (lora_embedding_A): ParameterDict()\n",
              "                      (lora_embedding_B): ParameterDict()\n",
              "                      (lora_magnitude_vector): ModuleDict()\n",
              "                    )\n",
              "                    (o): Linear8bitLt(in_features=768, out_features=768, bias=False)\n",
              "                    (relative_attention_bias): Embedding(32, 12)\n",
              "                  )\n",
              "                  (layer_norm): T5LayerNorm()\n",
              "                  (dropout): Dropout(p=0.1, inplace=False)\n",
              "                )\n",
              "                (1): T5LayerFF(\n",
              "                  (DenseReluDense): T5DenseGatedActDense(\n",
              "                    (wi_0): Linear8bitLt(in_features=768, out_features=2048, bias=False)\n",
              "                    (wi_1): Linear8bitLt(in_features=768, out_features=2048, bias=False)\n",
              "                    (wo): Linear(in_features=2048, out_features=768, bias=False)\n",
              "                    (dropout): Dropout(p=0.1, inplace=False)\n",
              "                    (act): NewGELUActivation()\n",
              "                  )\n",
              "                  (layer_norm): T5LayerNorm()\n",
              "                  (dropout): Dropout(p=0.1, inplace=False)\n",
              "                )\n",
              "              )\n",
              "            )\n",
              "            (1-11): 11 x T5Block(\n",
              "              (layer): ModuleList(\n",
              "                (0): T5LayerSelfAttention(\n",
              "                  (SelfAttention): T5Attention(\n",
              "                    (q): lora.Linear8bitLt(\n",
              "                      (base_layer): Linear8bitLt(in_features=768, out_features=768, bias=False)\n",
              "                      (lora_dropout): ModuleDict(\n",
              "                        (default): Dropout(p=0.1, inplace=False)\n",
              "                      )\n",
              "                      (lora_A): ModuleDict(\n",
              "                        (default): Linear(in_features=768, out_features=8, bias=False)\n",
              "                      )\n",
              "                      (lora_B): ModuleDict(\n",
              "                        (default): Linear(in_features=8, out_features=768, bias=False)\n",
              "                      )\n",
              "                      (lora_embedding_A): ParameterDict()\n",
              "                      (lora_embedding_B): ParameterDict()\n",
              "                      (lora_magnitude_vector): ModuleDict()\n",
              "                    )\n",
              "                    (k): Linear8bitLt(in_features=768, out_features=768, bias=False)\n",
              "                    (v): lora.Linear8bitLt(\n",
              "                      (base_layer): Linear8bitLt(in_features=768, out_features=768, bias=False)\n",
              "                      (lora_dropout): ModuleDict(\n",
              "                        (default): Dropout(p=0.1, inplace=False)\n",
              "                      )\n",
              "                      (lora_A): ModuleDict(\n",
              "                        (default): Linear(in_features=768, out_features=8, bias=False)\n",
              "                      )\n",
              "                      (lora_B): ModuleDict(\n",
              "                        (default): Linear(in_features=8, out_features=768, bias=False)\n",
              "                      )\n",
              "                      (lora_embedding_A): ParameterDict()\n",
              "                      (lora_embedding_B): ParameterDict()\n",
              "                      (lora_magnitude_vector): ModuleDict()\n",
              "                    )\n",
              "                    (o): Linear8bitLt(in_features=768, out_features=768, bias=False)\n",
              "                  )\n",
              "                  (layer_norm): T5LayerNorm()\n",
              "                  (dropout): Dropout(p=0.1, inplace=False)\n",
              "                )\n",
              "                (1): T5LayerFF(\n",
              "                  (DenseReluDense): T5DenseGatedActDense(\n",
              "                    (wi_0): Linear8bitLt(in_features=768, out_features=2048, bias=False)\n",
              "                    (wi_1): Linear8bitLt(in_features=768, out_features=2048, bias=False)\n",
              "                    (wo): Linear(in_features=2048, out_features=768, bias=False)\n",
              "                    (dropout): Dropout(p=0.1, inplace=False)\n",
              "                    (act): NewGELUActivation()\n",
              "                  )\n",
              "                  (layer_norm): T5LayerNorm()\n",
              "                  (dropout): Dropout(p=0.1, inplace=False)\n",
              "                )\n",
              "              )\n",
              "            )\n",
              "          )\n",
              "          (final_layer_norm): T5LayerNorm()\n",
              "          (dropout): Dropout(p=0.1, inplace=False)\n",
              "        )\n",
              "        (decoder): T5Stack(\n",
              "          (embed_tokens): Embedding(32128, 768)\n",
              "          (block): ModuleList(\n",
              "            (0): T5Block(\n",
              "              (layer): ModuleList(\n",
              "                (0): T5LayerSelfAttention(\n",
              "                  (SelfAttention): T5Attention(\n",
              "                    (q): lora.Linear8bitLt(\n",
              "                      (base_layer): Linear8bitLt(in_features=768, out_features=768, bias=False)\n",
              "                      (lora_dropout): ModuleDict(\n",
              "                        (default): Dropout(p=0.1, inplace=False)\n",
              "                      )\n",
              "                      (lora_A): ModuleDict(\n",
              "                        (default): Linear(in_features=768, out_features=8, bias=False)\n",
              "                      )\n",
              "                      (lora_B): ModuleDict(\n",
              "                        (default): Linear(in_features=8, out_features=768, bias=False)\n",
              "                      )\n",
              "                      (lora_embedding_A): ParameterDict()\n",
              "                      (lora_embedding_B): ParameterDict()\n",
              "                      (lora_magnitude_vector): ModuleDict()\n",
              "                    )\n",
              "                    (k): Linear8bitLt(in_features=768, out_features=768, bias=False)\n",
              "                    (v): lora.Linear8bitLt(\n",
              "                      (base_layer): Linear8bitLt(in_features=768, out_features=768, bias=False)\n",
              "                      (lora_dropout): ModuleDict(\n",
              "                        (default): Dropout(p=0.1, inplace=False)\n",
              "                      )\n",
              "                      (lora_A): ModuleDict(\n",
              "                        (default): Linear(in_features=768, out_features=8, bias=False)\n",
              "                      )\n",
              "                      (lora_B): ModuleDict(\n",
              "                        (default): Linear(in_features=8, out_features=768, bias=False)\n",
              "                      )\n",
              "                      (lora_embedding_A): ParameterDict()\n",
              "                      (lora_embedding_B): ParameterDict()\n",
              "                      (lora_magnitude_vector): ModuleDict()\n",
              "                    )\n",
              "                    (o): Linear8bitLt(in_features=768, out_features=768, bias=False)\n",
              "                    (relative_attention_bias): Embedding(32, 12)\n",
              "                  )\n",
              "                  (layer_norm): T5LayerNorm()\n",
              "                  (dropout): Dropout(p=0.1, inplace=False)\n",
              "                )\n",
              "                (1): T5LayerCrossAttention(\n",
              "                  (EncDecAttention): T5Attention(\n",
              "                    (q): lora.Linear8bitLt(\n",
              "                      (base_layer): Linear8bitLt(in_features=768, out_features=768, bias=False)\n",
              "                      (lora_dropout): ModuleDict(\n",
              "                        (default): Dropout(p=0.1, inplace=False)\n",
              "                      )\n",
              "                      (lora_A): ModuleDict(\n",
              "                        (default): Linear(in_features=768, out_features=8, bias=False)\n",
              "                      )\n",
              "                      (lora_B): ModuleDict(\n",
              "                        (default): Linear(in_features=8, out_features=768, bias=False)\n",
              "                      )\n",
              "                      (lora_embedding_A): ParameterDict()\n",
              "                      (lora_embedding_B): ParameterDict()\n",
              "                      (lora_magnitude_vector): ModuleDict()\n",
              "                    )\n",
              "                    (k): Linear8bitLt(in_features=768, out_features=768, bias=False)\n",
              "                    (v): lora.Linear8bitLt(\n",
              "                      (base_layer): Linear8bitLt(in_features=768, out_features=768, bias=False)\n",
              "                      (lora_dropout): ModuleDict(\n",
              "                        (default): Dropout(p=0.1, inplace=False)\n",
              "                      )\n",
              "                      (lora_A): ModuleDict(\n",
              "                        (default): Linear(in_features=768, out_features=8, bias=False)\n",
              "                      )\n",
              "                      (lora_B): ModuleDict(\n",
              "                        (default): Linear(in_features=8, out_features=768, bias=False)\n",
              "                      )\n",
              "                      (lora_embedding_A): ParameterDict()\n",
              "                      (lora_embedding_B): ParameterDict()\n",
              "                      (lora_magnitude_vector): ModuleDict()\n",
              "                    )\n",
              "                    (o): Linear8bitLt(in_features=768, out_features=768, bias=False)\n",
              "                  )\n",
              "                  (layer_norm): T5LayerNorm()\n",
              "                  (dropout): Dropout(p=0.1, inplace=False)\n",
              "                )\n",
              "                (2): T5LayerFF(\n",
              "                  (DenseReluDense): T5DenseGatedActDense(\n",
              "                    (wi_0): Linear8bitLt(in_features=768, out_features=2048, bias=False)\n",
              "                    (wi_1): Linear8bitLt(in_features=768, out_features=2048, bias=False)\n",
              "                    (wo): Linear(in_features=2048, out_features=768, bias=False)\n",
              "                    (dropout): Dropout(p=0.1, inplace=False)\n",
              "                    (act): NewGELUActivation()\n",
              "                  )\n",
              "                  (layer_norm): T5LayerNorm()\n",
              "                  (dropout): Dropout(p=0.1, inplace=False)\n",
              "                )\n",
              "              )\n",
              "            )\n",
              "            (1-11): 11 x T5Block(\n",
              "              (layer): ModuleList(\n",
              "                (0): T5LayerSelfAttention(\n",
              "                  (SelfAttention): T5Attention(\n",
              "                    (q): lora.Linear8bitLt(\n",
              "                      (base_layer): Linear8bitLt(in_features=768, out_features=768, bias=False)\n",
              "                      (lora_dropout): ModuleDict(\n",
              "                        (default): Dropout(p=0.1, inplace=False)\n",
              "                      )\n",
              "                      (lora_A): ModuleDict(\n",
              "                        (default): Linear(in_features=768, out_features=8, bias=False)\n",
              "                      )\n",
              "                      (lora_B): ModuleDict(\n",
              "                        (default): Linear(in_features=8, out_features=768, bias=False)\n",
              "                      )\n",
              "                      (lora_embedding_A): ParameterDict()\n",
              "                      (lora_embedding_B): ParameterDict()\n",
              "                      (lora_magnitude_vector): ModuleDict()\n",
              "                    )\n",
              "                    (k): Linear8bitLt(in_features=768, out_features=768, bias=False)\n",
              "                    (v): lora.Linear8bitLt(\n",
              "                      (base_layer): Linear8bitLt(in_features=768, out_features=768, bias=False)\n",
              "                      (lora_dropout): ModuleDict(\n",
              "                        (default): Dropout(p=0.1, inplace=False)\n",
              "                      )\n",
              "                      (lora_A): ModuleDict(\n",
              "                        (default): Linear(in_features=768, out_features=8, bias=False)\n",
              "                      )\n",
              "                      (lora_B): ModuleDict(\n",
              "                        (default): Linear(in_features=8, out_features=768, bias=False)\n",
              "                      )\n",
              "                      (lora_embedding_A): ParameterDict()\n",
              "                      (lora_embedding_B): ParameterDict()\n",
              "                      (lora_magnitude_vector): ModuleDict()\n",
              "                    )\n",
              "                    (o): Linear8bitLt(in_features=768, out_features=768, bias=False)\n",
              "                  )\n",
              "                  (layer_norm): T5LayerNorm()\n",
              "                  (dropout): Dropout(p=0.1, inplace=False)\n",
              "                )\n",
              "                (1): T5LayerCrossAttention(\n",
              "                  (EncDecAttention): T5Attention(\n",
              "                    (q): lora.Linear8bitLt(\n",
              "                      (base_layer): Linear8bitLt(in_features=768, out_features=768, bias=False)\n",
              "                      (lora_dropout): ModuleDict(\n",
              "                        (default): Dropout(p=0.1, inplace=False)\n",
              "                      )\n",
              "                      (lora_A): ModuleDict(\n",
              "                        (default): Linear(in_features=768, out_features=8, bias=False)\n",
              "                      )\n",
              "                      (lora_B): ModuleDict(\n",
              "                        (default): Linear(in_features=8, out_features=768, bias=False)\n",
              "                      )\n",
              "                      (lora_embedding_A): ParameterDict()\n",
              "                      (lora_embedding_B): ParameterDict()\n",
              "                      (lora_magnitude_vector): ModuleDict()\n",
              "                    )\n",
              "                    (k): Linear8bitLt(in_features=768, out_features=768, bias=False)\n",
              "                    (v): lora.Linear8bitLt(\n",
              "                      (base_layer): Linear8bitLt(in_features=768, out_features=768, bias=False)\n",
              "                      (lora_dropout): ModuleDict(\n",
              "                        (default): Dropout(p=0.1, inplace=False)\n",
              "                      )\n",
              "                      (lora_A): ModuleDict(\n",
              "                        (default): Linear(in_features=768, out_features=8, bias=False)\n",
              "                      )\n",
              "                      (lora_B): ModuleDict(\n",
              "                        (default): Linear(in_features=8, out_features=768, bias=False)\n",
              "                      )\n",
              "                      (lora_embedding_A): ParameterDict()\n",
              "                      (lora_embedding_B): ParameterDict()\n",
              "                      (lora_magnitude_vector): ModuleDict()\n",
              "                    )\n",
              "                    (o): Linear8bitLt(in_features=768, out_features=768, bias=False)\n",
              "                  )\n",
              "                  (layer_norm): T5LayerNorm()\n",
              "                  (dropout): Dropout(p=0.1, inplace=False)\n",
              "                )\n",
              "                (2): T5LayerFF(\n",
              "                  (DenseReluDense): T5DenseGatedActDense(\n",
              "                    (wi_0): Linear8bitLt(in_features=768, out_features=2048, bias=False)\n",
              "                    (wi_1): Linear8bitLt(in_features=768, out_features=2048, bias=False)\n",
              "                    (wo): Linear(in_features=2048, out_features=768, bias=False)\n",
              "                    (dropout): Dropout(p=0.1, inplace=False)\n",
              "                    (act): NewGELUActivation()\n",
              "                  )\n",
              "                  (layer_norm): T5LayerNorm()\n",
              "                  (dropout): Dropout(p=0.1, inplace=False)\n",
              "                )\n",
              "              )\n",
              "            )\n",
              "          )\n",
              "          (final_layer_norm): T5LayerNorm()\n",
              "          (dropout): Dropout(p=0.1, inplace=False)\n",
              "        )\n",
              "        (lm_head): Linear(in_features=768, out_features=32128, bias=False)\n",
              "      )\n",
              "    )\n",
              "  )\n",
              ")"
            ]
          },
          "execution_count": 83,
          "metadata": {},
          "output_type": "execute_result"
        }
      ],
      "source": [
        "import torch\n",
        "\n",
        "model1 = torch.load(\"C:/Users/CSE IIT BHILAI/Downloads/gnp_model_full.pth\")\n",
        "model1 = model1.to(device)\n",
        "model1.eval()"
      ]
    },
    {
      "cell_type": "code",
      "execution_count": null,
      "metadata": {
        "id": "dqXoxdFhoxyg"
      },
      "outputs": [],
      "source": [
        "test_queries = [\n",
        "    \"Which medicines are prescribed for having fever?\",\n",
        "    \"What is the treatment for back pain?\",\n",
        "    \"What are the symptoms of eustachian tube dysfunction (ear disorder)?\"\n",
        "]\n"
      ]
    },
    {
      "cell_type": "code",
      "execution_count": null,
      "metadata": {
        "id": "1b-EhFB2oxyg",
        "outputId": "d6e3b6b3-2506-459f-feff-158e50d8f290"
      },
      "outputs": [
        {
          "ename": "KeyError",
          "evalue": "'Amoxicillin'",
          "output_type": "error",
          "traceback": [
            "\u001b[1;31m---------------------------------------------------------------------------\u001b[0m",
            "\u001b[1;31mKeyError\u001b[0m                                  Traceback (most recent call last)",
            "Cell \u001b[1;32mIn[85], line 9\u001b[0m\n\u001b[0;32m      7\u001b[0m \u001b[38;5;66;03m# Run for all test queries\u001b[39;00m\n\u001b[0;32m      8\u001b[0m \u001b[38;5;28;01mfor\u001b[39;00m query \u001b[38;5;129;01min\u001b[39;00m test_queries:\n\u001b[1;32m----> 9\u001b[0m     output \u001b[38;5;241m=\u001b[39m generate_answer(query)\n\u001b[0;32m     10\u001b[0m     \u001b[38;5;28mprint\u001b[39m(\u001b[38;5;124mf\u001b[39m\u001b[38;5;124m\"\u001b[39m\u001b[38;5;124m🧠 Query: \u001b[39m\u001b[38;5;132;01m{\u001b[39;00mquery\u001b[38;5;132;01m}\u001b[39;00m\u001b[38;5;130;01m\\n\u001b[39;00m\u001b[38;5;124m🗣️  Answer: \u001b[39m\u001b[38;5;132;01m{\u001b[39;00moutput\u001b[38;5;132;01m}\u001b[39;00m\u001b[38;5;130;01m\\n\u001b[39;00m\u001b[38;5;132;01m{\u001b[39;00m\u001b[38;5;124m'\u001b[39m\u001b[38;5;124m-\u001b[39m\u001b[38;5;124m'\u001b[39m\u001b[38;5;241m*\u001b[39m\u001b[38;5;241m60\u001b[39m\u001b[38;5;132;01m}\u001b[39;00m\u001b[38;5;124m\"\u001b[39m)\n",
            "Cell \u001b[1;32mIn[85], line 4\u001b[0m, in \u001b[0;36mgenerate_answer\u001b[1;34m(query, max_len)\u001b[0m\n\u001b[0;32m      2\u001b[0m model1\u001b[38;5;241m.\u001b[39meval()\n\u001b[0;32m      3\u001b[0m \u001b[38;5;28;01mwith\u001b[39;00m torch\u001b[38;5;241m.\u001b[39mno_grad():\n\u001b[1;32m----> 4\u001b[0m     output \u001b[38;5;241m=\u001b[39m model1(query)\n\u001b[0;32m      5\u001b[0m \u001b[38;5;28;01mreturn\u001b[39;00m output\n",
            "File \u001b[1;32m~\\anaconda3\\envs\\cuda_test\\Lib\\site-packages\\torch\\nn\\modules\\module.py:1736\u001b[0m, in \u001b[0;36mModule._wrapped_call_impl\u001b[1;34m(self, *args, **kwargs)\u001b[0m\n\u001b[0;32m   1734\u001b[0m     \u001b[38;5;28;01mreturn\u001b[39;00m \u001b[38;5;28mself\u001b[39m\u001b[38;5;241m.\u001b[39m_compiled_call_impl(\u001b[38;5;241m*\u001b[39margs, \u001b[38;5;241m*\u001b[39m\u001b[38;5;241m*\u001b[39mkwargs)  \u001b[38;5;66;03m# type: ignore[misc]\u001b[39;00m\n\u001b[0;32m   1735\u001b[0m \u001b[38;5;28;01melse\u001b[39;00m:\n\u001b[1;32m-> 1736\u001b[0m     \u001b[38;5;28;01mreturn\u001b[39;00m \u001b[38;5;28mself\u001b[39m\u001b[38;5;241m.\u001b[39m_call_impl(\u001b[38;5;241m*\u001b[39margs, \u001b[38;5;241m*\u001b[39m\u001b[38;5;241m*\u001b[39mkwargs)\n",
            "File \u001b[1;32m~\\anaconda3\\envs\\cuda_test\\Lib\\site-packages\\torch\\nn\\modules\\module.py:1747\u001b[0m, in \u001b[0;36mModule._call_impl\u001b[1;34m(self, *args, **kwargs)\u001b[0m\n\u001b[0;32m   1742\u001b[0m \u001b[38;5;66;03m# If we don't have any hooks, we want to skip the rest of the logic in\u001b[39;00m\n\u001b[0;32m   1743\u001b[0m \u001b[38;5;66;03m# this function, and just call forward.\u001b[39;00m\n\u001b[0;32m   1744\u001b[0m \u001b[38;5;28;01mif\u001b[39;00m \u001b[38;5;129;01mnot\u001b[39;00m (\u001b[38;5;28mself\u001b[39m\u001b[38;5;241m.\u001b[39m_backward_hooks \u001b[38;5;129;01mor\u001b[39;00m \u001b[38;5;28mself\u001b[39m\u001b[38;5;241m.\u001b[39m_backward_pre_hooks \u001b[38;5;129;01mor\u001b[39;00m \u001b[38;5;28mself\u001b[39m\u001b[38;5;241m.\u001b[39m_forward_hooks \u001b[38;5;129;01mor\u001b[39;00m \u001b[38;5;28mself\u001b[39m\u001b[38;5;241m.\u001b[39m_forward_pre_hooks\n\u001b[0;32m   1745\u001b[0m         \u001b[38;5;129;01mor\u001b[39;00m _global_backward_pre_hooks \u001b[38;5;129;01mor\u001b[39;00m _global_backward_hooks\n\u001b[0;32m   1746\u001b[0m         \u001b[38;5;129;01mor\u001b[39;00m _global_forward_hooks \u001b[38;5;129;01mor\u001b[39;00m _global_forward_pre_hooks):\n\u001b[1;32m-> 1747\u001b[0m     \u001b[38;5;28;01mreturn\u001b[39;00m forward_call(\u001b[38;5;241m*\u001b[39margs, \u001b[38;5;241m*\u001b[39m\u001b[38;5;241m*\u001b[39mkwargs)\n\u001b[0;32m   1749\u001b[0m result \u001b[38;5;241m=\u001b[39m \u001b[38;5;28;01mNone\u001b[39;00m\n\u001b[0;32m   1750\u001b[0m called_always_called_hooks \u001b[38;5;241m=\u001b[39m \u001b[38;5;28mset\u001b[39m()\n",
            "Cell \u001b[1;32mIn[82], line 23\u001b[0m, in \u001b[0;36mGNPModel.forward\u001b[1;34m(self, query)\u001b[0m\n\u001b[0;32m     21\u001b[0m \u001b[38;5;28;01mif\u001b[39;00m subgraph\u001b[38;5;241m.\u001b[39mnumber_of_nodes() \u001b[38;5;241m==\u001b[39m \u001b[38;5;241m0\u001b[39m \u001b[38;5;129;01mor\u001b[39;00m subgraph\u001b[38;5;241m.\u001b[39mnumber_of_edges() \u001b[38;5;241m==\u001b[39m \u001b[38;5;241m0\u001b[39m:\n\u001b[0;32m     22\u001b[0m   \u001b[38;5;28;01mreturn\u001b[39;00m \u001b[38;5;124m\"\u001b[39m\u001b[38;5;124m⚠️ No relevant knowledge found in the graph for this query.\u001b[39m\u001b[38;5;124m\"\u001b[39m\n\u001b[1;32m---> 23\u001b[0m graph_data\u001b[38;5;241m=\u001b[39m\u001b[38;5;28mself\u001b[39m\u001b[38;5;241m.\u001b[39mgnn_encoder\u001b[38;5;241m.\u001b[39mconvert_nx_to_torch_data(subgraph,\u001b[38;5;28mself\u001b[39m\u001b[38;5;241m.\u001b[39mglobal_mapping)\n\u001b[0;32m     24\u001b[0m \u001b[38;5;28;01mif\u001b[39;00m graph_data\u001b[38;5;241m.\u001b[39medge_index\u001b[38;5;241m.\u001b[39msize(\u001b[38;5;241m1\u001b[39m) \u001b[38;5;241m==\u001b[39m \u001b[38;5;241m0\u001b[39m:\n\u001b[0;32m     25\u001b[0m   \u001b[38;5;28;01mreturn\u001b[39;00m \u001b[38;5;124m\"\u001b[39m\u001b[38;5;124m⚠️ Empty edge_index after conversion, cannot process GNN.\u001b[39m\u001b[38;5;124m\"\u001b[39m\n",
            "Cell \u001b[1;32mIn[22], line 17\u001b[0m, in \u001b[0;36mGNNClassifier.convert_nx_to_torch_data\u001b[1;34m(subgraph, global_node_mapping, labels_dict, num_classes)\u001b[0m\n\u001b[0;32m     13\u001b[0m \u001b[38;5;129m@staticmethod\u001b[39m\n\u001b[0;32m     14\u001b[0m \u001b[38;5;28;01mdef\u001b[39;00m \u001b[38;5;21mconvert_nx_to_torch_data\u001b[39m(subgraph: nx\u001b[38;5;241m.\u001b[39mDiGraph, global_node_mapping: \u001b[38;5;28mdict\u001b[39m, labels_dict\u001b[38;5;241m=\u001b[39m\u001b[38;5;28;01mNone\u001b[39;00m, num_classes\u001b[38;5;241m=\u001b[39m\u001b[38;5;241m3\u001b[39m):\n\u001b[0;32m     15\u001b[0m     total_nodes \u001b[38;5;241m=\u001b[39m \u001b[38;5;28mlen\u001b[39m(global_node_mapping)\n\u001b[0;32m     16\u001b[0m     edge_index \u001b[38;5;241m=\u001b[39m torch\u001b[38;5;241m.\u001b[39mtensor(\n\u001b[1;32m---> 17\u001b[0m         [[global_node_mapping[u], global_node_mapping[v]] \u001b[38;5;28;01mfor\u001b[39;00m u, v \u001b[38;5;129;01min\u001b[39;00m subgraph\u001b[38;5;241m.\u001b[39medges], dtype\u001b[38;5;241m=\u001b[39mtorch\u001b[38;5;241m.\u001b[39mlong\n\u001b[0;32m     18\u001b[0m     )\u001b[38;5;241m.\u001b[39mt()\u001b[38;5;241m.\u001b[39mcontiguous()\n\u001b[0;32m     20\u001b[0m     x \u001b[38;5;241m=\u001b[39m torch\u001b[38;5;241m.\u001b[39mzeros((total_nodes, total_nodes))\n\u001b[0;32m     21\u001b[0m     \u001b[38;5;28;01mfor\u001b[39;00m node \u001b[38;5;129;01min\u001b[39;00m subgraph\u001b[38;5;241m.\u001b[39mnodes:\n",
            "Cell \u001b[1;32mIn[22], line 17\u001b[0m, in \u001b[0;36m<listcomp>\u001b[1;34m(.0)\u001b[0m\n\u001b[0;32m     13\u001b[0m \u001b[38;5;129m@staticmethod\u001b[39m\n\u001b[0;32m     14\u001b[0m \u001b[38;5;28;01mdef\u001b[39;00m \u001b[38;5;21mconvert_nx_to_torch_data\u001b[39m(subgraph: nx\u001b[38;5;241m.\u001b[39mDiGraph, global_node_mapping: \u001b[38;5;28mdict\u001b[39m, labels_dict\u001b[38;5;241m=\u001b[39m\u001b[38;5;28;01mNone\u001b[39;00m, num_classes\u001b[38;5;241m=\u001b[39m\u001b[38;5;241m3\u001b[39m):\n\u001b[0;32m     15\u001b[0m     total_nodes \u001b[38;5;241m=\u001b[39m \u001b[38;5;28mlen\u001b[39m(global_node_mapping)\n\u001b[0;32m     16\u001b[0m     edge_index \u001b[38;5;241m=\u001b[39m torch\u001b[38;5;241m.\u001b[39mtensor(\n\u001b[1;32m---> 17\u001b[0m         [[global_node_mapping[u], global_node_mapping[v]] \u001b[38;5;28;01mfor\u001b[39;00m u, v \u001b[38;5;129;01min\u001b[39;00m subgraph\u001b[38;5;241m.\u001b[39medges], dtype\u001b[38;5;241m=\u001b[39mtorch\u001b[38;5;241m.\u001b[39mlong\n\u001b[0;32m     18\u001b[0m     )\u001b[38;5;241m.\u001b[39mt()\u001b[38;5;241m.\u001b[39mcontiguous()\n\u001b[0;32m     20\u001b[0m     x \u001b[38;5;241m=\u001b[39m torch\u001b[38;5;241m.\u001b[39mzeros((total_nodes, total_nodes))\n\u001b[0;32m     21\u001b[0m     \u001b[38;5;28;01mfor\u001b[39;00m node \u001b[38;5;129;01min\u001b[39;00m subgraph\u001b[38;5;241m.\u001b[39mnodes:\n",
            "\u001b[1;31mKeyError\u001b[0m: 'Amoxicillin'"
          ]
        }
      ],
      "source": [
        "def generate_answer(query, max_len=50):\n",
        "    model1.eval()\n",
        "    with torch.no_grad():\n",
        "        output = model1(query)\n",
        "    return output\n",
        "\n",
        "# Run for all test queries\n",
        "for query in test_queries:\n",
        "    output = generate_answer(query)\n",
        "    print(f\"🧠 Query: {query}\\n🗣️  Answer: {output}\\n{'-'*60}\")\n"
      ]
    },
    {
      "cell_type": "code",
      "execution_count": null,
      "metadata": {
        "id": "bufKdhUaoxyg"
      },
      "outputs": [],
      "source": []
    }
  ],
  "metadata": {
    "accelerator": "GPU",
    "colab": {
      "gpuType": "T4",
      "provenance": []
    },
    "kernelspec": {
      "display_name": "Python (cuda_test)",
      "language": "python",
      "name": "cuda_test"
    },
    "language_info": {
      "codemirror_mode": {
        "name": "ipython",
        "version": 3
      },
      "file_extension": ".py",
      "mimetype": "text/x-python",
      "name": "python",
      "nbconvert_exporter": "python",
      "pygments_lexer": "ipython3",
      "version": "3.11.11"
    },
    "widgets": {
      "application/vnd.jupyter.widget-state+json": {
        "4005daff344046fc97265b22d86c00fa": {
          "model_module": "@jupyter-widgets/controls",
          "model_name": "HBoxModel",
          "model_module_version": "1.5.0",
          "state": {
            "_dom_classes": [],
            "_model_module": "@jupyter-widgets/controls",
            "_model_module_version": "1.5.0",
            "_model_name": "HBoxModel",
            "_view_count": null,
            "_view_module": "@jupyter-widgets/controls",
            "_view_module_version": "1.5.0",
            "_view_name": "HBoxView",
            "box_style": "",
            "children": [
              "IPY_MODEL_608f5cb03e954274b369f01b672d13e9",
              "IPY_MODEL_452d0cd2afbb42f8b5e8f0d5d46209db",
              "IPY_MODEL_527d876123df48e98a1eb178073e962c"
            ],
            "layout": "IPY_MODEL_d8634301d8cc4bae8fb1e5e9f4efb84e"
          }
        },
        "608f5cb03e954274b369f01b672d13e9": {
          "model_module": "@jupyter-widgets/controls",
          "model_name": "HTMLModel",
          "model_module_version": "1.5.0",
          "state": {
            "_dom_classes": [],
            "_model_module": "@jupyter-widgets/controls",
            "_model_module_version": "1.5.0",
            "_model_name": "HTMLModel",
            "_view_count": null,
            "_view_module": "@jupyter-widgets/controls",
            "_view_module_version": "1.5.0",
            "_view_name": "HTMLView",
            "description": "",
            "description_tooltip": null,
            "layout": "IPY_MODEL_4d6d66c48a4946858e726ea4a1f35ac2",
            "placeholder": "​",
            "style": "IPY_MODEL_30377e34c02246b6942356064bc40c0f",
            "value": "tokenizer_config.json: 100%"
          }
        },
        "452d0cd2afbb42f8b5e8f0d5d46209db": {
          "model_module": "@jupyter-widgets/controls",
          "model_name": "FloatProgressModel",
          "model_module_version": "1.5.0",
          "state": {
            "_dom_classes": [],
            "_model_module": "@jupyter-widgets/controls",
            "_model_module_version": "1.5.0",
            "_model_name": "FloatProgressModel",
            "_view_count": null,
            "_view_module": "@jupyter-widgets/controls",
            "_view_module_version": "1.5.0",
            "_view_name": "ProgressView",
            "bar_style": "success",
            "description": "",
            "description_tooltip": null,
            "layout": "IPY_MODEL_a805b128b19748c484166b63d7ddb08a",
            "max": 350,
            "min": 0,
            "orientation": "horizontal",
            "style": "IPY_MODEL_4937422243694968ad0c0698eaa5f237",
            "value": 350
          }
        },
        "527d876123df48e98a1eb178073e962c": {
          "model_module": "@jupyter-widgets/controls",
          "model_name": "HTMLModel",
          "model_module_version": "1.5.0",
          "state": {
            "_dom_classes": [],
            "_model_module": "@jupyter-widgets/controls",
            "_model_module_version": "1.5.0",
            "_model_name": "HTMLModel",
            "_view_count": null,
            "_view_module": "@jupyter-widgets/controls",
            "_view_module_version": "1.5.0",
            "_view_name": "HTMLView",
            "description": "",
            "description_tooltip": null,
            "layout": "IPY_MODEL_4214ce986d3e4fb7866bdd18cb1d7828",
            "placeholder": "​",
            "style": "IPY_MODEL_c839384710f64de09c5b70c3a722c499",
            "value": " 350/350 [00:00&lt;00:00, 20.7kB/s]"
          }
        },
        "d8634301d8cc4bae8fb1e5e9f4efb84e": {
          "model_module": "@jupyter-widgets/base",
          "model_name": "LayoutModel",
          "model_module_version": "1.2.0",
          "state": {
            "_model_module": "@jupyter-widgets/base",
            "_model_module_version": "1.2.0",
            "_model_name": "LayoutModel",
            "_view_count": null,
            "_view_module": "@jupyter-widgets/base",
            "_view_module_version": "1.2.0",
            "_view_name": "LayoutView",
            "align_content": null,
            "align_items": null,
            "align_self": null,
            "border": null,
            "bottom": null,
            "display": null,
            "flex": null,
            "flex_flow": null,
            "grid_area": null,
            "grid_auto_columns": null,
            "grid_auto_flow": null,
            "grid_auto_rows": null,
            "grid_column": null,
            "grid_gap": null,
            "grid_row": null,
            "grid_template_areas": null,
            "grid_template_columns": null,
            "grid_template_rows": null,
            "height": null,
            "justify_content": null,
            "justify_items": null,
            "left": null,
            "margin": null,
            "max_height": null,
            "max_width": null,
            "min_height": null,
            "min_width": null,
            "object_fit": null,
            "object_position": null,
            "order": null,
            "overflow": null,
            "overflow_x": null,
            "overflow_y": null,
            "padding": null,
            "right": null,
            "top": null,
            "visibility": null,
            "width": null
          }
        },
        "4d6d66c48a4946858e726ea4a1f35ac2": {
          "model_module": "@jupyter-widgets/base",
          "model_name": "LayoutModel",
          "model_module_version": "1.2.0",
          "state": {
            "_model_module": "@jupyter-widgets/base",
            "_model_module_version": "1.2.0",
            "_model_name": "LayoutModel",
            "_view_count": null,
            "_view_module": "@jupyter-widgets/base",
            "_view_module_version": "1.2.0",
            "_view_name": "LayoutView",
            "align_content": null,
            "align_items": null,
            "align_self": null,
            "border": null,
            "bottom": null,
            "display": null,
            "flex": null,
            "flex_flow": null,
            "grid_area": null,
            "grid_auto_columns": null,
            "grid_auto_flow": null,
            "grid_auto_rows": null,
            "grid_column": null,
            "grid_gap": null,
            "grid_row": null,
            "grid_template_areas": null,
            "grid_template_columns": null,
            "grid_template_rows": null,
            "height": null,
            "justify_content": null,
            "justify_items": null,
            "left": null,
            "margin": null,
            "max_height": null,
            "max_width": null,
            "min_height": null,
            "min_width": null,
            "object_fit": null,
            "object_position": null,
            "order": null,
            "overflow": null,
            "overflow_x": null,
            "overflow_y": null,
            "padding": null,
            "right": null,
            "top": null,
            "visibility": null,
            "width": null
          }
        },
        "30377e34c02246b6942356064bc40c0f": {
          "model_module": "@jupyter-widgets/controls",
          "model_name": "DescriptionStyleModel",
          "model_module_version": "1.5.0",
          "state": {
            "_model_module": "@jupyter-widgets/controls",
            "_model_module_version": "1.5.0",
            "_model_name": "DescriptionStyleModel",
            "_view_count": null,
            "_view_module": "@jupyter-widgets/base",
            "_view_module_version": "1.2.0",
            "_view_name": "StyleView",
            "description_width": ""
          }
        },
        "a805b128b19748c484166b63d7ddb08a": {
          "model_module": "@jupyter-widgets/base",
          "model_name": "LayoutModel",
          "model_module_version": "1.2.0",
          "state": {
            "_model_module": "@jupyter-widgets/base",
            "_model_module_version": "1.2.0",
            "_model_name": "LayoutModel",
            "_view_count": null,
            "_view_module": "@jupyter-widgets/base",
            "_view_module_version": "1.2.0",
            "_view_name": "LayoutView",
            "align_content": null,
            "align_items": null,
            "align_self": null,
            "border": null,
            "bottom": null,
            "display": null,
            "flex": null,
            "flex_flow": null,
            "grid_area": null,
            "grid_auto_columns": null,
            "grid_auto_flow": null,
            "grid_auto_rows": null,
            "grid_column": null,
            "grid_gap": null,
            "grid_row": null,
            "grid_template_areas": null,
            "grid_template_columns": null,
            "grid_template_rows": null,
            "height": null,
            "justify_content": null,
            "justify_items": null,
            "left": null,
            "margin": null,
            "max_height": null,
            "max_width": null,
            "min_height": null,
            "min_width": null,
            "object_fit": null,
            "object_position": null,
            "order": null,
            "overflow": null,
            "overflow_x": null,
            "overflow_y": null,
            "padding": null,
            "right": null,
            "top": null,
            "visibility": null,
            "width": null
          }
        },
        "4937422243694968ad0c0698eaa5f237": {
          "model_module": "@jupyter-widgets/controls",
          "model_name": "ProgressStyleModel",
          "model_module_version": "1.5.0",
          "state": {
            "_model_module": "@jupyter-widgets/controls",
            "_model_module_version": "1.5.0",
            "_model_name": "ProgressStyleModel",
            "_view_count": null,
            "_view_module": "@jupyter-widgets/base",
            "_view_module_version": "1.2.0",
            "_view_name": "StyleView",
            "bar_color": null,
            "description_width": ""
          }
        },
        "4214ce986d3e4fb7866bdd18cb1d7828": {
          "model_module": "@jupyter-widgets/base",
          "model_name": "LayoutModel",
          "model_module_version": "1.2.0",
          "state": {
            "_model_module": "@jupyter-widgets/base",
            "_model_module_version": "1.2.0",
            "_model_name": "LayoutModel",
            "_view_count": null,
            "_view_module": "@jupyter-widgets/base",
            "_view_module_version": "1.2.0",
            "_view_name": "LayoutView",
            "align_content": null,
            "align_items": null,
            "align_self": null,
            "border": null,
            "bottom": null,
            "display": null,
            "flex": null,
            "flex_flow": null,
            "grid_area": null,
            "grid_auto_columns": null,
            "grid_auto_flow": null,
            "grid_auto_rows": null,
            "grid_column": null,
            "grid_gap": null,
            "grid_row": null,
            "grid_template_areas": null,
            "grid_template_columns": null,
            "grid_template_rows": null,
            "height": null,
            "justify_content": null,
            "justify_items": null,
            "left": null,
            "margin": null,
            "max_height": null,
            "max_width": null,
            "min_height": null,
            "min_width": null,
            "object_fit": null,
            "object_position": null,
            "order": null,
            "overflow": null,
            "overflow_x": null,
            "overflow_y": null,
            "padding": null,
            "right": null,
            "top": null,
            "visibility": null,
            "width": null
          }
        },
        "c839384710f64de09c5b70c3a722c499": {
          "model_module": "@jupyter-widgets/controls",
          "model_name": "DescriptionStyleModel",
          "model_module_version": "1.5.0",
          "state": {
            "_model_module": "@jupyter-widgets/controls",
            "_model_module_version": "1.5.0",
            "_model_name": "DescriptionStyleModel",
            "_view_count": null,
            "_view_module": "@jupyter-widgets/base",
            "_view_module_version": "1.2.0",
            "_view_name": "StyleView",
            "description_width": ""
          }
        },
        "6571548fa4454ab18c81efe8bbb16c9a": {
          "model_module": "@jupyter-widgets/controls",
          "model_name": "HBoxModel",
          "model_module_version": "1.5.0",
          "state": {
            "_dom_classes": [],
            "_model_module": "@jupyter-widgets/controls",
            "_model_module_version": "1.5.0",
            "_model_name": "HBoxModel",
            "_view_count": null,
            "_view_module": "@jupyter-widgets/controls",
            "_view_module_version": "1.5.0",
            "_view_name": "HBoxView",
            "box_style": "",
            "children": [
              "IPY_MODEL_792ceaf102a74c4bbf4909daed4ee8d7",
              "IPY_MODEL_0bb882363b92488fab1024267c73bff6",
              "IPY_MODEL_c95d5977cf954d49b275ab5f6336c05b"
            ],
            "layout": "IPY_MODEL_cbf098a8ac0f4c2d8b10aea916be15c5"
          }
        },
        "792ceaf102a74c4bbf4909daed4ee8d7": {
          "model_module": "@jupyter-widgets/controls",
          "model_name": "HTMLModel",
          "model_module_version": "1.5.0",
          "state": {
            "_dom_classes": [],
            "_model_module": "@jupyter-widgets/controls",
            "_model_module_version": "1.5.0",
            "_model_name": "HTMLModel",
            "_view_count": null,
            "_view_module": "@jupyter-widgets/controls",
            "_view_module_version": "1.5.0",
            "_view_name": "HTMLView",
            "description": "",
            "description_tooltip": null,
            "layout": "IPY_MODEL_268d838e8fa644aeb8cf3d38eb819d89",
            "placeholder": "​",
            "style": "IPY_MODEL_ddb6c6b9c1bf4a8a903ceb9a1489d45f",
            "value": "vocab.txt: 100%"
          }
        },
        "0bb882363b92488fab1024267c73bff6": {
          "model_module": "@jupyter-widgets/controls",
          "model_name": "FloatProgressModel",
          "model_module_version": "1.5.0",
          "state": {
            "_dom_classes": [],
            "_model_module": "@jupyter-widgets/controls",
            "_model_module_version": "1.5.0",
            "_model_name": "FloatProgressModel",
            "_view_count": null,
            "_view_module": "@jupyter-widgets/controls",
            "_view_module_version": "1.5.0",
            "_view_name": "ProgressView",
            "bar_style": "success",
            "description": "",
            "description_tooltip": null,
            "layout": "IPY_MODEL_2461a935c666411694e10f1c1ed2ad56",
            "max": 231508,
            "min": 0,
            "orientation": "horizontal",
            "style": "IPY_MODEL_aa3d2ded2c034a598e123ca498370777",
            "value": 231508
          }
        },
        "c95d5977cf954d49b275ab5f6336c05b": {
          "model_module": "@jupyter-widgets/controls",
          "model_name": "HTMLModel",
          "model_module_version": "1.5.0",
          "state": {
            "_dom_classes": [],
            "_model_module": "@jupyter-widgets/controls",
            "_model_module_version": "1.5.0",
            "_model_name": "HTMLModel",
            "_view_count": null,
            "_view_module": "@jupyter-widgets/controls",
            "_view_module_version": "1.5.0",
            "_view_name": "HTMLView",
            "description": "",
            "description_tooltip": null,
            "layout": "IPY_MODEL_db6335b3cfbc4ffca65f19bd33e731bf",
            "placeholder": "​",
            "style": "IPY_MODEL_2dd547f9f154480d815445c18354e59f",
            "value": " 232k/232k [00:00&lt;00:00, 1.43MB/s]"
          }
        },
        "cbf098a8ac0f4c2d8b10aea916be15c5": {
          "model_module": "@jupyter-widgets/base",
          "model_name": "LayoutModel",
          "model_module_version": "1.2.0",
          "state": {
            "_model_module": "@jupyter-widgets/base",
            "_model_module_version": "1.2.0",
            "_model_name": "LayoutModel",
            "_view_count": null,
            "_view_module": "@jupyter-widgets/base",
            "_view_module_version": "1.2.0",
            "_view_name": "LayoutView",
            "align_content": null,
            "align_items": null,
            "align_self": null,
            "border": null,
            "bottom": null,
            "display": null,
            "flex": null,
            "flex_flow": null,
            "grid_area": null,
            "grid_auto_columns": null,
            "grid_auto_flow": null,
            "grid_auto_rows": null,
            "grid_column": null,
            "grid_gap": null,
            "grid_row": null,
            "grid_template_areas": null,
            "grid_template_columns": null,
            "grid_template_rows": null,
            "height": null,
            "justify_content": null,
            "justify_items": null,
            "left": null,
            "margin": null,
            "max_height": null,
            "max_width": null,
            "min_height": null,
            "min_width": null,
            "object_fit": null,
            "object_position": null,
            "order": null,
            "overflow": null,
            "overflow_x": null,
            "overflow_y": null,
            "padding": null,
            "right": null,
            "top": null,
            "visibility": null,
            "width": null
          }
        },
        "268d838e8fa644aeb8cf3d38eb819d89": {
          "model_module": "@jupyter-widgets/base",
          "model_name": "LayoutModel",
          "model_module_version": "1.2.0",
          "state": {
            "_model_module": "@jupyter-widgets/base",
            "_model_module_version": "1.2.0",
            "_model_name": "LayoutModel",
            "_view_count": null,
            "_view_module": "@jupyter-widgets/base",
            "_view_module_version": "1.2.0",
            "_view_name": "LayoutView",
            "align_content": null,
            "align_items": null,
            "align_self": null,
            "border": null,
            "bottom": null,
            "display": null,
            "flex": null,
            "flex_flow": null,
            "grid_area": null,
            "grid_auto_columns": null,
            "grid_auto_flow": null,
            "grid_auto_rows": null,
            "grid_column": null,
            "grid_gap": null,
            "grid_row": null,
            "grid_template_areas": null,
            "grid_template_columns": null,
            "grid_template_rows": null,
            "height": null,
            "justify_content": null,
            "justify_items": null,
            "left": null,
            "margin": null,
            "max_height": null,
            "max_width": null,
            "min_height": null,
            "min_width": null,
            "object_fit": null,
            "object_position": null,
            "order": null,
            "overflow": null,
            "overflow_x": null,
            "overflow_y": null,
            "padding": null,
            "right": null,
            "top": null,
            "visibility": null,
            "width": null
          }
        },
        "ddb6c6b9c1bf4a8a903ceb9a1489d45f": {
          "model_module": "@jupyter-widgets/controls",
          "model_name": "DescriptionStyleModel",
          "model_module_version": "1.5.0",
          "state": {
            "_model_module": "@jupyter-widgets/controls",
            "_model_module_version": "1.5.0",
            "_model_name": "DescriptionStyleModel",
            "_view_count": null,
            "_view_module": "@jupyter-widgets/base",
            "_view_module_version": "1.2.0",
            "_view_name": "StyleView",
            "description_width": ""
          }
        },
        "2461a935c666411694e10f1c1ed2ad56": {
          "model_module": "@jupyter-widgets/base",
          "model_name": "LayoutModel",
          "model_module_version": "1.2.0",
          "state": {
            "_model_module": "@jupyter-widgets/base",
            "_model_module_version": "1.2.0",
            "_model_name": "LayoutModel",
            "_view_count": null,
            "_view_module": "@jupyter-widgets/base",
            "_view_module_version": "1.2.0",
            "_view_name": "LayoutView",
            "align_content": null,
            "align_items": null,
            "align_self": null,
            "border": null,
            "bottom": null,
            "display": null,
            "flex": null,
            "flex_flow": null,
            "grid_area": null,
            "grid_auto_columns": null,
            "grid_auto_flow": null,
            "grid_auto_rows": null,
            "grid_column": null,
            "grid_gap": null,
            "grid_row": null,
            "grid_template_areas": null,
            "grid_template_columns": null,
            "grid_template_rows": null,
            "height": null,
            "justify_content": null,
            "justify_items": null,
            "left": null,
            "margin": null,
            "max_height": null,
            "max_width": null,
            "min_height": null,
            "min_width": null,
            "object_fit": null,
            "object_position": null,
            "order": null,
            "overflow": null,
            "overflow_x": null,
            "overflow_y": null,
            "padding": null,
            "right": null,
            "top": null,
            "visibility": null,
            "width": null
          }
        },
        "aa3d2ded2c034a598e123ca498370777": {
          "model_module": "@jupyter-widgets/controls",
          "model_name": "ProgressStyleModel",
          "model_module_version": "1.5.0",
          "state": {
            "_model_module": "@jupyter-widgets/controls",
            "_model_module_version": "1.5.0",
            "_model_name": "ProgressStyleModel",
            "_view_count": null,
            "_view_module": "@jupyter-widgets/base",
            "_view_module_version": "1.2.0",
            "_view_name": "StyleView",
            "bar_color": null,
            "description_width": ""
          }
        },
        "db6335b3cfbc4ffca65f19bd33e731bf": {
          "model_module": "@jupyter-widgets/base",
          "model_name": "LayoutModel",
          "model_module_version": "1.2.0",
          "state": {
            "_model_module": "@jupyter-widgets/base",
            "_model_module_version": "1.2.0",
            "_model_name": "LayoutModel",
            "_view_count": null,
            "_view_module": "@jupyter-widgets/base",
            "_view_module_version": "1.2.0",
            "_view_name": "LayoutView",
            "align_content": null,
            "align_items": null,
            "align_self": null,
            "border": null,
            "bottom": null,
            "display": null,
            "flex": null,
            "flex_flow": null,
            "grid_area": null,
            "grid_auto_columns": null,
            "grid_auto_flow": null,
            "grid_auto_rows": null,
            "grid_column": null,
            "grid_gap": null,
            "grid_row": null,
            "grid_template_areas": null,
            "grid_template_columns": null,
            "grid_template_rows": null,
            "height": null,
            "justify_content": null,
            "justify_items": null,
            "left": null,
            "margin": null,
            "max_height": null,
            "max_width": null,
            "min_height": null,
            "min_width": null,
            "object_fit": null,
            "object_position": null,
            "order": null,
            "overflow": null,
            "overflow_x": null,
            "overflow_y": null,
            "padding": null,
            "right": null,
            "top": null,
            "visibility": null,
            "width": null
          }
        },
        "2dd547f9f154480d815445c18354e59f": {
          "model_module": "@jupyter-widgets/controls",
          "model_name": "DescriptionStyleModel",
          "model_module_version": "1.5.0",
          "state": {
            "_model_module": "@jupyter-widgets/controls",
            "_model_module_version": "1.5.0",
            "_model_name": "DescriptionStyleModel",
            "_view_count": null,
            "_view_module": "@jupyter-widgets/base",
            "_view_module_version": "1.2.0",
            "_view_name": "StyleView",
            "description_width": ""
          }
        },
        "f0e877ecd76643aa862e4049c6a07330": {
          "model_module": "@jupyter-widgets/controls",
          "model_name": "HBoxModel",
          "model_module_version": "1.5.0",
          "state": {
            "_dom_classes": [],
            "_model_module": "@jupyter-widgets/controls",
            "_model_module_version": "1.5.0",
            "_model_name": "HBoxModel",
            "_view_count": null,
            "_view_module": "@jupyter-widgets/controls",
            "_view_module_version": "1.5.0",
            "_view_name": "HBoxView",
            "box_style": "",
            "children": [
              "IPY_MODEL_763dba365f874c75aef7c4c8da104bfe",
              "IPY_MODEL_5ca931ea01534d7091a9e3d72f2bde26",
              "IPY_MODEL_87209f68c56d442bbf2b48915f4e41eb"
            ],
            "layout": "IPY_MODEL_df0176c736a34173834ab309408f9270"
          }
        },
        "763dba365f874c75aef7c4c8da104bfe": {
          "model_module": "@jupyter-widgets/controls",
          "model_name": "HTMLModel",
          "model_module_version": "1.5.0",
          "state": {
            "_dom_classes": [],
            "_model_module": "@jupyter-widgets/controls",
            "_model_module_version": "1.5.0",
            "_model_name": "HTMLModel",
            "_view_count": null,
            "_view_module": "@jupyter-widgets/controls",
            "_view_module_version": "1.5.0",
            "_view_name": "HTMLView",
            "description": "",
            "description_tooltip": null,
            "layout": "IPY_MODEL_46d320ca1ac945d29bdd76c196972a0c",
            "placeholder": "​",
            "style": "IPY_MODEL_cfbddd5f1698434a943e4f06fe430849",
            "value": "tokenizer.json: 100%"
          }
        },
        "5ca931ea01534d7091a9e3d72f2bde26": {
          "model_module": "@jupyter-widgets/controls",
          "model_name": "FloatProgressModel",
          "model_module_version": "1.5.0",
          "state": {
            "_dom_classes": [],
            "_model_module": "@jupyter-widgets/controls",
            "_model_module_version": "1.5.0",
            "_model_name": "FloatProgressModel",
            "_view_count": null,
            "_view_module": "@jupyter-widgets/controls",
            "_view_module_version": "1.5.0",
            "_view_name": "ProgressView",
            "bar_style": "success",
            "description": "",
            "description_tooltip": null,
            "layout": "IPY_MODEL_fa44c8418c5d44daa986bad7a0c93cc2",
            "max": 466247,
            "min": 0,
            "orientation": "horizontal",
            "style": "IPY_MODEL_1c7c32f3e4b74f18a72c6bdb4db52a36",
            "value": 466247
          }
        },
        "87209f68c56d442bbf2b48915f4e41eb": {
          "model_module": "@jupyter-widgets/controls",
          "model_name": "HTMLModel",
          "model_module_version": "1.5.0",
          "state": {
            "_dom_classes": [],
            "_model_module": "@jupyter-widgets/controls",
            "_model_module_version": "1.5.0",
            "_model_name": "HTMLModel",
            "_view_count": null,
            "_view_module": "@jupyter-widgets/controls",
            "_view_module_version": "1.5.0",
            "_view_name": "HTMLView",
            "description": "",
            "description_tooltip": null,
            "layout": "IPY_MODEL_cf58947620674a62bce9ba11971f9dcc",
            "placeholder": "​",
            "style": "IPY_MODEL_666b522b98b847b2ab33e25f08a9c130",
            "value": " 466k/466k [00:00&lt;00:00, 2.73MB/s]"
          }
        },
        "df0176c736a34173834ab309408f9270": {
          "model_module": "@jupyter-widgets/base",
          "model_name": "LayoutModel",
          "model_module_version": "1.2.0",
          "state": {
            "_model_module": "@jupyter-widgets/base",
            "_model_module_version": "1.2.0",
            "_model_name": "LayoutModel",
            "_view_count": null,
            "_view_module": "@jupyter-widgets/base",
            "_view_module_version": "1.2.0",
            "_view_name": "LayoutView",
            "align_content": null,
            "align_items": null,
            "align_self": null,
            "border": null,
            "bottom": null,
            "display": null,
            "flex": null,
            "flex_flow": null,
            "grid_area": null,
            "grid_auto_columns": null,
            "grid_auto_flow": null,
            "grid_auto_rows": null,
            "grid_column": null,
            "grid_gap": null,
            "grid_row": null,
            "grid_template_areas": null,
            "grid_template_columns": null,
            "grid_template_rows": null,
            "height": null,
            "justify_content": null,
            "justify_items": null,
            "left": null,
            "margin": null,
            "max_height": null,
            "max_width": null,
            "min_height": null,
            "min_width": null,
            "object_fit": null,
            "object_position": null,
            "order": null,
            "overflow": null,
            "overflow_x": null,
            "overflow_y": null,
            "padding": null,
            "right": null,
            "top": null,
            "visibility": null,
            "width": null
          }
        },
        "46d320ca1ac945d29bdd76c196972a0c": {
          "model_module": "@jupyter-widgets/base",
          "model_name": "LayoutModel",
          "model_module_version": "1.2.0",
          "state": {
            "_model_module": "@jupyter-widgets/base",
            "_model_module_version": "1.2.0",
            "_model_name": "LayoutModel",
            "_view_count": null,
            "_view_module": "@jupyter-widgets/base",
            "_view_module_version": "1.2.0",
            "_view_name": "LayoutView",
            "align_content": null,
            "align_items": null,
            "align_self": null,
            "border": null,
            "bottom": null,
            "display": null,
            "flex": null,
            "flex_flow": null,
            "grid_area": null,
            "grid_auto_columns": null,
            "grid_auto_flow": null,
            "grid_auto_rows": null,
            "grid_column": null,
            "grid_gap": null,
            "grid_row": null,
            "grid_template_areas": null,
            "grid_template_columns": null,
            "grid_template_rows": null,
            "height": null,
            "justify_content": null,
            "justify_items": null,
            "left": null,
            "margin": null,
            "max_height": null,
            "max_width": null,
            "min_height": null,
            "min_width": null,
            "object_fit": null,
            "object_position": null,
            "order": null,
            "overflow": null,
            "overflow_x": null,
            "overflow_y": null,
            "padding": null,
            "right": null,
            "top": null,
            "visibility": null,
            "width": null
          }
        },
        "cfbddd5f1698434a943e4f06fe430849": {
          "model_module": "@jupyter-widgets/controls",
          "model_name": "DescriptionStyleModel",
          "model_module_version": "1.5.0",
          "state": {
            "_model_module": "@jupyter-widgets/controls",
            "_model_module_version": "1.5.0",
            "_model_name": "DescriptionStyleModel",
            "_view_count": null,
            "_view_module": "@jupyter-widgets/base",
            "_view_module_version": "1.2.0",
            "_view_name": "StyleView",
            "description_width": ""
          }
        },
        "fa44c8418c5d44daa986bad7a0c93cc2": {
          "model_module": "@jupyter-widgets/base",
          "model_name": "LayoutModel",
          "model_module_version": "1.2.0",
          "state": {
            "_model_module": "@jupyter-widgets/base",
            "_model_module_version": "1.2.0",
            "_model_name": "LayoutModel",
            "_view_count": null,
            "_view_module": "@jupyter-widgets/base",
            "_view_module_version": "1.2.0",
            "_view_name": "LayoutView",
            "align_content": null,
            "align_items": null,
            "align_self": null,
            "border": null,
            "bottom": null,
            "display": null,
            "flex": null,
            "flex_flow": null,
            "grid_area": null,
            "grid_auto_columns": null,
            "grid_auto_flow": null,
            "grid_auto_rows": null,
            "grid_column": null,
            "grid_gap": null,
            "grid_row": null,
            "grid_template_areas": null,
            "grid_template_columns": null,
            "grid_template_rows": null,
            "height": null,
            "justify_content": null,
            "justify_items": null,
            "left": null,
            "margin": null,
            "max_height": null,
            "max_width": null,
            "min_height": null,
            "min_width": null,
            "object_fit": null,
            "object_position": null,
            "order": null,
            "overflow": null,
            "overflow_x": null,
            "overflow_y": null,
            "padding": null,
            "right": null,
            "top": null,
            "visibility": null,
            "width": null
          }
        },
        "1c7c32f3e4b74f18a72c6bdb4db52a36": {
          "model_module": "@jupyter-widgets/controls",
          "model_name": "ProgressStyleModel",
          "model_module_version": "1.5.0",
          "state": {
            "_model_module": "@jupyter-widgets/controls",
            "_model_module_version": "1.5.0",
            "_model_name": "ProgressStyleModel",
            "_view_count": null,
            "_view_module": "@jupyter-widgets/base",
            "_view_module_version": "1.2.0",
            "_view_name": "StyleView",
            "bar_color": null,
            "description_width": ""
          }
        },
        "cf58947620674a62bce9ba11971f9dcc": {
          "model_module": "@jupyter-widgets/base",
          "model_name": "LayoutModel",
          "model_module_version": "1.2.0",
          "state": {
            "_model_module": "@jupyter-widgets/base",
            "_model_module_version": "1.2.0",
            "_model_name": "LayoutModel",
            "_view_count": null,
            "_view_module": "@jupyter-widgets/base",
            "_view_module_version": "1.2.0",
            "_view_name": "LayoutView",
            "align_content": null,
            "align_items": null,
            "align_self": null,
            "border": null,
            "bottom": null,
            "display": null,
            "flex": null,
            "flex_flow": null,
            "grid_area": null,
            "grid_auto_columns": null,
            "grid_auto_flow": null,
            "grid_auto_rows": null,
            "grid_column": null,
            "grid_gap": null,
            "grid_row": null,
            "grid_template_areas": null,
            "grid_template_columns": null,
            "grid_template_rows": null,
            "height": null,
            "justify_content": null,
            "justify_items": null,
            "left": null,
            "margin": null,
            "max_height": null,
            "max_width": null,
            "min_height": null,
            "min_width": null,
            "object_fit": null,
            "object_position": null,
            "order": null,
            "overflow": null,
            "overflow_x": null,
            "overflow_y": null,
            "padding": null,
            "right": null,
            "top": null,
            "visibility": null,
            "width": null
          }
        },
        "666b522b98b847b2ab33e25f08a9c130": {
          "model_module": "@jupyter-widgets/controls",
          "model_name": "DescriptionStyleModel",
          "model_module_version": "1.5.0",
          "state": {
            "_model_module": "@jupyter-widgets/controls",
            "_model_module_version": "1.5.0",
            "_model_name": "DescriptionStyleModel",
            "_view_count": null,
            "_view_module": "@jupyter-widgets/base",
            "_view_module_version": "1.2.0",
            "_view_name": "StyleView",
            "description_width": ""
          }
        },
        "8cade967c44b4a75891ab2929933ec7e": {
          "model_module": "@jupyter-widgets/controls",
          "model_name": "HBoxModel",
          "model_module_version": "1.5.0",
          "state": {
            "_dom_classes": [],
            "_model_module": "@jupyter-widgets/controls",
            "_model_module_version": "1.5.0",
            "_model_name": "HBoxModel",
            "_view_count": null,
            "_view_module": "@jupyter-widgets/controls",
            "_view_module_version": "1.5.0",
            "_view_name": "HBoxView",
            "box_style": "",
            "children": [
              "IPY_MODEL_7b8c6592dad849be8c18fab2d7797bfe",
              "IPY_MODEL_8ec0b7d8b5984404be8f7efd358d57a3",
              "IPY_MODEL_bd25f03152ab4081bf123cc48b441818"
            ],
            "layout": "IPY_MODEL_fbc36101f4de4f50b78e718717eb2548"
          }
        },
        "7b8c6592dad849be8c18fab2d7797bfe": {
          "model_module": "@jupyter-widgets/controls",
          "model_name": "HTMLModel",
          "model_module_version": "1.5.0",
          "state": {
            "_dom_classes": [],
            "_model_module": "@jupyter-widgets/controls",
            "_model_module_version": "1.5.0",
            "_model_name": "HTMLModel",
            "_view_count": null,
            "_view_module": "@jupyter-widgets/controls",
            "_view_module_version": "1.5.0",
            "_view_name": "HTMLView",
            "description": "",
            "description_tooltip": null,
            "layout": "IPY_MODEL_f81f5457ddf24fcd96d8f37a77b8078e",
            "placeholder": "​",
            "style": "IPY_MODEL_f74548548c98408d95069e920d95b4e7",
            "value": "special_tokens_map.json: 100%"
          }
        },
        "8ec0b7d8b5984404be8f7efd358d57a3": {
          "model_module": "@jupyter-widgets/controls",
          "model_name": "FloatProgressModel",
          "model_module_version": "1.5.0",
          "state": {
            "_dom_classes": [],
            "_model_module": "@jupyter-widgets/controls",
            "_model_module_version": "1.5.0",
            "_model_name": "FloatProgressModel",
            "_view_count": null,
            "_view_module": "@jupyter-widgets/controls",
            "_view_module_version": "1.5.0",
            "_view_name": "ProgressView",
            "bar_style": "success",
            "description": "",
            "description_tooltip": null,
            "layout": "IPY_MODEL_d8d695c21f1749398d07bad51f7cec4f",
            "max": 112,
            "min": 0,
            "orientation": "horizontal",
            "style": "IPY_MODEL_9d6c76d3d76c4c9c873e744a80c81084",
            "value": 112
          }
        },
        "bd25f03152ab4081bf123cc48b441818": {
          "model_module": "@jupyter-widgets/controls",
          "model_name": "HTMLModel",
          "model_module_version": "1.5.0",
          "state": {
            "_dom_classes": [],
            "_model_module": "@jupyter-widgets/controls",
            "_model_module_version": "1.5.0",
            "_model_name": "HTMLModel",
            "_view_count": null,
            "_view_module": "@jupyter-widgets/controls",
            "_view_module_version": "1.5.0",
            "_view_name": "HTMLView",
            "description": "",
            "description_tooltip": null,
            "layout": "IPY_MODEL_dc12d1e1f06d4946825822248e193c50",
            "placeholder": "​",
            "style": "IPY_MODEL_d087305a99224357a5d209e3cb98cc00",
            "value": " 112/112 [00:00&lt;00:00, 4.67kB/s]"
          }
        },
        "fbc36101f4de4f50b78e718717eb2548": {
          "model_module": "@jupyter-widgets/base",
          "model_name": "LayoutModel",
          "model_module_version": "1.2.0",
          "state": {
            "_model_module": "@jupyter-widgets/base",
            "_model_module_version": "1.2.0",
            "_model_name": "LayoutModel",
            "_view_count": null,
            "_view_module": "@jupyter-widgets/base",
            "_view_module_version": "1.2.0",
            "_view_name": "LayoutView",
            "align_content": null,
            "align_items": null,
            "align_self": null,
            "border": null,
            "bottom": null,
            "display": null,
            "flex": null,
            "flex_flow": null,
            "grid_area": null,
            "grid_auto_columns": null,
            "grid_auto_flow": null,
            "grid_auto_rows": null,
            "grid_column": null,
            "grid_gap": null,
            "grid_row": null,
            "grid_template_areas": null,
            "grid_template_columns": null,
            "grid_template_rows": null,
            "height": null,
            "justify_content": null,
            "justify_items": null,
            "left": null,
            "margin": null,
            "max_height": null,
            "max_width": null,
            "min_height": null,
            "min_width": null,
            "object_fit": null,
            "object_position": null,
            "order": null,
            "overflow": null,
            "overflow_x": null,
            "overflow_y": null,
            "padding": null,
            "right": null,
            "top": null,
            "visibility": null,
            "width": null
          }
        },
        "f81f5457ddf24fcd96d8f37a77b8078e": {
          "model_module": "@jupyter-widgets/base",
          "model_name": "LayoutModel",
          "model_module_version": "1.2.0",
          "state": {
            "_model_module": "@jupyter-widgets/base",
            "_model_module_version": "1.2.0",
            "_model_name": "LayoutModel",
            "_view_count": null,
            "_view_module": "@jupyter-widgets/base",
            "_view_module_version": "1.2.0",
            "_view_name": "LayoutView",
            "align_content": null,
            "align_items": null,
            "align_self": null,
            "border": null,
            "bottom": null,
            "display": null,
            "flex": null,
            "flex_flow": null,
            "grid_area": null,
            "grid_auto_columns": null,
            "grid_auto_flow": null,
            "grid_auto_rows": null,
            "grid_column": null,
            "grid_gap": null,
            "grid_row": null,
            "grid_template_areas": null,
            "grid_template_columns": null,
            "grid_template_rows": null,
            "height": null,
            "justify_content": null,
            "justify_items": null,
            "left": null,
            "margin": null,
            "max_height": null,
            "max_width": null,
            "min_height": null,
            "min_width": null,
            "object_fit": null,
            "object_position": null,
            "order": null,
            "overflow": null,
            "overflow_x": null,
            "overflow_y": null,
            "padding": null,
            "right": null,
            "top": null,
            "visibility": null,
            "width": null
          }
        },
        "f74548548c98408d95069e920d95b4e7": {
          "model_module": "@jupyter-widgets/controls",
          "model_name": "DescriptionStyleModel",
          "model_module_version": "1.5.0",
          "state": {
            "_model_module": "@jupyter-widgets/controls",
            "_model_module_version": "1.5.0",
            "_model_name": "DescriptionStyleModel",
            "_view_count": null,
            "_view_module": "@jupyter-widgets/base",
            "_view_module_version": "1.2.0",
            "_view_name": "StyleView",
            "description_width": ""
          }
        },
        "d8d695c21f1749398d07bad51f7cec4f": {
          "model_module": "@jupyter-widgets/base",
          "model_name": "LayoutModel",
          "model_module_version": "1.2.0",
          "state": {
            "_model_module": "@jupyter-widgets/base",
            "_model_module_version": "1.2.0",
            "_model_name": "LayoutModel",
            "_view_count": null,
            "_view_module": "@jupyter-widgets/base",
            "_view_module_version": "1.2.0",
            "_view_name": "LayoutView",
            "align_content": null,
            "align_items": null,
            "align_self": null,
            "border": null,
            "bottom": null,
            "display": null,
            "flex": null,
            "flex_flow": null,
            "grid_area": null,
            "grid_auto_columns": null,
            "grid_auto_flow": null,
            "grid_auto_rows": null,
            "grid_column": null,
            "grid_gap": null,
            "grid_row": null,
            "grid_template_areas": null,
            "grid_template_columns": null,
            "grid_template_rows": null,
            "height": null,
            "justify_content": null,
            "justify_items": null,
            "left": null,
            "margin": null,
            "max_height": null,
            "max_width": null,
            "min_height": null,
            "min_width": null,
            "object_fit": null,
            "object_position": null,
            "order": null,
            "overflow": null,
            "overflow_x": null,
            "overflow_y": null,
            "padding": null,
            "right": null,
            "top": null,
            "visibility": null,
            "width": null
          }
        },
        "9d6c76d3d76c4c9c873e744a80c81084": {
          "model_module": "@jupyter-widgets/controls",
          "model_name": "ProgressStyleModel",
          "model_module_version": "1.5.0",
          "state": {
            "_model_module": "@jupyter-widgets/controls",
            "_model_module_version": "1.5.0",
            "_model_name": "ProgressStyleModel",
            "_view_count": null,
            "_view_module": "@jupyter-widgets/base",
            "_view_module_version": "1.2.0",
            "_view_name": "StyleView",
            "bar_color": null,
            "description_width": ""
          }
        },
        "dc12d1e1f06d4946825822248e193c50": {
          "model_module": "@jupyter-widgets/base",
          "model_name": "LayoutModel",
          "model_module_version": "1.2.0",
          "state": {
            "_model_module": "@jupyter-widgets/base",
            "_model_module_version": "1.2.0",
            "_model_name": "LayoutModel",
            "_view_count": null,
            "_view_module": "@jupyter-widgets/base",
            "_view_module_version": "1.2.0",
            "_view_name": "LayoutView",
            "align_content": null,
            "align_items": null,
            "align_self": null,
            "border": null,
            "bottom": null,
            "display": null,
            "flex": null,
            "flex_flow": null,
            "grid_area": null,
            "grid_auto_columns": null,
            "grid_auto_flow": null,
            "grid_auto_rows": null,
            "grid_column": null,
            "grid_gap": null,
            "grid_row": null,
            "grid_template_areas": null,
            "grid_template_columns": null,
            "grid_template_rows": null,
            "height": null,
            "justify_content": null,
            "justify_items": null,
            "left": null,
            "margin": null,
            "max_height": null,
            "max_width": null,
            "min_height": null,
            "min_width": null,
            "object_fit": null,
            "object_position": null,
            "order": null,
            "overflow": null,
            "overflow_x": null,
            "overflow_y": null,
            "padding": null,
            "right": null,
            "top": null,
            "visibility": null,
            "width": null
          }
        },
        "d087305a99224357a5d209e3cb98cc00": {
          "model_module": "@jupyter-widgets/controls",
          "model_name": "DescriptionStyleModel",
          "model_module_version": "1.5.0",
          "state": {
            "_model_module": "@jupyter-widgets/controls",
            "_model_module_version": "1.5.0",
            "_model_name": "DescriptionStyleModel",
            "_view_count": null,
            "_view_module": "@jupyter-widgets/base",
            "_view_module_version": "1.2.0",
            "_view_name": "StyleView",
            "description_width": ""
          }
        },
        "5f05297d5de040c4a4fa063ba67913fc": {
          "model_module": "@jupyter-widgets/controls",
          "model_name": "HBoxModel",
          "model_module_version": "1.5.0",
          "state": {
            "_dom_classes": [],
            "_model_module": "@jupyter-widgets/controls",
            "_model_module_version": "1.5.0",
            "_model_name": "HBoxModel",
            "_view_count": null,
            "_view_module": "@jupyter-widgets/controls",
            "_view_module_version": "1.5.0",
            "_view_name": "HBoxView",
            "box_style": "",
            "children": [
              "IPY_MODEL_9a8dd03a89d349f6b6c5990d9c643417",
              "IPY_MODEL_6f9c1fb935784463a612a2c4360940f7",
              "IPY_MODEL_290784550ca2496789735117a4a1ca61"
            ],
            "layout": "IPY_MODEL_a77dc8a5c7514f4ab1656e86f0ab1b5a"
          }
        },
        "9a8dd03a89d349f6b6c5990d9c643417": {
          "model_module": "@jupyter-widgets/controls",
          "model_name": "HTMLModel",
          "model_module_version": "1.5.0",
          "state": {
            "_dom_classes": [],
            "_model_module": "@jupyter-widgets/controls",
            "_model_module_version": "1.5.0",
            "_model_name": "HTMLModel",
            "_view_count": null,
            "_view_module": "@jupyter-widgets/controls",
            "_view_module_version": "1.5.0",
            "_view_name": "HTMLView",
            "description": "",
            "description_tooltip": null,
            "layout": "IPY_MODEL_2a55725c55bb4804b5a1d4c30354a365",
            "placeholder": "​",
            "style": "IPY_MODEL_738d1d41bd634757bf6a801d59b44dea",
            "value": "config.json: 100%"
          }
        },
        "6f9c1fb935784463a612a2c4360940f7": {
          "model_module": "@jupyter-widgets/controls",
          "model_name": "FloatProgressModel",
          "model_module_version": "1.5.0",
          "state": {
            "_dom_classes": [],
            "_model_module": "@jupyter-widgets/controls",
            "_model_module_version": "1.5.0",
            "_model_name": "FloatProgressModel",
            "_view_count": null,
            "_view_module": "@jupyter-widgets/controls",
            "_view_module_version": "1.5.0",
            "_view_name": "ProgressView",
            "bar_style": "success",
            "description": "",
            "description_tooltip": null,
            "layout": "IPY_MODEL_300343a253124ff89b5cdb17af797666",
            "max": 612,
            "min": 0,
            "orientation": "horizontal",
            "style": "IPY_MODEL_0e4243cac0794143a2c004ede04228f0",
            "value": 612
          }
        },
        "290784550ca2496789735117a4a1ca61": {
          "model_module": "@jupyter-widgets/controls",
          "model_name": "HTMLModel",
          "model_module_version": "1.5.0",
          "state": {
            "_dom_classes": [],
            "_model_module": "@jupyter-widgets/controls",
            "_model_module_version": "1.5.0",
            "_model_name": "HTMLModel",
            "_view_count": null,
            "_view_module": "@jupyter-widgets/controls",
            "_view_module_version": "1.5.0",
            "_view_name": "HTMLView",
            "description": "",
            "description_tooltip": null,
            "layout": "IPY_MODEL_50c1e5ccbe6a4003aa43625065e4f2a1",
            "placeholder": "​",
            "style": "IPY_MODEL_4d923d05c5ce449eba38d782cb86bfb5",
            "value": " 612/612 [00:00&lt;00:00, 18.6kB/s]"
          }
        },
        "a77dc8a5c7514f4ab1656e86f0ab1b5a": {
          "model_module": "@jupyter-widgets/base",
          "model_name": "LayoutModel",
          "model_module_version": "1.2.0",
          "state": {
            "_model_module": "@jupyter-widgets/base",
            "_model_module_version": "1.2.0",
            "_model_name": "LayoutModel",
            "_view_count": null,
            "_view_module": "@jupyter-widgets/base",
            "_view_module_version": "1.2.0",
            "_view_name": "LayoutView",
            "align_content": null,
            "align_items": null,
            "align_self": null,
            "border": null,
            "bottom": null,
            "display": null,
            "flex": null,
            "flex_flow": null,
            "grid_area": null,
            "grid_auto_columns": null,
            "grid_auto_flow": null,
            "grid_auto_rows": null,
            "grid_column": null,
            "grid_gap": null,
            "grid_row": null,
            "grid_template_areas": null,
            "grid_template_columns": null,
            "grid_template_rows": null,
            "height": null,
            "justify_content": null,
            "justify_items": null,
            "left": null,
            "margin": null,
            "max_height": null,
            "max_width": null,
            "min_height": null,
            "min_width": null,
            "object_fit": null,
            "object_position": null,
            "order": null,
            "overflow": null,
            "overflow_x": null,
            "overflow_y": null,
            "padding": null,
            "right": null,
            "top": null,
            "visibility": null,
            "width": null
          }
        },
        "2a55725c55bb4804b5a1d4c30354a365": {
          "model_module": "@jupyter-widgets/base",
          "model_name": "LayoutModel",
          "model_module_version": "1.2.0",
          "state": {
            "_model_module": "@jupyter-widgets/base",
            "_model_module_version": "1.2.0",
            "_model_name": "LayoutModel",
            "_view_count": null,
            "_view_module": "@jupyter-widgets/base",
            "_view_module_version": "1.2.0",
            "_view_name": "LayoutView",
            "align_content": null,
            "align_items": null,
            "align_self": null,
            "border": null,
            "bottom": null,
            "display": null,
            "flex": null,
            "flex_flow": null,
            "grid_area": null,
            "grid_auto_columns": null,
            "grid_auto_flow": null,
            "grid_auto_rows": null,
            "grid_column": null,
            "grid_gap": null,
            "grid_row": null,
            "grid_template_areas": null,
            "grid_template_columns": null,
            "grid_template_rows": null,
            "height": null,
            "justify_content": null,
            "justify_items": null,
            "left": null,
            "margin": null,
            "max_height": null,
            "max_width": null,
            "min_height": null,
            "min_width": null,
            "object_fit": null,
            "object_position": null,
            "order": null,
            "overflow": null,
            "overflow_x": null,
            "overflow_y": null,
            "padding": null,
            "right": null,
            "top": null,
            "visibility": null,
            "width": null
          }
        },
        "738d1d41bd634757bf6a801d59b44dea": {
          "model_module": "@jupyter-widgets/controls",
          "model_name": "DescriptionStyleModel",
          "model_module_version": "1.5.0",
          "state": {
            "_model_module": "@jupyter-widgets/controls",
            "_model_module_version": "1.5.0",
            "_model_name": "DescriptionStyleModel",
            "_view_count": null,
            "_view_module": "@jupyter-widgets/base",
            "_view_module_version": "1.2.0",
            "_view_name": "StyleView",
            "description_width": ""
          }
        },
        "300343a253124ff89b5cdb17af797666": {
          "model_module": "@jupyter-widgets/base",
          "model_name": "LayoutModel",
          "model_module_version": "1.2.0",
          "state": {
            "_model_module": "@jupyter-widgets/base",
            "_model_module_version": "1.2.0",
            "_model_name": "LayoutModel",
            "_view_count": null,
            "_view_module": "@jupyter-widgets/base",
            "_view_module_version": "1.2.0",
            "_view_name": "LayoutView",
            "align_content": null,
            "align_items": null,
            "align_self": null,
            "border": null,
            "bottom": null,
            "display": null,
            "flex": null,
            "flex_flow": null,
            "grid_area": null,
            "grid_auto_columns": null,
            "grid_auto_flow": null,
            "grid_auto_rows": null,
            "grid_column": null,
            "grid_gap": null,
            "grid_row": null,
            "grid_template_areas": null,
            "grid_template_columns": null,
            "grid_template_rows": null,
            "height": null,
            "justify_content": null,
            "justify_items": null,
            "left": null,
            "margin": null,
            "max_height": null,
            "max_width": null,
            "min_height": null,
            "min_width": null,
            "object_fit": null,
            "object_position": null,
            "order": null,
            "overflow": null,
            "overflow_x": null,
            "overflow_y": null,
            "padding": null,
            "right": null,
            "top": null,
            "visibility": null,
            "width": null
          }
        },
        "0e4243cac0794143a2c004ede04228f0": {
          "model_module": "@jupyter-widgets/controls",
          "model_name": "ProgressStyleModel",
          "model_module_version": "1.5.0",
          "state": {
            "_model_module": "@jupyter-widgets/controls",
            "_model_module_version": "1.5.0",
            "_model_name": "ProgressStyleModel",
            "_view_count": null,
            "_view_module": "@jupyter-widgets/base",
            "_view_module_version": "1.2.0",
            "_view_name": "StyleView",
            "bar_color": null,
            "description_width": ""
          }
        },
        "50c1e5ccbe6a4003aa43625065e4f2a1": {
          "model_module": "@jupyter-widgets/base",
          "model_name": "LayoutModel",
          "model_module_version": "1.2.0",
          "state": {
            "_model_module": "@jupyter-widgets/base",
            "_model_module_version": "1.2.0",
            "_model_name": "LayoutModel",
            "_view_count": null,
            "_view_module": "@jupyter-widgets/base",
            "_view_module_version": "1.2.0",
            "_view_name": "LayoutView",
            "align_content": null,
            "align_items": null,
            "align_self": null,
            "border": null,
            "bottom": null,
            "display": null,
            "flex": null,
            "flex_flow": null,
            "grid_area": null,
            "grid_auto_columns": null,
            "grid_auto_flow": null,
            "grid_auto_rows": null,
            "grid_column": null,
            "grid_gap": null,
            "grid_row": null,
            "grid_template_areas": null,
            "grid_template_columns": null,
            "grid_template_rows": null,
            "height": null,
            "justify_content": null,
            "justify_items": null,
            "left": null,
            "margin": null,
            "max_height": null,
            "max_width": null,
            "min_height": null,
            "min_width": null,
            "object_fit": null,
            "object_position": null,
            "order": null,
            "overflow": null,
            "overflow_x": null,
            "overflow_y": null,
            "padding": null,
            "right": null,
            "top": null,
            "visibility": null,
            "width": null
          }
        },
        "4d923d05c5ce449eba38d782cb86bfb5": {
          "model_module": "@jupyter-widgets/controls",
          "model_name": "DescriptionStyleModel",
          "model_module_version": "1.5.0",
          "state": {
            "_model_module": "@jupyter-widgets/controls",
            "_model_module_version": "1.5.0",
            "_model_name": "DescriptionStyleModel",
            "_view_count": null,
            "_view_module": "@jupyter-widgets/base",
            "_view_module_version": "1.2.0",
            "_view_name": "StyleView",
            "description_width": ""
          }
        },
        "7e291cc38c274a7587e9c15b7afb3608": {
          "model_module": "@jupyter-widgets/controls",
          "model_name": "HBoxModel",
          "model_module_version": "1.5.0",
          "state": {
            "_dom_classes": [],
            "_model_module": "@jupyter-widgets/controls",
            "_model_module_version": "1.5.0",
            "_model_name": "HBoxModel",
            "_view_count": null,
            "_view_module": "@jupyter-widgets/controls",
            "_view_module_version": "1.5.0",
            "_view_name": "HBoxView",
            "box_style": "",
            "children": [
              "IPY_MODEL_6cc443e25ffb4531b182d8322ad57b11",
              "IPY_MODEL_51b328a27ed64dd6968d476dc2029c36",
              "IPY_MODEL_7aed1d9e45e54bae9d7d13033062d3f0"
            ],
            "layout": "IPY_MODEL_36b43c64aa974485923205f18a0b8f43"
          }
        },
        "6cc443e25ffb4531b182d8322ad57b11": {
          "model_module": "@jupyter-widgets/controls",
          "model_name": "HTMLModel",
          "model_module_version": "1.5.0",
          "state": {
            "_dom_classes": [],
            "_model_module": "@jupyter-widgets/controls",
            "_model_module_version": "1.5.0",
            "_model_name": "HTMLModel",
            "_view_count": null,
            "_view_module": "@jupyter-widgets/controls",
            "_view_module_version": "1.5.0",
            "_view_name": "HTMLView",
            "description": "",
            "description_tooltip": null,
            "layout": "IPY_MODEL_ad163584b1ff4a0a821baa8c756b7a07",
            "placeholder": "​",
            "style": "IPY_MODEL_de9a953e01c94a8d908576ad13b6cdf1",
            "value": "model.safetensors: 100%"
          }
        },
        "51b328a27ed64dd6968d476dc2029c36": {
          "model_module": "@jupyter-widgets/controls",
          "model_name": "FloatProgressModel",
          "model_module_version": "1.5.0",
          "state": {
            "_dom_classes": [],
            "_model_module": "@jupyter-widgets/controls",
            "_model_module_version": "1.5.0",
            "_model_name": "FloatProgressModel",
            "_view_count": null,
            "_view_module": "@jupyter-widgets/controls",
            "_view_module_version": "1.5.0",
            "_view_name": "ProgressView",
            "bar_style": "success",
            "description": "",
            "description_tooltip": null,
            "layout": "IPY_MODEL_7cbf50d46b5746a3943ecd5bd7ad6d5f",
            "max": 90868376,
            "min": 0,
            "orientation": "horizontal",
            "style": "IPY_MODEL_84ff646dc68040d1897dde30bcbbfb4d",
            "value": 90868376
          }
        },
        "7aed1d9e45e54bae9d7d13033062d3f0": {
          "model_module": "@jupyter-widgets/controls",
          "model_name": "HTMLModel",
          "model_module_version": "1.5.0",
          "state": {
            "_dom_classes": [],
            "_model_module": "@jupyter-widgets/controls",
            "_model_module_version": "1.5.0",
            "_model_name": "HTMLModel",
            "_view_count": null,
            "_view_module": "@jupyter-widgets/controls",
            "_view_module_version": "1.5.0",
            "_view_name": "HTMLView",
            "description": "",
            "description_tooltip": null,
            "layout": "IPY_MODEL_31ba8bc71590480aa048c7b54def8a67",
            "placeholder": "​",
            "style": "IPY_MODEL_85251b241a17486da358bf3cc6b029d2",
            "value": " 90.9M/90.9M [00:00&lt;00:00, 281MB/s]"
          }
        },
        "36b43c64aa974485923205f18a0b8f43": {
          "model_module": "@jupyter-widgets/base",
          "model_name": "LayoutModel",
          "model_module_version": "1.2.0",
          "state": {
            "_model_module": "@jupyter-widgets/base",
            "_model_module_version": "1.2.0",
            "_model_name": "LayoutModel",
            "_view_count": null,
            "_view_module": "@jupyter-widgets/base",
            "_view_module_version": "1.2.0",
            "_view_name": "LayoutView",
            "align_content": null,
            "align_items": null,
            "align_self": null,
            "border": null,
            "bottom": null,
            "display": null,
            "flex": null,
            "flex_flow": null,
            "grid_area": null,
            "grid_auto_columns": null,
            "grid_auto_flow": null,
            "grid_auto_rows": null,
            "grid_column": null,
            "grid_gap": null,
            "grid_row": null,
            "grid_template_areas": null,
            "grid_template_columns": null,
            "grid_template_rows": null,
            "height": null,
            "justify_content": null,
            "justify_items": null,
            "left": null,
            "margin": null,
            "max_height": null,
            "max_width": null,
            "min_height": null,
            "min_width": null,
            "object_fit": null,
            "object_position": null,
            "order": null,
            "overflow": null,
            "overflow_x": null,
            "overflow_y": null,
            "padding": null,
            "right": null,
            "top": null,
            "visibility": null,
            "width": null
          }
        },
        "ad163584b1ff4a0a821baa8c756b7a07": {
          "model_module": "@jupyter-widgets/base",
          "model_name": "LayoutModel",
          "model_module_version": "1.2.0",
          "state": {
            "_model_module": "@jupyter-widgets/base",
            "_model_module_version": "1.2.0",
            "_model_name": "LayoutModel",
            "_view_count": null,
            "_view_module": "@jupyter-widgets/base",
            "_view_module_version": "1.2.0",
            "_view_name": "LayoutView",
            "align_content": null,
            "align_items": null,
            "align_self": null,
            "border": null,
            "bottom": null,
            "display": null,
            "flex": null,
            "flex_flow": null,
            "grid_area": null,
            "grid_auto_columns": null,
            "grid_auto_flow": null,
            "grid_auto_rows": null,
            "grid_column": null,
            "grid_gap": null,
            "grid_row": null,
            "grid_template_areas": null,
            "grid_template_columns": null,
            "grid_template_rows": null,
            "height": null,
            "justify_content": null,
            "justify_items": null,
            "left": null,
            "margin": null,
            "max_height": null,
            "max_width": null,
            "min_height": null,
            "min_width": null,
            "object_fit": null,
            "object_position": null,
            "order": null,
            "overflow": null,
            "overflow_x": null,
            "overflow_y": null,
            "padding": null,
            "right": null,
            "top": null,
            "visibility": null,
            "width": null
          }
        },
        "de9a953e01c94a8d908576ad13b6cdf1": {
          "model_module": "@jupyter-widgets/controls",
          "model_name": "DescriptionStyleModel",
          "model_module_version": "1.5.0",
          "state": {
            "_model_module": "@jupyter-widgets/controls",
            "_model_module_version": "1.5.0",
            "_model_name": "DescriptionStyleModel",
            "_view_count": null,
            "_view_module": "@jupyter-widgets/base",
            "_view_module_version": "1.2.0",
            "_view_name": "StyleView",
            "description_width": ""
          }
        },
        "7cbf50d46b5746a3943ecd5bd7ad6d5f": {
          "model_module": "@jupyter-widgets/base",
          "model_name": "LayoutModel",
          "model_module_version": "1.2.0",
          "state": {
            "_model_module": "@jupyter-widgets/base",
            "_model_module_version": "1.2.0",
            "_model_name": "LayoutModel",
            "_view_count": null,
            "_view_module": "@jupyter-widgets/base",
            "_view_module_version": "1.2.0",
            "_view_name": "LayoutView",
            "align_content": null,
            "align_items": null,
            "align_self": null,
            "border": null,
            "bottom": null,
            "display": null,
            "flex": null,
            "flex_flow": null,
            "grid_area": null,
            "grid_auto_columns": null,
            "grid_auto_flow": null,
            "grid_auto_rows": null,
            "grid_column": null,
            "grid_gap": null,
            "grid_row": null,
            "grid_template_areas": null,
            "grid_template_columns": null,
            "grid_template_rows": null,
            "height": null,
            "justify_content": null,
            "justify_items": null,
            "left": null,
            "margin": null,
            "max_height": null,
            "max_width": null,
            "min_height": null,
            "min_width": null,
            "object_fit": null,
            "object_position": null,
            "order": null,
            "overflow": null,
            "overflow_x": null,
            "overflow_y": null,
            "padding": null,
            "right": null,
            "top": null,
            "visibility": null,
            "width": null
          }
        },
        "84ff646dc68040d1897dde30bcbbfb4d": {
          "model_module": "@jupyter-widgets/controls",
          "model_name": "ProgressStyleModel",
          "model_module_version": "1.5.0",
          "state": {
            "_model_module": "@jupyter-widgets/controls",
            "_model_module_version": "1.5.0",
            "_model_name": "ProgressStyleModel",
            "_view_count": null,
            "_view_module": "@jupyter-widgets/base",
            "_view_module_version": "1.2.0",
            "_view_name": "StyleView",
            "bar_color": null,
            "description_width": ""
          }
        },
        "31ba8bc71590480aa048c7b54def8a67": {
          "model_module": "@jupyter-widgets/base",
          "model_name": "LayoutModel",
          "model_module_version": "1.2.0",
          "state": {
            "_model_module": "@jupyter-widgets/base",
            "_model_module_version": "1.2.0",
            "_model_name": "LayoutModel",
            "_view_count": null,
            "_view_module": "@jupyter-widgets/base",
            "_view_module_version": "1.2.0",
            "_view_name": "LayoutView",
            "align_content": null,
            "align_items": null,
            "align_self": null,
            "border": null,
            "bottom": null,
            "display": null,
            "flex": null,
            "flex_flow": null,
            "grid_area": null,
            "grid_auto_columns": null,
            "grid_auto_flow": null,
            "grid_auto_rows": null,
            "grid_column": null,
            "grid_gap": null,
            "grid_row": null,
            "grid_template_areas": null,
            "grid_template_columns": null,
            "grid_template_rows": null,
            "height": null,
            "justify_content": null,
            "justify_items": null,
            "left": null,
            "margin": null,
            "max_height": null,
            "max_width": null,
            "min_height": null,
            "min_width": null,
            "object_fit": null,
            "object_position": null,
            "order": null,
            "overflow": null,
            "overflow_x": null,
            "overflow_y": null,
            "padding": null,
            "right": null,
            "top": null,
            "visibility": null,
            "width": null
          }
        },
        "85251b241a17486da358bf3cc6b029d2": {
          "model_module": "@jupyter-widgets/controls",
          "model_name": "DescriptionStyleModel",
          "model_module_version": "1.5.0",
          "state": {
            "_model_module": "@jupyter-widgets/controls",
            "_model_module_version": "1.5.0",
            "_model_name": "DescriptionStyleModel",
            "_view_count": null,
            "_view_module": "@jupyter-widgets/base",
            "_view_module_version": "1.2.0",
            "_view_name": "StyleView",
            "description_width": ""
          }
        }
      }
    }
  },
  "nbformat": 4,
  "nbformat_minor": 0
}